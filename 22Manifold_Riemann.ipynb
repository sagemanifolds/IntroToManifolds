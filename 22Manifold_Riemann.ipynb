{
 "cells": [
  {
   "cell_type": "markdown",
   "metadata": {},
   "source": [
    "# 22. Riemannian and pseudo-Riemannian manifolds\n",
    "\n",
    "This notebook is part of the [Introduction to manifolds in SageMath](https://sagemanifolds.obspm.fr/intro_to_manifolds.html) by Andrzej Chrzeszczyk (Jan Kochanowski University of Kielce, Poland)."
   ]
  },
  {
   "cell_type": "code",
   "execution_count": 1,
   "metadata": {},
   "outputs": [
    {
     "data": {
      "text/plain": [
       "'SageMath version 9.6, Release Date: 2022-05-15'"
      ]
     },
     "execution_count": 1,
     "metadata": {},
     "output_type": "execute_result"
    }
   ],
   "source": [
    "version()"
   ]
  },
  {
   "cell_type": "markdown",
   "metadata": {},
   "source": [
    "Let $M$ be a smooth manifold and $g$ a covariant tensor field of rank two: $g\\in T^{(0,2)}M.$ We call $g$ **symmetric** if\n",
    "$$g_p(X_p,Y_p)=g_p(Y_p,X_p)\\quad \\text{for } X_p,Y_p\\in T_pM,\\ p\\in M.$$\n",
    "\n",
    "We call $g$ **positive definite** if \n",
    "$$g_p(X_p,X_p)\\geq 0\\quad \\text{for all}\\  X_p\\in T_pM,\\ p\\in M$$ and \n",
    "$$g_p(X_p,X_p)=0\\quad \\text{implies } X_p=0_p\\in T_pM.\n",
    "$$\n",
    "\n",
    "The tensor field $g$ is **non-singular** if for all $p\\in M$\n",
    "\n",
    "$$g_p(X_p,Y_p)=0\\quad \\text{for all } Y_p\\in T_pM\\quad \\text{implies } X_p=0_p\\in T_pM.\n",
    "$$\n",
    "\n",
    "Note that the positive-definitness implies the non-singularity:<br>\n",
    "if $g_p(X_p,Y_p)=0\\quad \\text{for all }  Y_p\\in T_pM,\\ $ then \n",
    "$\\ g_p(X_p,X_p)=0\\ $ and consequently $X_p=0_p$."
   ]
  },
  {
   "cell_type": "markdown",
   "metadata": {},
   "source": [
    "A **pseudo-Riemannian manifold** is a smooth manifold $M$ with a non-singular, symmetric, smooth tensor field $g\\in T^{(0,2)}M$, called **metric** of $M$.\n",
    "\n",
    "If the metric is positive definite we use the name **Riemannian manifold**."
   ]
  },
  {
   "cell_type": "markdown",
   "metadata": {},
   "source": [
    "<br>\n",
    "\n",
    "**Example 22.1**\n",
    "\n",
    "Metric method in SageMath Manifold:"
   ]
  },
  {
   "cell_type": "code",
   "execution_count": 2,
   "metadata": {},
   "outputs": [
    {
     "data": {
      "text/plain": [
       "2-dimensional Riemannian manifold M"
      ]
     },
     "execution_count": 2,
     "metadata": {},
     "output_type": "execute_result"
    }
   ],
   "source": [
    "                       # Riemannian manifold M\n",
    "M = Manifold(2, 'M', structure='Riemannian');M"
   ]
  },
  {
   "cell_type": "code",
   "execution_count": 3,
   "metadata": {},
   "outputs": [
    {
     "data": {
      "text/plain": [
       "Riemannian metric g on the 2-dimensional Riemannian manifold M"
      ]
     },
     "execution_count": 3,
     "metadata": {},
     "output_type": "execute_result"
    }
   ],
   "source": [
    "g = M.metric();g       # metric on M"
   ]
  },
  {
   "cell_type": "markdown",
   "metadata": {},
   "source": [
    "<br>\n",
    "\n",
    "In a Riemannian manifold, $M$, with a metric $g$, the bilinear form $g_p(\\cdot,\\cdot)$ is an **inner product on** $T_pM$. The **norm or length** of a tangent vector $X_p ∈ T_p M$ is defined by \n",
    "\n",
    "\\begin{equation}\n",
    "\\|X_p\\| = \\sqrt{g_p (X_p , X_p )},\n",
    "\\tag{22.1}\n",
    "\\end{equation}\n",
    "\n",
    "and the **length of a curve** $\\gamma : [a, b] → M$ is defined by\n",
    "\n",
    "\\begin{equation}\n",
    "L_\\gamma=\\int_a^b\\|\\gamma'_t\\|dt.\n",
    "\\tag{22.2}\n",
    "\\end{equation}\n",
    "\n",
    "If $M$ is a Riemannian manifold and $(x^1,\\ldots,x^n)$ are local coordinates, then the metric is given by\n",
    "\n",
    "\\begin{equation}\n",
    "g = g_{i j} dx^i ⊗ dx^j,\n",
    "\\tag{22.3}\n",
    "\\end{equation}\n",
    "\n",
    "where $g_{ij}=g(\\frac{\\partial}{\\partial x^i},\\frac{\\partial}{\\partial x^j})$ (this is a special case of (13.7) ).\n",
    "\n",
    "\n",
    "The  **standard metric on $R^n$** with Cartesian coordinates is defined by\n",
    "\n",
    "\\begin{equation}\n",
    "g = \\delta_{ij}dx^i\\otimes dx^j=dx^1 ⊗ dx^1  + · · · + dx^n ⊗ dx^n ,\n",
    "\\tag{22.4}\n",
    "\\end{equation}\n",
    "\n",
    "<br><br>\n",
    "**Example 22.2**\n",
    "\n",
    "Let us start from the standard metric in 2-dimensional Euclidean space"
   ]
  },
  {
   "cell_type": "code",
   "execution_count": 4,
   "metadata": {},
   "outputs": [
    {
     "data": {
      "text/plain": [
       "g = dx⊗dx + dy⊗dy"
      ]
     },
     "execution_count": 4,
     "metadata": {},
     "output_type": "execute_result"
    }
   ],
   "source": [
    "E.<x,y> = EuclideanSpace()  # Euclidean space E^2\n",
    "g=E.metric()                # standard metric on E^2\n",
    "g.disp()"
   ]
  },
  {
   "cell_type": "markdown",
   "metadata": {},
   "source": [
    "and use (22.2) to compute the length of the curve c defined in Cartesian coordinates by\n",
    "\n",
    "$$x(t)=\\sin(t),\\quad y(t)=\\sin(2t)/2,\\quad t\\in (0,2\\pi),$$\n",
    "\n",
    "(in simple cases the **exact** integral can be computed in SageMath, but **not in the present case**)."
   ]
  },
  {
   "cell_type": "code",
   "execution_count": 5,
   "metadata": {},
   "outputs": [
    {
     "data": {
      "text/plain": [
       "6.097223470104982"
      ]
     },
     "execution_count": 5,
     "metadata": {},
     "output_type": "execute_result"
    }
   ],
   "source": [
    "E.<x,y> = EuclideanSpace()  # Euclidean space E^2\n",
    "t = var('t')                # symbolic variable for c \n",
    "c = E.curve({E.cartesian_coordinates():[sin(t), sin(2*t)/2]},\n",
    "    (t, 0, 2*pi), name='c') # define curve in Cart. coord.\n",
    "v=c.tangent_vector_field()  # vector field of tangent vect. to c\n",
    "w=v.norm().expr()           # norm of v\n",
    "numerical_integral(w,0,2*pi)[0]  # numerical version of (22.2)"
   ]
  },
  {
   "cell_type": "markdown",
   "metadata": {},
   "source": [
    "If the curve is simple, for example  \n",
    "\n",
    "$$x(t)=\\sin(2t),\\quad y(t)=\\cos(2t),\\quad t\\in (0,2\\pi),$$\n",
    "\n",
    "then we don't need numerical tools:"
   ]
  },
  {
   "cell_type": "code",
   "execution_count": 6,
   "metadata": {},
   "outputs": [
    {
     "data": {
      "text/html": [
       "<html>\\(\\displaystyle 4 \\, \\pi\\)</html>"
      ],
      "text/latex": [
       "$\\displaystyle 4 \\, \\pi$"
      ],
      "text/plain": [
       "4*pi"
      ]
     },
     "execution_count": 6,
     "metadata": {},
     "output_type": "execute_result"
    }
   ],
   "source": [
    "%display latex\n",
    "E.<x,y> = EuclideanSpace()  # Euclidean space E^2\n",
    "t = var('t')                # symbolic variable for c \n",
    "c = E.curve({E.cartesian_coordinates():[sin(2*t), cos(2*t)]},\n",
    "    (t, 0, 2*pi), name='c') # define curve in Cart. coord.\n",
    "v=c.tangent_vector_field()  # vector field of tangent vect. to c\n",
    "w=v.norm().expr()           # norm of v\n",
    "w.integral(t,0,2*pi)        # exact version of (22.2)"
   ]
  },
  {
   "cell_type": "markdown",
   "metadata": {},
   "source": [
    "<br>\n",
    "\n",
    "**Example 22.3**\n",
    "\n",
    "The standard metric in 4-dimensional Euclidean space is predefined."
   ]
  },
  {
   "cell_type": "code",
   "execution_count": 7,
   "metadata": {},
   "outputs": [
    {
     "data": {
      "text/html": [
       "<html>\\(\\displaystyle g = \\mathrm{d} {x_{1}}\\otimes \\mathrm{d} {x_{1}}+\\mathrm{d} {x_{2}}\\otimes \\mathrm{d} {x_{2}}+\\mathrm{d} {x_{3}}\\otimes \\mathrm{d} {x_{3}}+\\mathrm{d} {x_{4}}\\otimes \\mathrm{d} {x_{4}}\\)</html>"
      ],
      "text/latex": [
       "$\\displaystyle g = \\mathrm{d} {x_{1}}\\otimes \\mathrm{d} {x_{1}}+\\mathrm{d} {x_{2}}\\otimes \\mathrm{d} {x_{2}}+\\mathrm{d} {x_{3}}\\otimes \\mathrm{d} {x_{3}}+\\mathrm{d} {x_{4}}\\otimes \\mathrm{d} {x_{4}}$"
      ],
      "text/plain": [
       "g = dx1⊗dx1 + dx2⊗dx2 + dx3⊗dx3 + dx4⊗dx4"
      ]
     },
     "execution_count": 7,
     "metadata": {},
     "output_type": "execute_result"
    }
   ],
   "source": [
    "%display latex\n",
    "E=EuclideanSpace(4)         # Euclidean space E^4\n",
    "E.metric().disp()           # standard metric on E^4"
   ]
  },
  {
   "cell_type": "markdown",
   "metadata": {},
   "source": [
    "If we need upper indices and  more general manifolds, then we can use the commands:"
   ]
  },
  {
   "cell_type": "code",
   "execution_count": 8,
   "metadata": {},
   "outputs": [
    {
     "data": {
      "text/html": [
       "<html>\\(\\displaystyle g = \\mathrm{d} {x^0}\\otimes \\mathrm{d} {x^0}+\\mathrm{d} {x^1}\\otimes \\mathrm{d} {x^1}+\\mathrm{d} {x^2}\\otimes \\mathrm{d} {x^2}\\)</html>"
      ],
      "text/latex": [
       "$\\displaystyle g = \\mathrm{d} {x^0}\\otimes \\mathrm{d} {x^0}+\\mathrm{d} {x^1}\\otimes \\mathrm{d} {x^1}+\\mathrm{d} {x^2}\\otimes \\mathrm{d} {x^2}$"
      ],
      "text/plain": [
       "g = dx0⊗dx0 + dx1⊗dx1 + dx2⊗dx2"
      ]
     },
     "execution_count": 8,
     "metadata": {},
     "output_type": "execute_result"
    }
   ],
   "source": [
    "N=3                         # dimension of manifolds\n",
    "                            # variables with superscripts:\n",
    "x=[var('x'+str(i),latex_name='x'+'^'+str(i)) for i in range(N)]\n",
    "M = Manifold(N, 'M')        # manifold M\n",
    "X=M.chart(names=map(str,x)) # chart on M\n",
    "g=M.metric('g')             # metric g on M \n",
    "g[0,0],g[1,1],g[2,2]=1,1,1  # components of g\n",
    "g.disp()                    # show g"
   ]
  },
  {
   "cell_type": "markdown",
   "metadata": {},
   "source": [
    "<br>\n",
    "\n",
    "### Determinant of of $[g_{ij}]$\n",
    "\n",
    "<br>\n",
    "\n",
    "If in the implication \n",
    "$$g_p(X_p,Y_p)=0\\  \\text{for all } Y_p\\quad \\Rightarrow X_p=0,\n",
    "$$\n",
    "\n",
    "we put $X_p=a^i\\frac{\\partial}{\\partial x^i}\\big|_p, \\quad Y_p=\\frac{\\partial}{\\partial x^j}\\big|_p$, then we obtain\n",
    "\n",
    "$$g_{i j} ( p)\\, a^i = 0,\\quad j=1,\\ldots,n\\quad \\Rightarrow a^i=0, \\ i=1,\\ldots,n,$$\n",
    "\n",
    "which means that the homogeneous system of linear equations for the unknowns $a^i$ admits only the zero solutions i.e., \n",
    "\n",
    "$$\\det [g_{i,j}](p)\\not=0,$$\n",
    "for all $p$ in the the coordinate domain."
   ]
  },
  {
   "cell_type": "markdown",
   "metadata": {},
   "source": [
    "<br>\n",
    "\n",
    "### Pullback of a metric\n",
    "\n",
    "<br>\n",
    "\n",
    "If $M$ is a Riemannian manifold with a positive definite metric tensor $g$ and $ψ :N → M $ is a smooth map such that for all $p ∈\n",
    "N ,\\  dψ_p$ has **maximal rank**, that is,\n",
    "\n",
    " $$dψ_p X_p = 0_{ψ( p)}\\quad \\text{implies}\\ \\ X_p = 0_p,$$\n",
    "\n",
    "then **the pullback $ψ^∗ g$ is\n",
    "a  positive definite metric tensor in $N$.**\n",
    "\n",
    "In fact since $(ψ^∗ g)_p (X_p , Y_p ) ≡ g_{ψ( p)} (dψ_p X_p , dψ_p Y_p )$, and $g$ is  symmetric  then $\\psi^*g$ is symmetric.\n",
    "Furthermore, if $(ψ^*g)_p (X_p , Y_p ) = 0$ for all $Y_p ∈ T_p N$ , from the definition of $ψ^*g$, we have $g_{ψ( p)} (dψ_p X_p , dψ_p Y_p ) = 0$ for all $Y_p ∈ T_p N$, In particular taking $X_p = Y_p$ and using the fact that $g$ is positive definite  we see that $dψ_p X_p = 0_{\\psi(p)}$, and therefore $X_p = 0_p$ .\n",
    "\n",
    "<br>\n",
    "\n",
    "### Immersions and embeddings\n",
    "\n",
    "<br>\n",
    "\n",
    "A smooth mapping with maximal rank  is called an **immersion** (in other words, $ψ : N → M$ is an immersion if for all $p ∈ N$, the rank of the linear mapping $dψ_p$\n",
    "is equal to the dimension of $N$ ).<br>\n",
    "The smooth map $\\ \\psi: N\\to M\\ $ is an **embedding** if it is one-to one immersion and the image $\\psi(N)$ with the subspace topology is homeomorphic to $N$ under $\\psi$.\n",
    "\n",
    "<br><br>\n",
    "\n",
    "**Example 22.4**\n",
    "The metric  on the standard **sphere** $S^2$:"
   ]
  },
  {
   "cell_type": "code",
   "execution_count": 9,
   "metadata": {},
   "outputs": [
    {
     "data": {
      "text/html": [
       "<html>\\(\\displaystyle {\\psi}^*g = \\mathrm{d} {\\theta}\\otimes \\mathrm{d} {\\theta} + \\sin\\left({\\theta}\\right)^{2} \\mathrm{d} {\\phi}\\otimes \\mathrm{d} {\\phi}\\)</html>"
      ],
      "text/latex": [
       "$\\displaystyle {\\psi}^*g = \\mathrm{d} {\\theta}\\otimes \\mathrm{d} {\\theta} + \\sin\\left({\\theta}\\right)^{2} \\mathrm{d} {\\phi}\\otimes \\mathrm{d} {\\phi}$"
      ],
      "text/plain": [
       "psi^*(g) = dth⊗dth + sin(th)^2 dph⊗dph"
      ]
     },
     "execution_count": 9,
     "metadata": {},
     "output_type": "execute_result"
    }
   ],
   "source": [
    "%display latex\n",
    "M = Manifold(3, 'R^3')       # manifold M=R^3\n",
    "c_xyz.<x,y,z> = M.chart()    # Cartesian coordinates\n",
    "N = Manifold(2, 'N')         # manifold N=S^2\n",
    "                             # chart on N:\n",
    "c_sph.<theta,phi>=N.chart(r'th:(0,pi):\\theta ph:(0,2*pi):\\phi')  \n",
    "psi = N.diff_map(M, (sin(theta)*cos(phi), \n",
    "    sin(theta)*sin(phi),cos(theta)),name='psi',\n",
    "    latex_name=r'\\psi')      # embedding S^2 -> R^3\n",
    "g=M.metric('g')              # standard metric on R^3\n",
    "g[0,0],g[1,1],g[2,2]=1,1,1   # components of g\n",
    "plb=psi.pullback(g)          # pullback of g\n",
    "plb.display()                # show metric on S^2"
   ]
  },
  {
   "cell_type": "markdown",
   "metadata": {},
   "source": [
    "It is easy to check that $\\psi$ is of maximal rank:"
   ]
  },
  {
   "cell_type": "code",
   "execution_count": 10,
   "metadata": {},
   "outputs": [
    {
     "data": {
      "text/html": [
       "<html>\\(\\displaystyle 2\\)</html>"
      ],
      "text/latex": [
       "$\\displaystyle 2$"
      ],
      "text/plain": [
       "2"
      ]
     },
     "execution_count": 10,
     "metadata": {},
     "output_type": "execute_result"
    }
   ],
   "source": [
    "psi.jacobian_matrix().rank()"
   ]
  },
  {
   "cell_type": "markdown",
   "metadata": {},
   "source": [
    "\n",
    "\n",
    "**Example 22.5**\n",
    "\n",
    "The metric  on the **paraboloid**:"
   ]
  },
  {
   "cell_type": "code",
   "execution_count": 11,
   "metadata": {},
   "outputs": [
    {
     "data": {
      "text/html": [
       "<html>\\(\\displaystyle {\\psi}^*g = \\left( 4 \\, u^{2} + 1 \\right) \\mathrm{d} u\\otimes \\mathrm{d} u + 4 \\, u v \\mathrm{d} u\\otimes \\mathrm{d} v + 4 \\, u v \\mathrm{d} v\\otimes \\mathrm{d} u + \\left( 4 \\, v^{2} + 1 \\right) \\mathrm{d} v\\otimes \\mathrm{d} v\\)</html>"
      ],
      "text/latex": [
       "$\\displaystyle {\\psi}^*g = \\left( 4 \\, u^{2} + 1 \\right) \\mathrm{d} u\\otimes \\mathrm{d} u + 4 \\, u v \\mathrm{d} u\\otimes \\mathrm{d} v + 4 \\, u v \\mathrm{d} v\\otimes \\mathrm{d} u + \\left( 4 \\, v^{2} + 1 \\right) \\mathrm{d} v\\otimes \\mathrm{d} v$"
      ],
      "text/plain": [
       "psi^*(g) = (4*u^2 + 1) du⊗du + 4*u*v du⊗dv + 4*u*v dv⊗du + (4*v^2 + 1) dv⊗dv"
      ]
     },
     "execution_count": 11,
     "metadata": {},
     "output_type": "execute_result"
    }
   ],
   "source": [
    "M = Manifold(3, 'R3')        # manifold M=R^3\n",
    "c_xyz.<x,y,z> = M.chart()    # Cartesian coordinates\n",
    "N=Manifold(2,name='R2')      # manifold N; paraboloid\n",
    "c_uv.<u,v>=N.chart()         # coordinates on N\n",
    "g = M.metric('g');           # metric in R^3\n",
    "g[:]=[[1,0,0],[0,1,0],[0,0,1]];     # components of g\n",
    "psi = N.diff_map(M, (u, v,u^2+v^2),\n",
    "    name='psi',latex_name=r'\\psi')  # embedding N->R^3\n",
    "plb=psi.pullback(g)          # pullback of g\n",
    "plb.display()                # show metric on paraboloid"
   ]
  },
  {
   "cell_type": "code",
   "execution_count": 12,
   "metadata": {},
   "outputs": [
    {
     "data": {
      "text/html": [
       "<html>\\(\\displaystyle 2\\)</html>"
      ],
      "text/latex": [
       "$\\displaystyle 2$"
      ],
      "text/plain": [
       "2"
      ]
     },
     "execution_count": 12,
     "metadata": {},
     "output_type": "execute_result"
    }
   ],
   "source": [
    "# check if psi is of maximal rank\n",
    "J=psi.jacobian_matrix()\n",
    "J.rank()"
   ]
  },
  {
   "cell_type": "markdown",
   "metadata": {},
   "source": [
    "\n",
    "\n",
    "**Example 22.6**\n",
    "\n",
    "The metric  on the **hyperboloid**:"
   ]
  },
  {
   "cell_type": "code",
   "execution_count": 13,
   "metadata": {},
   "outputs": [
    {
     "data": {
      "text/html": [
       "<html>\\(\\displaystyle {\\psi}^*g = \\left( 4 \\, u^{2} + 1 \\right) \\mathrm{d} u\\otimes \\mathrm{d} u -4 \\, u v \\mathrm{d} u\\otimes \\mathrm{d} v -4 \\, u v \\mathrm{d} v\\otimes \\mathrm{d} u + \\left( 4 \\, v^{2} + 1 \\right) \\mathrm{d} v\\otimes \\mathrm{d} v\\)</html>"
      ],
      "text/latex": [
       "$\\displaystyle {\\psi}^*g = \\left( 4 \\, u^{2} + 1 \\right) \\mathrm{d} u\\otimes \\mathrm{d} u -4 \\, u v \\mathrm{d} u\\otimes \\mathrm{d} v -4 \\, u v \\mathrm{d} v\\otimes \\mathrm{d} u + \\left( 4 \\, v^{2} + 1 \\right) \\mathrm{d} v\\otimes \\mathrm{d} v$"
      ],
      "text/plain": [
       "psi^*(g) = (4*u^2 + 1) du⊗du - 4*u*v du⊗dv - 4*u*v dv⊗du + (4*v^2 + 1) dv⊗dv"
      ]
     },
     "execution_count": 13,
     "metadata": {},
     "output_type": "execute_result"
    }
   ],
   "source": [
    "M = Manifold(3, 'R3')        # manifold M=R^3\n",
    "c_xyz.<x,y,z> = M.chart()    # Cartesian coordinates\n",
    "N=Manifold(2,name='R2')      # manifold N; hyperboloid\n",
    "c_uv.<u,v>=N.chart()         # coordinates on N\n",
    "g = M.metric('g');           # metric in R^3\n",
    "g[:]=[[1,0,0],[0,1,0],[0,0,1]];     # components of g\n",
    "psi = N.diff_map(M, (u, v,u^2-v^2),\n",
    "    name='psi',latex_name=r'\\psi')  # embedding N->R^3\n",
    "plb=psi.pullback(g)          # pullback of g\n",
    "plb.display()                # show metric on hyperboloid"
   ]
  },
  {
   "cell_type": "code",
   "execution_count": 14,
   "metadata": {},
   "outputs": [
    {
     "data": {
      "text/html": [
       "<html>\\(\\displaystyle 2\\)</html>"
      ],
      "text/latex": [
       "$\\displaystyle 2$"
      ],
      "text/plain": [
       "2"
      ]
     },
     "execution_count": 14,
     "metadata": {},
     "output_type": "execute_result"
    }
   ],
   "source": [
    "# check if psi is of maximal rank\n",
    "J=psi.jacobian_matrix()\n",
    "J.rank()"
   ]
  },
  {
   "cell_type": "markdown",
   "metadata": {},
   "source": [
    "<br>\n",
    "\n",
    "### Levi-Civita connection\n",
    "\n",
    "<br>\n",
    "\n",
    "If $M$ is a Riemannian manifold, then there exists a unique connection $∇$  with vanishing torsion and such\n",
    "that $∇_X g = 0$ for all $X ∈ \\mathfrak{X}(M)$. \n",
    "Connections  with this properties are called **Riemannian or Levi-Civita connections.**\n",
    "\n",
    "From the definition (21.13) of torsion \n",
    "($T (X, Y) = ∇_X Y − ∇_Y X − [X, Y]$) it follows that the torsion vanishes iff\n",
    "\\begin{equation}\n",
    "[X, Y] = ∇_X Y − ∇_Y X.\n",
    "\\tag{22.5}\n",
    "\\end{equation}\n",
    "\n",
    "Recall that connections satisfying (22.5) are called **torsion free** or **symmetric**.\n",
    "\n",
    "\n",
    "From the rule of covariant differentiation of covariant tensor fields (21.14) it follows that\n",
    "\n",
    "$$(∇_X g)(Y,Z)=X (g (Y,Z))-g(∇_X Y,Z)-g(Y,∇_X Z),$$\n",
    "\n",
    "so $∇_X g$ vanishes iff\n",
    "\n",
    "\\begin{equation}\n",
    "X (g(Y, Z)) = g(∇_X Y, Z) + g(Y, ∇_X Z).\n",
    "\\tag{22.6}\n",
    "\\end{equation}\n",
    "\n",
    "A connection $\\ \\nabla\\ $ in a Riemannian manifold $M$ is said to be \n",
    "**compatible with the metric** if (22.6) is true for all \n",
    "$X,Y,Z\\in \\mathfrak{X}(M)$.\n",
    "\n",
    "<br>\n",
    "\n",
    "One can prove that:\n",
    "\n",
    "**On any Riemannian manifold $M$ there exists a unique connection  for which (22.5),(22.6) hold for $X, Y, Z ∈ \\mathfrak{X}(M).$**\n",
    "\n",
    "<br>\n",
    "\n",
    "Let us assume that (22.5),(22.6) hold true. We have \n",
    "\n",
    "$$\n",
    "X( g(Y, Z)) +Y( g(Z, X)) − Z (g(X, Y))\\\\\n",
    "= g(∇_X Y, Z) + g(Y, ∇_X Z)\n",
    "+ g(∇_Y Z, X) + g(Z, ∇_Y X)\n",
    "− g(∇_Z X, Y) − g(X, ∇_Z Y)\\\\\n",
    "= g(∇_X Y + ∇_Y X, Z) + g(Y, ∇_X Z − ∇_Z X) + g(X, ∇_Y Z − ∇_Z Y)\\\\\n",
    "= g(∇_X Y + ∇_X Y+(\\nabla_Y X-\\nabla_X Y), Z) + g(Y, ∇_X Z − ∇_Z X) + g(X, ∇_Y Z − ∇_Z Y)\\\\\n",
    "= g(∇_X Y + ∇_X Y + [Y, X], Z) + g(Y, [X, Z]) + g(X, [Y, Z])\\\\\n",
    "= 2g(∇_X Y, Z) + g(Z, [Y, X]) + g(Y, [X, Z]) + g(X, [Y, Z]).\n",
    "$$\n",
    "\n",
    "The obtained equality implies the following **Koszul formula**\n",
    "\n",
    "\\begin{equation}\n",
    "2g(∇_X Y, Z) = X (g(Y, Z)) + Y (g(Z, X)) − Z (g(X, Y))\\\\\n",
    "− g (Z, [Y, X]) − g (Y, [X, Z]) − g( X, [Y, Z]).\n",
    "\\tag{22.7}\n",
    "\\end{equation}\n",
    "\n",
    "Since $g$ is non-singular if such a $g$ exists, it defines the connection $∇_X Y$ in an unique manner."
   ]
  },
  {
   "cell_type": "markdown",
   "metadata": {},
   "source": [
    "Now let us assume that $\\nabla_X Y$ is defined by (22.7). We have\n",
    "\n",
    "$$2g(\\nabla_XY,Z)-2g(\\nabla_Y X,Z)=\\\\\n",
    "X(g(Y,Z))+Y(g(Z,X))-Z(g(X,Y))\n",
    "-g(Z,[Y,X])-g(Y,[X,Z])-g(X,[Y,Z])\\\\\n",
    "-Y(g(X,Z))-X(g(Z,Y))+Z(g(Y,X))\n",
    "+g(Z,[X,Y])+g(X,[Y,Z])+g(Y,[X,Z])\\\\\n",
    "=2g([X,Y],Z),\n",
    "$$\n",
    "thus (22.5) is fulfilled.\n",
    "\n",
    "To check (22.6) let us note that\n",
    "\n",
    "$$2g(\\nabla_XY,Z)+2g(Y,\\nabla_XZ)=2g(\\nabla_XY,Z)+2g(\\nabla_XZ,Y)\\\\\n",
    "=X(g(Y,Z))+Y(g(Z,X))-Z(g(X,Y))-g(Z,[Y,X])-g(Y,[X,Z])-g(X,[Y,Z])\\\\\n",
    "+X(g(Z,Y))+Z(g(Y,X))-Y(g(X,Z))-g(Y,[Z,X])-g(Z,[X,Y])-g(X,[Z,Y])\\\\\n",
    "=2X(g(Y,Z)).\n",
    "$$\n"
   ]
  },
  {
   "cell_type": "markdown",
   "metadata": {},
   "source": [
    "<br>\n",
    "\n",
    "### Levi-Civita connection in components\n",
    "\n",
    "<br>\n",
    "\n",
    "\n",
    "Let $g_{ij}=g\\big(\\frac{\\partial}{\\partial x^i},\\frac{\\partial}{\\partial x^j}\\big)$. Recall from the notebook 12 that $[\\frac{\\partial}{\\partial x^i},\\frac{\\partial}{\\partial x^j}]=0.$\n",
    "\n",
    "If we put in  (22.7)  .\n",
    "$$X=\\frac{\\partial}{\\partial x^i},\\quad\n",
    "Y=\\frac{\\partial}{\\partial x^j},\\quad\n",
    "Z=\\frac{\\partial}{\\partial x^k},\n",
    "$$\n",
    "then \n",
    "\n",
    "$$2g\\Big(\\nabla_{\\frac{\\partial}{\\partial x^i}}\n",
    "\\frac{\\partial}{\\partial x^j},\\frac{\\partial}{\\partial x^k}\\Big)\\\\\n",
    "=\\frac{\\partial}{\\partial x^i}\n",
    "\\big(g(\\frac{\\partial}{\\partial x^j},\\frac{\\partial}{\\partial x^k}\\big)\\big)\n",
    "+\n",
    "\\frac{\\partial}{\\partial x^j}\n",
    "\\big(g(\\frac{\\partial}{\\partial x^k},\\frac{\\partial}{\\partial x^i}\\big)\\big)\n",
    "-\n",
    "\\frac{\\partial}{\\partial x^k}\n",
    "\\big(g(\\frac{\\partial}{\\partial x^i},\\frac{\\partial}{\\partial x^j}\\big)\\big)\\\\\n",
    "=\\frac{\\partial g_{jk}}{\\partial x^i}+\n",
    "\\frac{\\partial g_{ki}}{\\partial x^j}-\n",
    "\\frac{\\partial g_{ij}}{\\partial x^k}.\n",
    "$$"
   ]
  },
  {
   "cell_type": "markdown",
   "metadata": {},
   "source": [
    "Using the formula \n",
    "$\\nabla_{\\frac{\\partial}{\\partial x^i}}\n",
    "\\frac{\\partial}{\\partial x^j}=\\Gamma^m_{ji}\\frac{\\partial}{\\partial x^m}\n",
    "$ we obtain\n",
    "\n",
    "$$2\\Gamma^m_{ji}g_{mk}=\n",
    "\\frac{\\partial g_{jk}}{\\partial x^i}+\n",
    "\\frac{\\partial g_{ki}}{\\partial x^j}-\n",
    "\\frac{\\partial g_{ij}}{\\partial x^k},\n",
    "$$\n",
    "and finally\n",
    "\\begin{equation}\n",
    "\\Gamma^m_{ji}=\\frac{1}{2}g^{km}\\Big(\n",
    "\\frac{\\partial g_{jk}}{\\partial x^i}+\n",
    "\\frac{\\partial g_{ki}}{\\partial x^j}-\n",
    "\\frac{\\partial g_{ij}}{\\partial x^k}\n",
    "\\Big),\n",
    "\\tag{22.8}\n",
    "\\end{equation}\n",
    "\n",
    "where $[g^{km}]$ is the  matrix inverse to $[g_{mk}]$.\n",
    "\n",
    "Note that from (22.8) it follows that $\\Gamma_{ij}^k=\\Gamma_{ji}^m$.\n",
    "\n",
    "Note that a symmetric $n\\times n$ matrix has $n(n+1)/2$ independent elements and $\\Gamma^m_{ij}$ defines $n$ such matrices, so the Riemannian manifolds have $n^2(n+1)/2$ independent Christoffel symbols."
   ]
  },
  {
   "cell_type": "markdown",
   "metadata": {},
   "source": [
    "<br>\n",
    "\n",
    "### Geodesics in Riemannian manifolds\n",
    "\n",
    "<br>\n",
    "\n",
    "\n",
    "In the case of Riemannian conections Sagemath offers `integrated_geodesic`, a numerical method of finding geodesics \n",
    "<br><br>\n",
    "\n",
    "**Example 22.7**\n",
    "\n",
    "Use `integrated_geodesic`  method to find the geodesics on Poincaré half-plane passing through the point with coordinates $(0,1)$.\n",
    "\n",
    "\n",
    "Let us start from the geodesic with tangent vector at $(0,1)$ parallel to $x$-axis."
   ]
  },
  {
   "cell_type": "code",
   "execution_count": 15,
   "metadata": {},
   "outputs": [
    {
     "data": {
      "image/png": "[encoded data removed]",
      "text/plain": [
       "Graphics object consisting of 2 graphics primitives"
      ]
     },
     "metadata": {},
     "output_type": "display_data"
    }
   ],
   "source": [
    "M = Manifold(2,'M',structure='Riemannian') # Riemannian manifold M\n",
    "X.<x,y> = M.chart('x y:(0,+oo)')           # Poincare half-plane\n",
    "g = M.metric()                             # metric on M\n",
    "g[0,0], g[1,1] = 1/y^2, 1/y^2              # nonzero components of the metric\n",
    "p = M((0,1), name='p')                     # point p\n",
    "t = var('t')                               # symbolic variable for geodesic           \n",
    "v = M.tangent_space(p)((1,0), name='v')    # tang. vect. at p, comp.: (1,0)\n",
    "v1 = M.tangent_space(p)((-1,0), name='v1') # tang. vect. at p, comp.: (-1,0)\n",
    "c = M.integrated_geodesic(g, (t, 0, 2), v, name='c')    # geodesic with init.vect. v\n",
    "c1 = M.integrated_geodesic(g, (t, 0, 2), v1, name='c1') # geodesic with init.vect. v1\n",
    "sol = c.solve()                            # find the geodesic facing right\n",
    "interp = c.interpolate()                   # interpolate the result\n",
    "p0=c.plot_integrated(thickness=2)          # plot the geodesic c\n",
    "sol1=c1.solve()                            # find the geodesic facing left\n",
    "interp1 = c1.interpolate()                 # interpolate the result\n",
    "p1=c1.plot_integrated(thickness=2)         # plot the geodesic c1\n",
    "(p0+p1).show(aspect_ratio=1,figsize=[4,4]) # combine plots"
   ]
  },
  {
   "cell_type": "markdown",
   "metadata": {},
   "source": [
    "Now let us show how the other geodesigs through the same point may look.\n",
    "\n",
    "First we repeat the six commands defining the Poincaré half-plane."
   ]
  },
  {
   "cell_type": "code",
   "execution_count": 16,
   "metadata": {},
   "outputs": [],
   "source": [
    "M = Manifold(2, 'M', structure='Riemannian')\n",
    "X.<x,y> = M.chart('x y:(0,+oo)')\n",
    "g = M.metric()\n",
    "g[0,0], g[1,1] = 1/y^2, 1/y^2\n",
    "p = M((0,1), name='p')\n",
    "t = var('t')"
   ]
  },
  {
   "cell_type": "markdown",
   "metadata": {},
   "source": [
    "Next we plot 6 geodesics facing right, 6 geodesics facing left,\n",
    "one geodesic facing up and one geodesic pointing down."
   ]
  },
  {
   "cell_type": "code",
   "execution_count": 17,
   "metadata": {},
   "outputs": [
    {
     "data": {
      "image/png": "[encoded data removed]",
      "text/plain": [
       "Graphics object consisting of 14 graphics primitives"
      ]
     },
     "metadata": {},
     "output_type": "display_data"
    }
   ],
   "source": [
    "Gr=[]                                        # list of plots\n",
    "                                             \n",
    "for y in range(-1,5):                        # 6 geodesics pointing facing *right*\n",
    "    v = M.tangent_space(p)((1,y),name='v')   # initial tangent vector\n",
    "    c = M.integrated_geodesic(g,(t,0,2),v,name='c')   # define geodesic\n",
    "    sol = c.solve()                          # find the geodesic points\n",
    "    interp = c.interpolate()                 # interpolte the result\n",
    "    gr=c.plot_integrated(thickness=2)        # plot thegeodesic\n",
    "    Gr=Gr+[gr]                               # add the plot to the list of plots\n",
    "    \n",
    "for y in range(-1,5):                        # 6 geodesics pointing facing *left*\n",
    "    v = M.tangent_space(p)((-1,y), name='v')        \n",
    "    c = M.integrated_geodesic(g,(t,0,2),v,name='c')   # comments as above\n",
    "    sol = c.solve()\n",
    "    interp = c.interpolate()\n",
    "    gr=c.plot_integrated(thickness=2) \n",
    "    Gr=Gr+[gr]\n",
    "                                             # vertical geodesic facing up                                \n",
    "v = M.tangent_space(p)((0,1), name='v')             \n",
    "c = M.integrated_geodesic(g,(t,0,2),v,name='c')      # coments as above\n",
    "sol = c.solve()\n",
    "interp = c.interpolate()\n",
    "gr=c.plot_integrated(thickness=3) \n",
    "Gr=Gr+[gr]\n",
    "                                             # vertical geodesic pointing down\n",
    "v = M.tangent_space(p)((0,-1), name='v')             \n",
    "c = M.integrated_geodesic(g,(t,0,2),v,name='c')      # coments as above\n",
    "sol = c.solve()\n",
    "interp = c.interpolate()\n",
    "gr=c.plot_integrated(thickness=2) \n",
    "Gr=Gr+[gr]\n",
    "\n",
    "sum(Gr).show(aspect_ratio=1)                 # combine all plots"
   ]
  },
  {
   "cell_type": "markdown",
   "metadata": {},
   "source": [
    "As we can see (one can suspect that) geodesics in Poincare half-plane are semicircles or vertical half-lines."
   ]
  },
  {
   "cell_type": "markdown",
   "metadata": {},
   "source": [
    "<br><br>\n",
    "**Example 22.8**\n",
    "\n",
    "Show (numerically) that one of the geodesics on the sphere $S^2$ is the \"equator\"."
   ]
  },
  {
   "cell_type": "code",
   "execution_count": 18,
   "metadata": {},
   "outputs": [],
   "source": [
    "N = Manifold(2, 'N')         # manifold N=S^2\n",
    "c_sph.<theta,phi>=N.chart()  # spherical coordinates\n",
    "g=N.metric('g')              # metric on S^2\n",
    "g[0,0],g[1,1]=1,sin(theta)^2 # components of g\n",
    "p = N((pi/2,pi), name='p')   # initial point on S^2\n",
    "t = var('t')                 # symbolic variable for geodesic\n",
    "v = N.tangent_space(p)((0,1), name='v') # tang.vector at p\n",
    "                             # define geodesic\n",
    "c = N.integrated_geodesic(g, (t, 0, 2*pi), v, name='c')\n",
    "sol = c.solve()              # find the geodesic points\n",
    "interp = c.interpolate()     # interpolate the result"
   ]
  },
  {
   "cell_type": "markdown",
   "metadata": {},
   "source": [
    "The geodesic is computed, but to show a 3-dimensional picture\n",
    "we need the embedding $ \\psi: S^2\\to R^3$."
   ]
  },
  {
   "cell_type": "code",
   "execution_count": 19,
   "metadata": {},
   "outputs": [
    {
     "data": {
      "text/html": [
       "\n",
       "<iframe srcdoc=\"<!DOCTYPE html>\n",
       "<html>\n",
       "<head>\n",
       "<title></title>\n",
       "<meta charset=&quot;utf-8&quot;>\n",
       "<meta name=viewport content=&quot;width=device-width, user-scalable=no, minimum-scale=1.0, maximum-scale=1.0&quot;>\n",
       "<style>\n",
       "\n",
       "    body { margin: 0px; overflow: hidden; }\n",
       "\n",
       "    #menu-container { position: absolute; bottom: 30px; right: 40px; cursor: default; }\n",
       "\n",
       "    #menu-message { position: absolute; bottom: 0px; right: 0px; white-space: nowrap;\n",
       "                    display: none; background-color: #F5F5F5; padding: 10px; }\n",
       "\n",
       "    #menu-content { position: absolute; bottom: 0px; right: 0px;\n",
       "                    display: none; background-color: #F5F5F5; border-bottom: 1px solid black;\n",
       "                    border-right: 1px solid black; border-left: 1px solid black; }\n",
       "\n",
       "    #menu-content div { border-top: 1px solid black; padding: 10px; white-space: nowrap; }\n",
       "\n",
       "    #menu-content div:hover { background-color: #FEFEFE; }\n",
       "\n",
       "    .dark-theme #menu-container { color: white; }\n",
       "\n",
       "    .dark-theme #menu-message { background-color: #181818; }\n",
       "\n",
       "    .dark-theme #menu-content { background-color: #181818; border-color: white; }\n",
       "\n",
       "    .dark-theme #menu-content div { border-color: white; }\n",
       "\n",
       "    .dark-theme #menu-content div:hover { background-color: #303030; }\n",
       "\n",
       "</style>\n",
       "\n",
       "</head>\n",
       "\n",
       "<body>\n",
       "\n",
       "<script src=&quot;/nbextensions/threejs-sage/r122/three.min.js&quot;></script>\n",
       "<script>\n",
       "  if ( !window.THREE ) document.write(' \\\n",
       "<script src=&quot;https://cdn.jsdelivr.net/gh/sagemath/threejs-sage@r122/build/three.min.js&quot;><\\/script> \\\n",
       "            ');\n",
       "</script>\n",
       "        <script>// fat_lines.js\n",
       "\n",
       "var _fatLines = [];\n",
       "\n",
       "function _createFatLine( lineStrip, geometry, materialOptions ) {\n",
       "\n",
       "    var vertexCount = geometry.vertices.length;\n",
       "    var positions = [];\n",
       "    for ( var i=0 ; i < vertexCount ; i++ ) {\n",
       "        var v = geometry.vertices[i];\n",
       "        positions.push( v.x, v.y, v.z );\n",
       "        // For a line strip, duplicate all but the first and last vertices.\n",
       "        if ( lineStrip && i > 0 && i < vertexCount - 1 ) {\n",
       "            positions.push( v.x, v.y, v.z );\n",
       "        }\n",
       "    }\n",
       "\n",
       "    geometry = new THREE.LineSegmentsGeometry();\n",
       "    geometry.setPositions( positions );\n",
       "\n",
       "    var material = new THREE.LineMaterial( materialOptions );\n",
       "    material.resolution = new THREE.Vector2( window.innerWidth, window.innerHeight );\n",
       "\n",
       "    var line = new THREE.LineSegments2( geometry, material );\n",
       "    line.computeLineDistances();\n",
       "    line.scale.set( 1, 1, 1 );\n",
       "\n",
       "    _fatLines.push( line );\n",
       "\n",
       "    return line;\n",
       "\n",
       "}\n",
       "\n",
       "function createFatLineStrip( geometry, materialOptions ) {\n",
       "    return _createFatLine( true, geometry, materialOptions );\n",
       "}\n",
       "\n",
       "function createFatLineSegments( geometry, materialOptions ) {\n",
       "    return _createFatLine( false, geometry, materialOptions );\n",
       "}\n",
       "\n",
       "function rescaleFatLines() {\n",
       "    var res = new THREE.Vector2( window.innerWidth, window.innerHeight );\n",
       "    var n = _fatLines.length;\n",
       "    for ( var i=0 ; i < n ; i++ ) {\n",
       "        _fatLines[i].material.resolution = res;\n",
       "    }\n",
       "}\n",
       "</script>\n",
       "<script>\n",
       "\n",
       "    var options = {&quot;animate&quot;: false, &quot;animationControls&quot;: true, &quot;aspectRatio&quot;: [1.0, 1.0, 1.0], &quot;autoScaling&quot;: [false, false, false], &quot;autoPlay&quot;: true, &quot;axes&quot;: false, &quot;axesLabels&quot;: false, &quot;axesLabelsStyle&quot;: null, &quot;decimals&quot;: 2, &quot;delay&quot;: 20, &quot;frame&quot;: false, &quot;loop&quot;: true, &quot;projection&quot;: &quot;perspective&quot;, &quot;theme&quot;: &quot;light&quot;, &quot;viewpoint&quot;: false};\n",
       "    var animate = options.animate;\n",
       "\n",
       "    if ( options.theme === 'dark' )\n",
       "        document.body.className = 'dark-theme';\n",
       "\n",
       "    var scene = new THREE.Scene();\n",
       "\n",
       "    var renderer = new THREE.WebGLRenderer( { antialias: true, preserveDrawingBuffer: true } );\n",
       "    renderer.setPixelRatio( window.devicePixelRatio );\n",
       "    renderer.setSize( window.innerWidth, window.innerHeight );\n",
       "    renderer.setClearColor( options.theme === 'dark' ? 0 : 0xffffff, 1 );\n",
       "    document.body.appendChild( renderer.domElement );\n",
       "\n",
       "    var b = [{&quot;x&quot;:-1.0, &quot;y&quot;:-1.0, &quot;z&quot;:-1.0}, {&quot;x&quot;:1.0, &quot;y&quot;:1.0, &quot;z&quot;:1.0}]; // bounds\n",
       "\n",
       "    if ( b[0].x === b[1].x ) {\n",
       "        b[0].x -= 1;\n",
       "        b[1].x += 1;\n",
       "    }\n",
       "    if ( b[0].y === b[1].y ) {\n",
       "        b[0].y -= 1;\n",
       "        b[1].y += 1;\n",
       "    }\n",
       "    if ( b[0].z === b[1].z ) {\n",
       "        b[0].z -= 1;\n",
       "        b[1].z += 1;\n",
       "    }\n",
       "\n",
       "    var rxRange = Math.sqrt( Math.pow( b[1].z - b[0].z, 2 )\n",
       "                            + Math.pow( b[1].y - b[0].y, 2 ) );\n",
       "    var ryRange = Math.sqrt( Math.pow( b[1].x - b[0].x, 2 )\n",
       "                            + Math.pow( b[1].z - b[0].z, 2 ) );\n",
       "    var rzRange = Math.sqrt( Math.pow( b[1].x - b[0].x, 2 )\n",
       "                            + Math.pow( b[1].y - b[0].y, 2 ) );\n",
       "    var xRange = b[1].x - b[0].x;\n",
       "    var yRange = b[1].y - b[0].y;\n",
       "    var zRange = b[1].z - b[0].z;\n",
       "\n",
       "    var ar = options.aspectRatio;\n",
       "    var a = [ ar[0], ar[1], ar[2] ]; // aspect multipliers\n",
       "\n",
       "    var autoScaling = options.autoScaling;\n",
       "    var autoAspect = 2.5;\n",
       "    if ( xRange > autoAspect * rxRange && autoScaling[0] ) a[0] = autoAspect * rxRange / xRange;\n",
       "    if ( yRange > autoAspect * ryRange && autoScaling[1] ) a[1] = autoAspect * ryRange / yRange;\n",
       "    if ( zRange > autoAspect * rzRange && autoScaling[2] ) a[2] = autoAspect * rzRange / zRange;\n",
       "\n",
       "    // Distance from (xMid,yMid,zMid) to any corner of the bounding box, after applying aspectRatio\n",
       "    var midToCorner = Math.sqrt( a[0]*a[0]*xRange*xRange + a[1]*a[1]*yRange*yRange + a[2]*a[2]*zRange*zRange ) / 2;\n",
       "\n",
       "    var xMid = ( b[0].x + b[1].x ) / 2;\n",
       "    var yMid = ( b[0].y + b[1].y ) / 2;\n",
       "    var zMid = ( b[0].z + b[1].z ) / 2;\n",
       "\n",
       "    var box = new THREE.Geometry();\n",
       "    box.vertices.push( new THREE.Vector3( a[0]*b[0].x, a[1]*b[0].y, a[2]*b[0].z ) );\n",
       "    box.vertices.push( new THREE.Vector3( a[0]*b[1].x, a[1]*b[1].y, a[2]*b[1].z ) );\n",
       "    var boxMesh = new THREE.Line( box );\n",
       "    var boxColor = options.theme === 'dark' ? 'white' : 'black';\n",
       "    if ( options.frame ) scene.add( new THREE.BoxHelper( boxMesh, boxColor ) );\n",
       "\n",
       "    if ( options.axesLabels ) {\n",
       "\n",
       "        var d = options.decimals; // decimals\n",
       "        var offsetRatio = 0.1;\n",
       "        var al = options.axesLabels;\n",
       "        var als = options.axesLabelsStyle || [{}, {}, {}];\n",
       "\n",
       "        var offset = offsetRatio * a[1]*( b[1].y - b[0].y );\n",
       "        var xm = xMid.toFixed(d);\n",
       "        if ( /^-0.?0*$/.test(xm) ) xm = xm.substr(1);\n",
       "        addLabel( al[0] + '=' + xm, a[0]*xMid, a[1]*b[1].y+offset, a[2]*b[0].z, als[0] );\n",
       "        addLabel( ( b[0].x ).toFixed(d), a[0]*b[0].x, a[1]*b[1].y+offset, a[2]*b[0].z, als[0] );\n",
       "        addLabel( ( b[1].x ).toFixed(d), a[0]*b[1].x, a[1]*b[1].y+offset, a[2]*b[0].z, als[0] );\n",
       "\n",
       "        var offset = offsetRatio * a[0]*( b[1].x - b[0].x );\n",
       "        var ym = yMid.toFixed(d);\n",
       "        if ( /^-0.?0*$/.test(ym) ) ym = ym.substr(1);\n",
       "        addLabel( al[1] + '=' + ym, a[0]*b[1].x+offset, a[1]*yMid, a[2]*b[0].z, als[1] );\n",
       "        addLabel( ( b[0].y ).toFixed(d), a[0]*b[1].x+offset, a[1]*b[0].y, a[2]*b[0].z, als[1] );\n",
       "        addLabel( ( b[1].y ).toFixed(d), a[0]*b[1].x+offset, a[1]*b[1].y, a[2]*b[0].z, als[1] );\n",
       "\n",
       "        var offset = offsetRatio * a[1]*( b[1].y - b[0].y );\n",
       "        var zm = zMid.toFixed(d);\n",
       "        if ( /^-0.?0*$/.test(zm) ) zm = zm.substr(1);\n",
       "        addLabel( al[2] + '=' + zm, a[0]*b[1].x, a[1]*b[0].y-offset, a[2]*zMid, als[2] );\n",
       "        addLabel( ( b[0].z ).toFixed(d), a[0]*b[1].x, a[1]*b[0].y-offset, a[2]*b[0].z, als[2] );\n",
       "        addLabel( ( b[1].z ).toFixed(d), a[0]*b[1].x, a[1]*b[0].y-offset, a[2]*b[1].z, als[2] );\n",
       "\n",
       "    }\n",
       "\n",
       "    function addLabel( text, x, y, z, style ) {\n",
       "\n",
       "        var color = style.color || 'black';\n",
       "        var fontSize = style.fontSize || 14;\n",
       "        var fontFamily = style.fontFamily || 'monospace';\n",
       "        var fontStyle = style.fontStyle || 'normal';\n",
       "        var fontWeight = style.fontWeight || 'normal';\n",
       "        var opacity = style.opacity || 1;\n",
       "\n",
       "        if ( options.theme === 'dark' )\n",
       "            if ( color === 'black' || color === '#000000' )\n",
       "                color = 'white';\n",
       "\n",
       "        if ( Array.isArray( fontStyle ) ) {\n",
       "            fontFamily = fontFamily.map( function( f ) {\n",
       "                // Need to put quotes around fonts that have whitespace in their names.\n",
       "                return /\\s/.test( f ) ? '&quot;' + f + '&quot;' : f;\n",
       "            }).join(', ');\n",
       "        }\n",
       "\n",
       "        var canvas = document.createElement( 'canvas' );\n",
       "        var context = canvas.getContext( '2d' );\n",
       "        var pixelRatio = Math.round( window.devicePixelRatio );\n",
       "\n",
       "        // For example: italic bold 20px &quot;Times New Roman&quot;, Georgia, serif\n",
       "        var font = [fontStyle, fontWeight, fontSize + 'px', fontFamily].join(' ');\n",
       "\n",
       "        context.font = font;\n",
       "        var width = context.measureText( text ).width;\n",
       "        var height = fontSize;\n",
       "\n",
       "        // The dimensions of the canvas's underlying image data need to be powers\n",
       "        // of two in order for the resulting texture to support mipmapping.\n",
       "        canvas.width = THREE.MathUtils.ceilPowerOfTwo( width * pixelRatio );\n",
       "        canvas.height = THREE.MathUtils.ceilPowerOfTwo( height * pixelRatio );\n",
       "\n",
       "        // Re-compute the unscaled dimensions after the power of two conversion.\n",
       "        width = canvas.width / pixelRatio;\n",
       "        height = canvas.height / pixelRatio;\n",
       "\n",
       "        canvas.style.width = width + 'px';\n",
       "        canvas.style.height = height + 'px';\n",
       "\n",
       "        context.scale( pixelRatio, pixelRatio );\n",
       "        context.fillStyle = color;\n",
       "        context.font = font; // Must be set again after measureText.\n",
       "        context.textAlign = 'center';\n",
       "        context.textBaseline = 'middle';\n",
       "        context.fillText( text, width/2, height/2 );\n",
       "\n",
       "        var texture = new THREE.Texture( canvas );\n",
       "        texture.needsUpdate = true;\n",
       "\n",
       "        var materialOptions = { map: texture, sizeAttenuation: false, depthWrite: false };\n",
       "        if ( opacity < 1 ) {\n",
       "            // Setting opacity=1 would cause the texture's alpha component to be\n",
       "            // discarded, giving the text a black background instead of the\n",
       "            // background being transparent.\n",
       "            materialOptions.opacity = opacity;\n",
       "        }\n",
       "        var sprite = new THREE.Sprite( new THREE.SpriteMaterial( materialOptions ) );\n",
       "        sprite.position.set( x, y, z );\n",
       "\n",
       "        // Scaling factor, chosen somewhat arbitrarily so that the size of the text\n",
       "        // is consistent with previously generated plots.\n",
       "        var scale = 1/625;\n",
       "        if ( options.projection === 'orthographic' ) {\n",
       "            scale = midToCorner/256; // Needs to scale along with the plot itself.\n",
       "        }\n",
       "        sprite.scale.set( scale * width, scale * height, 1 );\n",
       "\n",
       "        scene.add( sprite );\n",
       "\n",
       "        return sprite;\n",
       "\n",
       "    }\n",
       "\n",
       "    if ( options.axes ) scene.add( new THREE.AxesHelper( Math.min( a[0]*b[1].x, a[1]*b[1].y, a[2]*b[1].z ) ) );\n",
       "\n",
       "    var camera = createCamera();\n",
       "    camera.up.set( 0, 0, 1 );\n",
       "    camera.position.set( a[0]*xMid, a[1]*yMid, a[2]*zMid );\n",
       "\n",
       "    var offset = new THREE.Vector3( a[0]*xRange, a[1]*yRange, a[2]*zRange );\n",
       "\n",
       "    if ( options.viewpoint ) {\n",
       "\n",
       "        var aa = options.viewpoint;\n",
       "        var axis = new THREE.Vector3( aa[0][0], aa[0][1], aa[0][2] ).normalize();\n",
       "        var angle = aa[1] * Math.PI / 180;\n",
       "        var q = new THREE.Quaternion().setFromAxisAngle( axis, angle ).inverse();\n",
       "\n",
       "        offset.set( 0, 0, offset.length() );\n",
       "        offset.applyQuaternion( q );\n",
       "\n",
       "    }\n",
       "\n",
       "    camera.position.add( offset );\n",
       "\n",
       "    function createCamera() {\n",
       "\n",
       "        var aspect = window.innerWidth / window.innerHeight;\n",
       "\n",
       "        // Scale the near and far clipping planes along with the overall plot size.\n",
       "        var nearClip = 0.01 * midToCorner;\n",
       "        var farClip = 100 * midToCorner;\n",
       "\n",
       "        if ( options.projection === 'orthographic' ) {\n",
       "            var camera = new THREE.OrthographicCamera( -1, 1, 1, -1, -farClip, farClip );\n",
       "            updateCameraAspect( camera, aspect );\n",
       "            return camera;\n",
       "        }\n",
       "\n",
       "        return new THREE.PerspectiveCamera( 45, aspect, nearClip, farClip );\n",
       "\n",
       "    }\n",
       "\n",
       "    function updateCameraAspect( camera, aspect ) {\n",
       "\n",
       "        if ( camera.isPerspectiveCamera ) {\n",
       "            camera.aspect = aspect;\n",
       "        } else if ( camera.isOrthographicCamera ) {\n",
       "            // Fit the camera frustum to the bounding box's diagonal so that the entire plot fits\n",
       "            // within at the default zoom level and camera position.\n",
       "            if ( aspect > 1 ) { // Wide window\n",
       "                camera.top = midToCorner;\n",
       "                camera.right = midToCorner * aspect;\n",
       "            } else { // Tall or square window\n",
       "                camera.top = midToCorner / aspect;\n",
       "                camera.right = midToCorner;\n",
       "            }\n",
       "            camera.bottom = -camera.top;\n",
       "            camera.left = -camera.right;\n",
       "        }\n",
       "\n",
       "        camera.updateProjectionMatrix();\n",
       "\n",
       "    }\n",
       "\n",
       "    var lights = [{&quot;x&quot;:-5, &quot;y&quot;:3, &quot;z&quot;:0, &quot;color&quot;:&quot;#7f7f7f&quot;, &quot;parent&quot;:&quot;camera&quot;}];\n",
       "    for ( var i=0 ; i < lights.length ; i++ ) {\n",
       "        var light = new THREE.DirectionalLight( lights[i].color, 1 );\n",
       "        light.position.set( a[0]*lights[i].x, a[1]*lights[i].y, a[2]*lights[i].z );\n",
       "        if ( lights[i].parent === 'camera' ) {\n",
       "            light.target.position.set( a[0]*xMid, a[1]*yMid, a[2]*zMid );\n",
       "            scene.add( light.target );\n",
       "            camera.add( light );\n",
       "        } else scene.add( light );\n",
       "    }\n",
       "    scene.add( camera );\n",
       "\n",
       "    var ambient = {&quot;color&quot;:&quot;#7f7f7f&quot;};\n",
       "    scene.add( new THREE.AmbientLight( ambient.color, 1 ) );\n",
       "\n",
       "    var controls = new THREE.OrbitControls( camera, renderer.domElement );\n",
       "    controls.target.set( a[0]*xMid, a[1]*yMid, a[2]*zMid );\n",
       "    controls.addEventListener( 'change', function() { if ( !animate ) render(); } );\n",
       "\n",
       "    window.addEventListener( 'resize', function() {\n",
       "\n",
       "        renderer.setSize( window.innerWidth, window.innerHeight );\n",
       "        updateCameraAspect( camera, window.innerWidth / window.innerHeight );\n",
       "        if ( window.rescaleFatLines ) rescaleFatLines();\n",
       "        if ( !animate ) render();\n",
       "\n",
       "    } );\n",
       "\n",
       "    var texts = [];\n",
       "    for ( var i=0 ; i < texts.length ; i++ ) addText( texts[i] );\n",
       "\n",
       "    function addText( json ) {\n",
       "        var sprite = addLabel( json.text, a[0]*json.x, a[1]*json.y, a[2]*json.z, json );\n",
       "        sprite.userData = json;\n",
       "    }\n",
       "\n",
       "    var points = [];\n",
       "    for ( var i=0 ; i < points.length ; i++ ) addPoint( points[i] );\n",
       "\n",
       "    function addPoint( json ) {\n",
       "\n",
       "        var geometry = new THREE.Geometry();\n",
       "        var v = json.point;\n",
       "        geometry.vertices.push( new THREE.Vector3( a[0]*v[0], a[1]*v[1], a[2]*v[2] ) );\n",
       "\n",
       "        var canvas = document.createElement( 'canvas' );\n",
       "        canvas.width = 128;\n",
       "        canvas.height = 128;\n",
       "\n",
       "        var context = canvas.getContext( '2d' );\n",
       "        context.arc( 64, 64, 64, 0, 2 * Math.PI );\n",
       "        context.fillStyle = json.color;\n",
       "        context.fill();\n",
       "\n",
       "        var texture = new THREE.Texture( canvas );\n",
       "        texture.needsUpdate = true;\n",
       "\n",
       "        var transparent = json.opacity < 1 ? true : false;\n",
       "        var size = camera.isOrthographicCamera ? json.size : json.size/100;\n",
       "        var material = new THREE.PointsMaterial( { size: size, map: texture,\n",
       "                                                   transparent: transparent, opacity: json.opacity,\n",
       "                                                   alphaTest: .1 } );\n",
       "\n",
       "        var c = new THREE.Vector3();\n",
       "        geometry.computeBoundingBox();\n",
       "        geometry.boundingBox.getCenter( c );\n",
       "        geometry.translate( -c.x, -c.y, -c.z );\n",
       "\n",
       "        var mesh = new THREE.Points( geometry, material );\n",
       "        mesh.position.set( c.x, c.y, c.z );\n",
       "        mesh.userData = json;\n",
       "        scene.add( mesh );\n",
       "\n",
       "    }\n",
       "\n",
       "    var lines = [{&quot;points&quot;: [[-1.0, 1.2246467991473532e-16, 6.123233995736766e-17], [-0.9995015891261737, -0.031568549764810765, 6.123233995736766e-17], [-0.9980068533314933, -0.06310563131267424, 6.123233995736766e-17], [-0.9955172826011058, -0.09457980779484546, 6.123233995736766e-17], [-0.9920353585932578, -0.12595970506771798, 6.123233995736766e-17], [-0.9875645521655236, -0.1572140429672511, 6.123233995736766e-17], [-0.9821093199149803, -0.18831166648971856, 6.123233995736766e-17], [-0.9756750997357735, -0.21922157684769195, 6.123233995736766e-17], [-0.9682683053985071, -0.24991296237030888, 6.123233995736766e-17], [-0.9598963201568568, -0.2803552292170153, 6.123233995736766e-17], [-0.9505674893877826, -0.3105180318741696, 6.123233995736766e-17], [-0.9402911122726753, -0.34037130340411353, 6.123233995736766e-17], [-0.9290774325277303, -0.3698852854165474, 6.123233995736766e-17], [-0.9169376281927886, -0.3990305577323415, 6.123233995736766e-17], [-0.9038838004888231, -0.42777806771021043, 6.123233995736766e-17], [-0.8899289617551799, -0.4560991592070167, 6.123233995736766e-17], [-0.8750870224785933, -0.48396560114283943, 6.123233995736766e-17], [-0.8593727774269116, -0.5113496156423273, 6.123233995736766e-17], [-0.8428018909013503, -0.538223905724289, 6.123233995736766e-17], [-0.8253908811219759, -0.5645616825119185, 6.123233995736766e-17], [-0.8071571037619848, -0.590336691936529, 6.123233995736766e-17], [-0.7881187346471918, -0.6155232409081798, 6.123233995736766e-17], [-0.76829475163797, -0.6400962229271081, 6.123233995736766e-17], [-0.7477049157117084, -0.664031143110432, 6.123233995736766e-17], [-0.7263697512646387, -0.687304142609185, 6.123233995736766e-17], [-0.7043105256526712, -0.7098920223913338, 6.123233995736766e-17], [-0.6815492279916329, -0.7317722663670776, 6.123233995736766e-17], [-0.6581085472380368, -0.7529230638333778, 6.123233995736766e-17], [-0.6340118495722378, -0.7733233312153398, 6.123233995736766e-17], [-0.6092831551065162, -0.7929527330827789, 6.123233995736766e-17], [-0.5839471139413055, -0.8117917024210213, 6.123233995736766e-17], [-0.5580289815934392, -0.8298214601357266, 6.123233995736766e-17], [-0.5315545938209008, -0.8470240337722993, 6.123233995736766e-17], [-0.5045503408691765, -0.8633822754312239, 6.123233995736766e-17], [-0.4770431411648891, -0.8788798788614607, 6.123233995736766e-17], [-0.4490604144829193, -0.8935013957148745, 6.123233995736766e-17], [-0.4206300546137839, -0.9072322509454815, 6.123233995736766e-17], [-0.3917804015584924, -0.9200587573381748, 6.123233995736766e-17], [-0.36254021327862423, -0.931968129152435, 6.123233995736766e-17], [-0.33293863702976056, -0.9429484948674373, 6.123233995736766e-17], [-0.3030051803068727, -0.9529889090158393, 6.123233995736766e-17], [-0.27276968143060265, -0.962079363094463, 6.123233995736766e-17], [-0.2422622798037833, -0.9702107955409862, 6.123233995736766e-17], [-0.21151338586781876, -0.9773751007667073, 6.123233995736766e-17], [-0.18055365078890245, -0.9835651372363698, 6.123233995736766e-17], [-0.14941393590426083, -0.9887747345870026, 6.123233995736766e-17], [-0.1181252819589084, -0.9929986997786696, 6.123233995736766e-17], [-0.08671887816355084, -0.9962328222710067, 6.123233995736766e-17], [-0.05522603110450784, -0.9984738782203788, 6.123233995736766e-17], [-0.023678133536624225, -0.9997196336934779, 6.123233995736766e-17], [0.007893366909713411, -0.9999688468941563, 6.123233995736766e-17], [0.03945699907625235, -0.9992212694012756, 6.123233995736766e-17], [0.07098129964801587, -0.9974776464163387, 6.123233995736766e-17], [0.10243484451661272, -0.994739716020657, 6.123233995736766e-17], [0.1337862801044789, -0.9910102074427921, 6.123233995736766e-17], [0.16500435461879853, -0.9862928383380029, 6.123233995736766e-17], [0.19605794920397768, -0.9805923110824042, 6.123233995736766e-17], [0.22691610896158926, -0.9739143080855379, 6.123233995736766e-17], [0.25754807380689615, -0.966265486126022, 6.123233995736766e-17], [0.28792330913116543, -0.9576534697159298, 6.123233995736766e-17], [0.31801153623923756, -0.9480868435005098, 6.123233995736766e-17], [0.3477827625319812, -0.9375751437008255, 6.123233995736766e-17], [0.37720731140357516, -0.9261288486078415, 6.123233995736766e-17], [0.4062558518237877, -0.9137593681374373, 6.123233995736766e-17], [0.43489942757579203, -0.9004790324567521, 6.123233995736766e-17], [0.4631094861203472, -0.8863010796932089, 6.123233995736766e-17], [0.49085790705759264, -0.8712396427384602, 6.123233995736766e-17], [0.518117030158076, -0.8553097351604128, 6.123233995736766e-17], [0.5448596829350686, -0.8385272362373786, 6.123233995736766e-17], [0.5710592077306932, -0.8209088751292637, 6.123233995736766e-17], [0.5966894882888547, -0.8024722142015789, 6.123233995736766e-17], [0.6217249757884936, -0.7832356315188918, 6.123233995736766e-17], [0.6461407143112078, -0.7632183025251702, 6.123233995736766e-17], [0.6699123657178528, -0.7424401809292852, 6.123233995736766e-17], [0.6930162339093298, -0.7209219788147183, 6.123233995736766e-17], [0.715429288447369, -0.6986851459933089, 6.123233995736766e-17], [0.737129187511777, -0.6757518486236109, 6.123233995736766e-17], [0.7580943001712438, -0.6521449471151886, 6.123233995736766e-17], [0.778303727945528, -0.6278879733408608, 6.123233995736766e-17], [0.7977373256375176, -0.6030051071796168, 6.123233995736766e-17], [0.8163757214143972, -0.5775211524135913, 6.123233995736766e-17], [0.8342003361179154, -0.5514615120031107, 6.123233995736766e-17], [0.8511934017844928, -0.5248521627644712, 6.123233995736766e-17], [0.8673379793567126, -0.49771962947568654, 6.123233995736766e-17], [0.8826179755685453, -0.4700909584360062, 6.123233995736766e-17], [0.8970181589874621, -0.441993690505582, 6.123233995736766e-17], [0.9105241751974607, -0.4134558336521375, 6.123233995736766e-17], [0.9231225611078594, -0.38450583503201397, 6.123233995736766e-17], [0.9348007583735969, -0.35517255263343206, 6.123233995736766e-17], [0.9455471259136656, -0.32548522651021594, 6.123233995736766e-17], [0.9553509515151936, -0.295473449634674, 6.123233995736766e-17], [0.9642024625116105, -0.26516713839868317, 6.123233995736766e-17], [0.972092835524256, -0.23459650279237287, 6.123233995736766e-17], [0.9790142052577138, -0.20379201629015595, -1.6081226496766364e-16], [0.9849596723401097, -0.1727843854741039, -1.6081226496766364e-16], [0.9899233102005566, -0.14160451942495567, -1.6081226496766364e-16], [0.9939001709768873, -0.11028349891127961, -1.6081226496766364e-16], [0.9968862904477928, -0.0788525454074816, -1.6081226496766364e-16], [0.9988786919844433, -0.04734298997156276, -1.6081226496766364e-16], [0.9998753895176572, -0.01578624201364227, -1.6081226496766364e-16], [0.9998753895176574, 0.01578624201363201, -1.6081226496766364e-16], [0.9988786919844438, 0.0473429899715534, -1.6081226496766364e-16], [0.9968862904477935, 0.07885254540747137, -1.6081226496766364e-16], [0.9939001709768883, 0.1102834989112703, -1.6081226496766364e-16], [0.9899233102005579, 0.1416045194249464, -1.6081226496766364e-16], [0.9849596723401115, 0.1727843854740938, -1.6081226496766364e-16], [0.9790142052577157, 0.2037920162901468, -1.6081226496766364e-16], [0.9720928355242584, 0.2345965027923629, -1.6081226496766364e-16], [0.9642024625116132, 0.26516713839867323, -1.6081226496766364e-16], [0.9553509515151963, 0.29547344963466504, -1.6081226496766364e-16], [0.945547125913669, 0.3254852265102062, -1.6081226496766364e-16], [0.9348007583736002, 0.3551725526334233, -1.6081226496766364e-16], [0.9231225611078631, 0.3845058350320053, -1.6081226496766364e-16], [0.9105241751974649, 0.4134558336521282, -1.6081226496766364e-16], [0.8970181589874662, 0.44199369050557363, -1.6081226496766364e-16], [0.88261797556855, 0.47009095843599713, -1.6081226496766364e-16], [0.8673379793567177, 0.49771962947567766, -1.6081226496766364e-16], [0.8511934017844978, 0.5248521627644632, -1.6081226496766364e-16], [0.8342003361179211, 0.5514615120031021, -1.6081226496766364e-16], [0.8163757214144026, 0.5775211524135836, -1.6081226496766364e-16], [0.7977373256375233, 0.6030051071796093, -1.6081226496766364e-16], [0.7783037279455345, 0.6278879733408528, -1.6081226496766364e-16], [0.7580943001712499, 0.6521449471151815, -1.6081226496766364e-16], [0.7371291875117839, 0.6757518486236034, -1.6081226496766364e-16], [0.7154292884473762, 0.6986851459933016, -1.6081226496766364e-16], [0.6930162339093365, 0.7209219788147118, -1.6081226496766364e-16], [0.6699123657178605, 0.7424401809292783, -1.6081226496766364e-16], [0.6461407143112149, 0.7632183025251641, -3.8285686989269494e-16], [0.6217249757885002, 0.7832356315188864, -3.8285686989269494e-16], [0.5966894882888608, 0.8024722142015743, -3.8285686989269494e-16], [0.5710592077306994, 0.8209088751292594, -3.8285686989269494e-16], [0.5448596829350749, 0.8385272362373745, -3.8285686989269494e-16], [0.5181170301580816, 0.8553097351604093, -3.8285686989269494e-16], [0.4908579070575977, 0.8712396427384573, -3.8285686989269494e-16], [0.4631094861203516, 0.8863010796932067, -3.8285686989269494e-16], [0.43489942757579647, 0.90047903245675, -3.8285686989269494e-16], [0.4062558518237922, 0.9137593681374353, -3.8285686989269494e-16], [0.37720731140357894, 0.9261288486078401, -3.8285686989269494e-16], [0.34778276253198503, 0.9375751437008241, -3.8285686989269494e-16], [0.31801153623924056, 0.9480868435005088, -3.8285686989269494e-16], [0.2879233091311684, 0.9576534697159289, -3.8285686989269494e-16], [0.2575480738068983, 0.9662654861260214, -3.8285686989269494e-16], [0.22691610896159148, 0.9739143080855375, -3.8285686989269494e-16], [0.196057949203979, 0.9805923110824039, -3.8285686989269494e-16], [0.1650043546187999, 0.9862928383380026, -3.8285686989269494e-16], [0.1337862801044794, 0.9910102074427921, -3.8285686989269494e-16], [0.10243484451661322, 0.9947397160206569, -3.8285686989269494e-16], [0.07098129964801547, 0.9974776464163388, -3.8285686989269494e-16], [0.039456999076251956, 0.9992212694012756, -3.8285686989269494e-16], [0.007893366909712124, 0.9999688468941563, -3.8285686989269494e-16], [-0.02367813353662551, 0.9997196336934779, -3.8285686989269494e-16], [-0.055226031104510014, 0.9984738782203787, -3.8285686989269494e-16], [-0.08671887816355302, 0.9962328222710065, -3.8285686989269494e-16], [-0.11812528195891055, 0.9929986997786694, -6.049014748177263e-16], [-0.14941393590426474, 0.988774734587002, -6.049014748177263e-16], [-0.18055365078890545, 0.9835651372363693, -6.049014748177263e-16], [-0.21151338586782176, 0.9773751007667066, -6.049014748177263e-16], [-0.24226227980378712, 0.9702107955409853, -6.049014748177263e-16], [-0.2727696814306082, 0.9620793630944614, -6.049014748177263e-16], [-0.3030051803068773, 0.9529889090158378, -6.049014748177263e-16], [-0.3329386370297651, 0.9429484948674357, -6.049014748177263e-16], [-0.36254021327862956, 0.9319681291524329, -6.049014748177263e-16], [-0.3917804015584993, 0.9200587573381719, -6.049014748177263e-16], [-0.4206300546137899, 0.9072322509454788, -6.049014748177263e-16], [-0.4490604144829252, 0.8935013957148715, -6.049014748177263e-16], [-0.47704314116489566, 0.878879878861457, -6.049014748177263e-16], [-0.5045503408691845, 0.8633822754312193, -6.049014748177263e-16], [-0.5315545938209079, 0.8470240337722948, -6.049014748177263e-16], [-0.558028981593446, 0.8298214601357219, -6.049014748177263e-16], [-0.583947113941313, 0.8117917024210158, -6.049014748177263e-16], [-0.6092831551065243, 0.7929527330827727, -6.049014748177263e-16], [-0.6340118495722457, 0.7733233312153334, -6.049014748177263e-16], [-0.6581085472380441, 0.7529230638333714, -6.049014748177263e-16], [-0.681549227991641, 0.73177226636707, -6.049014748177263e-16], [-0.70431052565268, 0.7098920223913251, -6.049014748177263e-16], [-0.7263697512646466, 0.6873041426091766, -8.269460797427576e-16], [-0.7477049157117157, 0.6640311431104238, -8.269460797427576e-16], [-0.7682947516379779, 0.6400962229270986, -8.269460797427576e-16], [-0.7881187346472001, 0.6155232409081693, -8.269460797427576e-16], [-0.8071571037619925, 0.5903366919365187, -8.269460797427576e-16], [-0.8253908811219827, 0.5645616825119086, -8.269460797427576e-16], [-0.8428018909013575, 0.5382239057242779, -8.269460797427576e-16], [-0.8593727774269191, 0.5113496156423147, -8.269460797427576e-16], [-0.8750870224786002, 0.483965601142827, -8.269460797427576e-16], [-0.8899289617551861, 0.4560991592070045, -8.269460797427576e-16], [-0.9038838004888295, 0.42777806771019683, -8.269460797427576e-16], [-0.9169376281927949, 0.3990305577323269, -8.269460797427576e-16], [-0.929077432527736, 0.36988528541653304, -8.269460797427576e-16], [-0.9402911122726805, 0.3403713034040994, -8.269460797427576e-16], [-0.9505674893877877, 0.31051803187415405, -8.269460797427576e-16], [-0.9598963201568618, 0.28035522921699824, -8.269460797427576e-16], [-0.9682683053985113, 0.2499129623702926, -8.269460797427576e-16], [-0.975675099735777, 0.21922157684767596, -8.269460797427576e-16], [-0.9821093199149836, 0.18831166648970116, -8.269460797427576e-16], [-0.9875645521655266, 0.15721404296723274, -8.269460797427576e-16], [-0.9920353585932601, 0.12595970506769996, -1.048990684667789e-15], [-0.9955172826011075, 0.09457980779482782, -1.048990684667789e-15], [-0.9980068533314945, 0.06310563131265523, -1.048990684667789e-15], [-0.9995015891261744, 0.031568549764790836, -1.048990684667789e-15], [-0.9999999501547723, 0.0003157379498883118, -1.048990684667789e-15]], &quot;color&quot;: &quot;#ff0000&quot;, &quot;opacity&quot;: 1.0, &quot;linewidth&quot;: 3.0}];\n",
       "    for ( var i=0 ; i < lines.length ; i++ ) addLine( lines[i] );\n",
       "\n",
       "    function addLine( json ) {\n",
       "\n",
       "        var geometry = new THREE.Geometry();\n",
       "        for ( var i=0 ; i < json.points.length ; i++ ) {\n",
       "            var v = json.points[i];\n",
       "            geometry.vertices.push( new THREE.Vector3( a[0]*v[0], a[1]*v[1], a[2]*v[2] ) );\n",
       "        }\n",
       "\n",
       "        var c = new THREE.Vector3();\n",
       "        geometry.computeBoundingBox();\n",
       "        geometry.boundingBox.getCenter( c );\n",
       "        geometry.translate( -c.x, -c.y, -c.z );\n",
       "\n",
       "        var transparent = json.opacity < 1 ? true : false;\n",
       "        var materialOptions = { color: json.color, linewidth: json.linewidth,\n",
       "                                transparent: transparent, opacity: json.opacity };\n",
       "\n",
       "        var mesh;\n",
       "        if ( json.linewidth > 1 && window.createFatLineStrip ) {\n",
       "            mesh = createFatLineStrip( geometry, materialOptions );\n",
       "        } else {\n",
       "            var material = new THREE.LineBasicMaterial( materialOptions );\n",
       "            mesh = new THREE.Line( geometry, material );\n",
       "        }\n",
       "\n",
       "        mesh.position.set( c.x, c.y, c.z );\n",
       "        mesh.userData = json;\n",
       "        scene.add( mesh );\n",
       "\n",
       "    }\n",
       "\n",
       "    var surfaces = [{&quot;vertices&quot;: [{&quot;x&quot;: 0.0, &quot;y&quot;: 0.0, &quot;z&quot;: -1.0}, {&quot;x&quot;: 0.15405787400993662, &quot;y&quot;: 0.027164559778537222, &quot;z&quot;: -0.9876883405951378}, {&quot;x&quot;: 0.15643446504023092, &quot;y&quot;: 0.0, &quot;z&quot;: -0.9876883405951378}, {&quot;x&quot;: 0.14700031243489617, &quot;y&quot;: 0.05350373815413409, &quot;z&quot;: -0.9876883405951378}, {&quot;x&quot;: 0.13547622075226864, &quot;y&quot;: 0.07821723252011545, &quot;z&quot;: -0.9876883405951378}, {&quot;x&quot;: 0.11983575265635893, &quot;y&quot;: 0.10055413585580253, &quot;z&quot;: -0.9876883405951378}, {&quot;x&quot;: 0.10055413585580254, &quot;y&quot;: 0.11983575265635893, &quot;z&quot;: -0.9876883405951378}, {&quot;x&quot;: 0.07821723252011548, &quot;y&quot;: 0.13547622075226862, &quot;z&quot;: -0.9876883405951378}, {&quot;x&quot;: 0.05350373815413411, &quot;y&quot;: 0.14700031243489614, &quot;z&quot;: -0.9876883405951378}, {&quot;x&quot;: 0.027164559778537236, &quot;y&quot;: 0.15405787400993662, &quot;z&quot;: -0.9876883405951378}, {&quot;x&quot;: 9.578848344392366e-18, &quot;y&quot;: 0.15643446504023092, &quot;z&quot;: -0.9876883405951378}, {&quot;x&quot;: -0.02716455977853722, &quot;y&quot;: 0.15405787400993662, &quot;z&quot;: -0.9876883405951378}, {&quot;x&quot;: -0.053503738154134055, &quot;y&quot;: 0.14700031243489617, &quot;z&quot;: -0.9876883405951378}, {&quot;x&quot;: -0.07821723252011542, &quot;y&quot;: 0.13547622075226864, &quot;z&quot;: -0.9876883405951378}, {&quot;x&quot;: -0.10055413585580254, &quot;y&quot;: 0.11983575265635893, &quot;z&quot;: -0.9876883405951378}, {&quot;x&quot;: -0.11983575265635892, &quot;y&quot;: 0.10055413585580256, &quot;z&quot;: -0.9876883405951378}, {&quot;x&quot;: -0.13547622075226862, &quot;y&quot;: 0.07821723252011552, &quot;z&quot;: -0.9876883405951378}, {&quot;x&quot;: -0.14700031243489614, &quot;y&quot;: 0.05350373815413412, &quot;z&quot;: -0.9876883405951378}, {&quot;x&quot;: -0.15405787400993662, &quot;y&quot;: 0.02716455977853721, &quot;z&quot;: -0.9876883405951378}, {&quot;x&quot;: -0.15643446504023092, &quot;y&quot;: 1.9157696688784732e-17, &quot;z&quot;: -0.9876883405951378}, {&quot;x&quot;: -0.15405787400993665, &quot;y&quot;: -0.027164559778537174, &quot;z&quot;: -0.9876883405951378}, {&quot;x&quot;: -0.14700031243489617, &quot;y&quot;: -0.05350373815413408, &quot;z&quot;: -0.9876883405951378}, {&quot;x&quot;: -0.13547622075226862, &quot;y&quot;: -0.07821723252011548, &quot;z&quot;: -0.9876883405951378}, {&quot;x&quot;: -0.11983575265635898, &quot;y&quot;: -0.10055413585580247, &quot;z&quot;: -0.9876883405951378}, {&quot;x&quot;: -0.10055413585580256, &quot;y&quot;: -0.11983575265635892, &quot;z&quot;: -0.9876883405951378}, {&quot;x&quot;: -0.07821723252011553, &quot;y&quot;: -0.1354762207522686, &quot;z&quot;: -0.9876883405951378}, {&quot;x&quot;: -0.05350373815413407, &quot;y&quot;: -0.14700031243489617, &quot;z&quot;: -0.9876883405951378}, {&quot;x&quot;: -0.027164559778537222, &quot;y&quot;: -0.15405787400993662, &quot;z&quot;: -0.9876883405951378}, {&quot;x&quot;: -2.87365450331771e-17, &quot;y&quot;: -0.15643446504023092, &quot;z&quot;: -0.9876883405951378}, {&quot;x&quot;: 0.027164559778537163, &quot;y&quot;: -0.15405787400993665, &quot;z&quot;: -0.9876883405951378}, {&quot;x&quot;: 0.05350373815413414, &quot;y&quot;: -0.14700031243489614, &quot;z&quot;: -0.9876883405951378}, {&quot;x&quot;: 0.07821723252011535, &quot;y&quot;: -0.1354762207522687, &quot;z&quot;: -0.9876883405951378}, {&quot;x&quot;: 0.10055413585580253, &quot;y&quot;: -0.11983575265635896, &quot;z&quot;: -0.9876883405951378}, {&quot;x&quot;: 0.1198357526563589, &quot;y&quot;: -0.10055413585580257, &quot;z&quot;: -0.9876883405951378}, {&quot;x&quot;: 0.13547622075226867, &quot;y&quot;: -0.0782172325201154, &quot;z&quot;: -0.9876883405951378}, {&quot;x&quot;: 0.14700031243489617, &quot;y&quot;: -0.053503738154134076, &quot;z&quot;: -0.9876883405951378}, {&quot;x&quot;: 0.15405787400993662, &quot;y&quot;: -0.02716455977853723, &quot;z&quot;: -0.9876883405951378}, {&quot;x&quot;: 0.30432233187297814, &quot;y&quot;: 0.05366023794132169, &quot;z&quot;: -0.9510565162951535}, {&quot;x&quot;: 0.30901699437494745, &quot;y&quot;: 0.0, &quot;z&quot;: -0.9510565162951535}, {&quot;x&quot;: 0.2903809893115787, &quot;y&quot;: 0.10569003670618689, &quot;z&quot;: -0.9510565162951535}, {&quot;x&quot;: 0.2676165673298175, &quot;y&quot;: 0.1545084971874737, &quot;z&quot;: -0.9510565162951535}, {&quot;x&quot;: 0.23672075137025697, &quot;y&quot;: 0.1986322951667912, &quot;z&quot;: -0.9510565162951535}, {&quot;x&quot;: 0.19863229516679126, &quot;y&quot;: 0.23672075137025697, &quot;z&quot;: -0.9510565162951535}, {&quot;x&quot;: 0.15450849718747375, &quot;y&quot;: 0.2676165673298175, &quot;z&quot;: -0.9510565162951535}, {&quot;x&quot;: 0.10569003670618693, &quot;y&quot;: 0.2903809893115787, &quot;z&quot;: -0.9510565162951535}, {&quot;x&quot;: 0.053660237941321715, &quot;y&quot;: 0.30432233187297814, &quot;z&quot;: -0.9510565162951535}, {&quot;x&quot;: 1.8921833652170753e-17, &quot;y&quot;: 0.30901699437494745, &quot;z&quot;: -0.9510565162951535}, {&quot;x&quot;: -0.05366023794132168, &quot;y&quot;: 0.30432233187297814, &quot;z&quot;: -0.9510565162951535}, {&quot;x&quot;: -0.10569003670618682, &quot;y&quot;: 0.2903809893115787, &quot;z&quot;: -0.9510565162951535}, {&quot;x&quot;: -0.15450849718747367, &quot;y&quot;: 0.2676165673298175, &quot;z&quot;: -0.9510565162951535}, {&quot;x&quot;: -0.19863229516679126, &quot;y&quot;: 0.23672075137025697, &quot;z&quot;: -0.9510565162951535}, {&quot;x&quot;: -0.23672075137025694, &quot;y&quot;: 0.1986322951667913, &quot;z&quot;: -0.9510565162951535}, {&quot;x&quot;: -0.2676165673298174, &quot;y&quot;: 0.15450849718747384, &quot;z&quot;: -0.9510565162951535}, {&quot;x&quot;: -0.2903809893115787, &quot;y&quot;: 0.10569003670618694, &quot;z&quot;: -0.9510565162951535}, {&quot;x&quot;: -0.30432233187297814, &quot;y&quot;: 0.053660237941321666, &quot;z&quot;: -0.9510565162951535}, {&quot;x&quot;: -0.30901699437494745, &quot;y&quot;: 3.7843667304341506e-17, &quot;z&quot;: -0.9510565162951535}, {&quot;x&quot;: -0.30432233187297814, &quot;y&quot;: -0.05366023794132159, &quot;z&quot;: -0.9510565162951535}, {&quot;x&quot;: -0.2903809893115787, &quot;y&quot;: -0.10569003670618687, &quot;z&quot;: -0.9510565162951535}, {&quot;x&quot;: -0.2676165673298175, &quot;y&quot;: -0.15450849718747375, &quot;z&quot;: -0.9510565162951535}, {&quot;x&quot;: -0.23672075137025708, &quot;y&quot;: -0.19863229516679112, &quot;z&quot;: -0.9510565162951535}, {&quot;x&quot;: -0.1986322951667913, &quot;y&quot;: -0.23672075137025694, &quot;z&quot;: -0.9510565162951535}, {&quot;x&quot;: -0.15450849718747386, &quot;y&quot;: -0.26761656732981737, &quot;z&quot;: -0.9510565162951535}, {&quot;x&quot;: -0.10569003670618683, &quot;y&quot;: -0.2903809893115787, &quot;z&quot;: -0.9510565162951535}, {&quot;x&quot;: -0.05366023794132169, &quot;y&quot;: -0.30432233187297814, &quot;z&quot;: -0.9510565162951535}, {&quot;x&quot;: -5.676550095651226e-17, &quot;y&quot;: -0.30901699437494745, &quot;z&quot;: -0.9510565162951535}, {&quot;x&quot;: 0.053660237941321576, &quot;y&quot;: -0.30432233187297814, &quot;z&quot;: -0.9510565162951535}, {&quot;x&quot;: 0.10569003670618697, &quot;y&quot;: -0.2903809893115787, &quot;z&quot;: -0.9510565162951535}, {&quot;x&quot;: 0.15450849718747353, &quot;y&quot;: -0.2676165673298176, &quot;z&quot;: -0.9510565162951535}, {&quot;x&quot;: 0.1986322951667912, &quot;y&quot;: -0.23672075137025703, &quot;z&quot;: -0.9510565162951535}, {&quot;x&quot;: 0.23672075137025692, &quot;y&quot;: -0.19863229516679132, &quot;z&quot;: -0.9510565162951535}, {&quot;x&quot;: 0.26761656732981753, &quot;y&quot;: -0.15450849718747361, &quot;z&quot;: -0.9510565162951535}, {&quot;x&quot;: 0.2903809893115787, &quot;y&quot;: -0.10569003670618686, &quot;z&quot;: -0.9510565162951535}, {&quot;x&quot;: 0.30432233187297814, &quot;y&quot;: -0.0536602379413217, &quot;z&quot;: -0.9510565162951535}, {&quot;x&quot;: 0.4470933639373925, &quot;y&quot;: 0.07883462295787132, &quot;z&quot;: -0.8910065241883678}, {&quot;x&quot;: 0.4539904997395468, &quot;y&quot;: 0.0, &quot;z&quot;: -0.8910065241883678}, {&quot;x&quot;: 0.426611522512159, &quot;y&quot;: 0.15527389578941175, &quot;z&quot;: -0.8910065241883678}, {&quot;x&quot;: 0.39316730585124016, &quot;y&quot;: 0.22699524986977337, &quot;z&quot;: -0.8910065241883678}, {&quot;x&quot;: 0.34777689955428764, &quot;y&quot;: 0.2918194681479807, &quot;z&quot;: -0.8910065241883678}, {&quot;x&quot;: 0.29181946814798077, &quot;y&quot;: 0.34777689955428764, &quot;z&quot;: -0.8910065241883678}, {&quot;x&quot;: 0.22699524986977346, &quot;y&quot;: 0.3931673058512401, &quot;z&quot;: -0.8910065241883678}, {&quot;x&quot;: 0.1552738957894118, &quot;y&quot;: 0.42661152251215895, &quot;z&quot;: -0.8910065241883678}, {&quot;x&quot;: 0.07883462295787134, &quot;y&quot;: 0.4470933639373925, &quot;z&quot;: -0.8910065241883678}, {&quot;x&quot;: 2.7798900617467165e-17, &quot;y&quot;: 0.4539904997395468, &quot;z&quot;: -0.8910065241883678}, {&quot;x&quot;: -0.0788346229578713, &quot;y&quot;: 0.4470933639373925, &quot;z&quot;: -0.8910065241883678}, {&quot;x&quot;: -0.15527389578941167, &quot;y&quot;: 0.426611522512159, &quot;z&quot;: -0.8910065241883678}, {&quot;x&quot;: -0.2269952498697733, &quot;y&quot;: 0.39316730585124016, &quot;z&quot;: -0.8910065241883678}, {&quot;x&quot;: -0.29181946814798077, &quot;y&quot;: 0.34777689955428764, &quot;z&quot;: -0.8910065241883678}, {&quot;x&quot;: -0.3477768995542876, &quot;y&quot;: 0.2918194681479808, &quot;z&quot;: -0.8910065241883678}, {&quot;x&quot;: -0.39316730585124005, &quot;y&quot;: 0.22699524986977354, &quot;z&quot;: -0.8910065241883678}, {&quot;x&quot;: -0.42661152251215895, &quot;y&quot;: 0.15527389578941184, &quot;z&quot;: -0.8910065241883678}, {&quot;x&quot;: -0.4470933639373925, &quot;y&quot;: 0.07883462295787129, &quot;z&quot;: -0.8910065241883678}, {&quot;x&quot;: -0.4539904997395468, &quot;y&quot;: 5.559780123493433e-17, &quot;z&quot;: -0.8910065241883678}, {&quot;x&quot;: -0.4470933639373926, &quot;y&quot;: -0.07883462295787118, &quot;z&quot;: -0.8910065241883678}, {&quot;x&quot;: -0.426611522512159, &quot;y&quot;: -0.15527389578941173, &quot;z&quot;: -0.8910065241883678}, {&quot;x&quot;: -0.3931673058512401, &quot;y&quot;: -0.22699524986977346, &quot;z&quot;: -0.8910065241883678}, {&quot;x&quot;: -0.3477768995542878, &quot;y&quot;: -0.29181946814798054, &quot;z&quot;: -0.8910065241883678}, {&quot;x&quot;: -0.2918194681479808, &quot;y&quot;: -0.3477768995542876, &quot;z&quot;: -0.8910065241883678}, {&quot;x&quot;: -0.2269952498697736, &quot;y&quot;: -0.39316730585124, &quot;z&quot;: -0.8910065241883678}, {&quot;x&quot;: -0.1552738957894117, &quot;y&quot;: -0.426611522512159, &quot;z&quot;: -0.8910065241883678}, {&quot;x&quot;: -0.07883462295787132, &quot;y&quot;: -0.4470933639373925, &quot;z&quot;: -0.8910065241883678}, {&quot;x&quot;: -8.339670185240149e-17, &quot;y&quot;: -0.4539904997395468, &quot;z&quot;: -0.8910065241883678}, {&quot;x&quot;: 0.07883462295787115, &quot;y&quot;: -0.4470933639373926, &quot;z&quot;: -0.8910065241883678}, {&quot;x&quot;: 0.1552738957894119, &quot;y&quot;: -0.42661152251215895, &quot;z&quot;: -0.8910065241883678}, {&quot;x&quot;: 0.2269952498697731, &quot;y&quot;: -0.39316730585124027, &quot;z&quot;: -0.8910065241883678}, {&quot;x&quot;: 0.2918194681479807, &quot;y&quot;: -0.3477768995542877, &quot;z&quot;: -0.8910065241883678}, {&quot;x&quot;: 0.3477768995542876, &quot;y&quot;: -0.2918194681479809, &quot;z&quot;: -0.8910065241883678}, {&quot;x&quot;: 0.3931673058512402, &quot;y&quot;: -0.22699524986977326, &quot;z&quot;: -0.8910065241883678}, {&quot;x&quot;: 0.426611522512159, &quot;y&quot;: -0.15527389578941173, &quot;z&quot;: -0.8910065241883678}, {&quot;x&quot;: 0.4470933639373925, &quot;y&quot;: -0.07883462295787133, &quot;z&quot;: -0.8910065241883678}, {&quot;x&quot;: 0.5788554735638642, &quot;y&quot;: 0.10206783792008485, &quot;z&quot;: -0.8090169943749475}, {&quot;x&quot;: 0.5877852522924731, &quot;y&quot;: 0.0, &quot;z&quot;: -0.8090169943749475}, {&quot;x&quot;: 0.5523374641860205, &quot;y&quot;: 0.201034396233786, &quot;z&quot;: -0.8090169943749475}, {&quot;x&quot;: 0.5090369604551273, &quot;y&quot;: 0.2938926261462365, &quot;z&quot;: -0.8090169943749475}, {&quot;x&quot;: 0.4502696262659356, &quot;y&quot;: 0.37782107733007825, &quot;z&quot;: -0.8090169943749475}, {&quot;x&quot;: 0.3778210773300783, &quot;y&quot;: 0.4502696262659356, &quot;z&quot;: -0.8090169943749475}, {&quot;x&quot;: 0.2938926261462366, &quot;y&quot;: 0.5090369604551271, &quot;z&quot;: -0.8090169943749475}, {&quot;x&quot;: 0.20103439623378608, &quot;y&quot;: 0.5523374641860204, &quot;z&quot;: -0.8090169943749475}, {&quot;x&quot;: 0.10206783792008489, &quot;y&quot;: 0.5788554735638642, &quot;z&quot;: -0.8090169943749475}, {&quot;x&quot;: 3.599146639029983e-17, &quot;y&quot;: 0.5877852522924731, &quot;z&quot;: -0.8090169943749475}, {&quot;x&quot;: -0.10206783792008482, &quot;y&quot;: 0.5788554735638642, &quot;z&quot;: -0.8090169943749475}, {&quot;x&quot;: -0.20103439623378588, &quot;y&quot;: 0.5523374641860205, &quot;z&quot;: -0.8090169943749475}, {&quot;x&quot;: -0.29389262614623646, &quot;y&quot;: 0.5090369604551273, &quot;z&quot;: -0.8090169943749475}, {&quot;x&quot;: -0.3778210773300783, &quot;y&quot;: 0.4502696262659356, &quot;z&quot;: -0.8090169943749475}, {&quot;x&quot;: -0.45026962626593553, &quot;y&quot;: 0.37782107733007836, &quot;z&quot;: -0.8090169943749475}, {&quot;x&quot;: -0.5090369604551271, &quot;y&quot;: 0.2938926261462368, &quot;z&quot;: -0.8090169943749475}, {&quot;x&quot;: -0.5523374641860204, &quot;y&quot;: 0.2010343962337861, &quot;z&quot;: -0.8090169943749475}, {&quot;x&quot;: -0.5788554735638642, &quot;y&quot;: 0.10206783792008481, &quot;z&quot;: -0.8090169943749475}, {&quot;x&quot;: -0.5877852522924731, &quot;y&quot;: 7.198293278059966e-17, &quot;z&quot;: -0.8090169943749475}, {&quot;x&quot;: -0.5788554735638644, &quot;y&quot;: -0.10206783792008467, &quot;z&quot;: -0.8090169943749475}, {&quot;x&quot;: -0.5523374641860205, &quot;y&quot;: -0.20103439623378597, &quot;z&quot;: -0.8090169943749475}, {&quot;x&quot;: -0.5090369604551271, &quot;y&quot;: -0.2938926261462366, &quot;z&quot;: -0.8090169943749475}, {&quot;x&quot;: -0.45026962626593575, &quot;y&quot;: -0.377821077330078, &quot;z&quot;: -0.8090169943749475}, {&quot;x&quot;: -0.37782107733007836, &quot;y&quot;: -0.45026962626593553, &quot;z&quot;: -0.8090169943749475}, {&quot;x&quot;: -0.29389262614623685, &quot;y&quot;: -0.509036960455127, &quot;z&quot;: -0.8090169943749475}, {&quot;x&quot;: -0.2010343962337859, &quot;y&quot;: -0.5523374641860205, &quot;z&quot;: -0.8090169943749475}, {&quot;x&quot;: -0.10206783792008485, &quot;y&quot;: -0.5788554735638642, &quot;z&quot;: -0.8090169943749475}, {&quot;x&quot;: -1.079743991708995e-16, &quot;y&quot;: -0.5877852522924731, &quot;z&quot;: -0.8090169943749475}, {&quot;x&quot;: 0.10206783792008463, &quot;y&quot;: -0.5788554735638644, &quot;z&quot;: -0.8090169943749475}, {&quot;x&quot;: 0.20103439623378616, &quot;y&quot;: -0.5523374641860204, &quot;z&quot;: -0.8090169943749475}, {&quot;x&quot;: 0.2938926261462362, &quot;y&quot;: -0.5090369604551275, &quot;z&quot;: -0.8090169943749475}, {&quot;x&quot;: 0.37782107733007825, &quot;y&quot;: -0.45026962626593564, &quot;z&quot;: -0.8090169943749475}, {&quot;x&quot;: 0.4502696262659355, &quot;y&quot;: -0.3778210773300784, &quot;z&quot;: -0.8090169943749475}, {&quot;x&quot;: 0.5090369604551273, &quot;y&quot;: -0.29389262614623635, &quot;z&quot;: -0.8090169943749475}, {&quot;x&quot;: 0.5523374641860205, &quot;y&quot;: -0.20103439623378594, &quot;z&quot;: -0.8090169943749475}, {&quot;x&quot;: 0.5788554735638642, &quot;y&quot;: -0.10206783792008488, &quot;z&quot;: -0.8090169943749475}, {&quot;x&quot;: 0.696364240320019, &quot;y&quot;: 0.12278780396897285, &quot;z&quot;: -0.7071067811865475}, {&quot;x&quot;: 0.7071067811865476, &quot;y&quot;: 0.0, &quot;z&quot;: -0.7071067811865475}, {&quot;x&quot;: 0.6644630243886748, &quot;y&quot;: 0.24184476264797528, &quot;z&quot;: -0.7071067811865475}, {&quot;x&quot;: 0.6123724356957946, &quot;y&quot;: 0.35355339059327373, &quot;z&quot;: -0.7071067811865475}, {&quot;x&quot;: 0.5416752204197018, &quot;y&quot;: 0.45451947767204365, &quot;z&quot;: -0.7071067811865475}, {&quot;x&quot;: 0.45451947767204376, &quot;y&quot;: 0.5416752204197018, &quot;z&quot;: -0.7071067811865475}, {&quot;x&quot;: 0.35355339059327384, &quot;y&quot;: 0.6123724356957946, &quot;z&quot;: -0.7071067811865475}, {&quot;x&quot;: 0.24184476264797533, &quot;y&quot;: 0.6644630243886747, &quot;z&quot;: -0.7071067811865475}, {&quot;x&quot;: 0.1227878039689729, &quot;y&quot;: 0.696364240320019, &quot;z&quot;: -0.7071067811865475}, {&quot;x&quot;: 4.329780281177467e-17, &quot;y&quot;: 0.7071067811865476, &quot;z&quot;: -0.7071067811865475}, {&quot;x&quot;: -0.12278780396897282, &quot;y&quot;: 0.696364240320019, &quot;z&quot;: -0.7071067811865475}, {&quot;x&quot;: -0.2418447626479751, &quot;y&quot;: 0.6644630243886748, &quot;z&quot;: -0.7071067811865475}, {&quot;x&quot;: -0.3535533905932736, &quot;y&quot;: 0.6123724356957946, &quot;z&quot;: -0.7071067811865475}, {&quot;x&quot;: -0.45451947767204376, &quot;y&quot;: 0.5416752204197018, &quot;z&quot;: -0.7071067811865475}, {&quot;x&quot;: -0.5416752204197018, &quot;y&quot;: 0.4545194776720438, &quot;z&quot;: -0.7071067811865475}, {&quot;x&quot;: -0.6123724356957945, &quot;y&quot;: 0.353553390593274, &quot;z&quot;: -0.7071067811865475}, {&quot;x&quot;: -0.6644630243886747, &quot;y&quot;: 0.2418447626479754, &quot;z&quot;: -0.7071067811865475}, {&quot;x&quot;: -0.696364240320019, &quot;y&quot;: 0.1227878039689728, &quot;z&quot;: -0.7071067811865475}, {&quot;x&quot;: -0.7071067811865476, &quot;y&quot;: 8.659560562354934e-17, &quot;z&quot;: -0.7071067811865475}, {&quot;x&quot;: -0.6963642403200191, &quot;y&quot;: -0.12278780396897263, &quot;z&quot;: -0.7071067811865475}, {&quot;x&quot;: -0.6644630243886748, &quot;y&quot;: -0.24184476264797522, &quot;z&quot;: -0.7071067811865475}, {&quot;x&quot;: -0.6123724356957946, &quot;y&quot;: -0.35355339059327384, &quot;z&quot;: -0.7071067811865475}, {&quot;x&quot;: -0.5416752204197021, &quot;y&quot;: -0.4545194776720434, &quot;z&quot;: -0.7071067811865475}, {&quot;x&quot;: -0.4545194776720438, &quot;y&quot;: -0.5416752204197018, &quot;z&quot;: -0.7071067811865475}, {&quot;x&quot;: -0.3535533905932741, &quot;y&quot;: -0.6123724356957944, &quot;z&quot;: -0.7071067811865475}, {&quot;x&quot;: -0.24184476264797514, &quot;y&quot;: -0.6644630243886748, &quot;z&quot;: -0.7071067811865475}, {&quot;x&quot;: -0.12278780396897285, &quot;y&quot;: -0.696364240320019, &quot;z&quot;: -0.7071067811865475}, {&quot;x&quot;: -1.29893408435324e-16, &quot;y&quot;: -0.7071067811865476, &quot;z&quot;: -0.7071067811865475}, {&quot;x&quot;: 0.12278780396897258, &quot;y&quot;: -0.6963642403200191, &quot;z&quot;: -0.7071067811865475}, {&quot;x&quot;: 0.24184476264797547, &quot;y&quot;: -0.6644630243886747, &quot;z&quot;: -0.7071067811865475}, {&quot;x&quot;: 0.35355339059327334, &quot;y&quot;: -0.6123724356957948, &quot;z&quot;: -0.7071067811865475}, {&quot;x&quot;: 0.45451947767204365, &quot;y&quot;: -0.541675220419702, &quot;z&quot;: -0.7071067811865475}, {&quot;x&quot;: 0.5416752204197017, &quot;y&quot;: -0.45451947767204387, &quot;z&quot;: -0.7071067811865475}, {&quot;x&quot;: 0.6123724356957947, &quot;y&quot;: -0.35355339059327356, &quot;z&quot;: -0.7071067811865475}, {&quot;x&quot;: 0.6644630243886748, &quot;y&quot;: -0.2418447626479752, &quot;z&quot;: -0.7071067811865475}, {&quot;x&quot;: 0.696364240320019, &quot;y&quot;: -0.12278780396897288, &quot;z&quot;: -0.7071067811865475}, {&quot;x&quot;: 0.7967262083790821, &quot;y&quot;: 0.14048432677478684, &quot;z&quot;: -0.5877852522924731}, {&quot;x&quot;: 0.8090169943749475, &quot;y&quot;: 0.0, &quot;z&quot;: -0.5877852522924731}, {&quot;x&quot;: 0.760227299704533, &quot;y&quot;: 0.27670010836902126, &quot;z&quot;: -0.5877852522924731}, {&quot;x&quot;: 0.7006292692220368, &quot;y&quot;: 0.40450849718747367, &quot;z&quot;: -0.5877852522924731}, {&quot;x&quot;: 0.619742972929746, &quot;y&quot;: 0.5200261000100609, &quot;z&quot;: -0.5877852522924731}, {&quot;x&quot;: 0.5200261000100609, &quot;y&quot;: 0.619742972929746, &quot;z&quot;: -0.5877852522924731}, {&quot;x&quot;: 0.40450849718747384, &quot;y&quot;: 0.7006292692220367, &quot;z&quot;: -0.5877852522924731}, {&quot;x&quot;: 0.2767001083690213, &quot;y&quot;: 0.7602272997045328, &quot;z&quot;: -0.5877852522924731}, {&quot;x&quot;: 0.14048432677478692, &quot;y&quot;: 0.7967262083790821, &quot;z&quot;: -0.5877852522924731}, {&quot;x&quot;: 4.953800363085458e-17, &quot;y&quot;: 0.8090169943749475, &quot;z&quot;: -0.5877852522924731}, {&quot;x&quot;: -0.14048432677478684, &quot;y&quot;: 0.7967262083790821, &quot;z&quot;: -0.5877852522924731}, {&quot;x&quot;: -0.2767001083690211, &quot;y&quot;: 0.760227299704533, &quot;z&quot;: -0.5877852522924731}, {&quot;x&quot;: -0.40450849718747356, &quot;y&quot;: 0.7006292692220368, &quot;z&quot;: -0.5877852522924731}, {&quot;x&quot;: -0.5200261000100609, &quot;y&quot;: 0.619742972929746, &quot;z&quot;: -0.5877852522924731}, {&quot;x&quot;: -0.6197429729297459, &quot;y&quot;: 0.520026100010061, &quot;z&quot;: -0.5877852522924731}, {&quot;x&quot;: -0.7006292692220366, &quot;y&quot;: 0.404508497187474, &quot;z&quot;: -0.5877852522924731}, {&quot;x&quot;: -0.7602272997045328, &quot;y&quot;: 0.27670010836902137, &quot;z&quot;: -0.5877852522924731}, {&quot;x&quot;: -0.7967262083790821, &quot;y&quot;: 0.1404843267747868, &quot;z&quot;: -0.5877852522924731}, {&quot;x&quot;: -0.8090169943749475, &quot;y&quot;: 9.907600726170916e-17, &quot;z&quot;: -0.5877852522924731}, {&quot;x&quot;: -0.7967262083790823, &quot;y&quot;: -0.14048432677478662, &quot;z&quot;: -0.5877852522924731}, {&quot;x&quot;: -0.760227299704533, &quot;y&quot;: -0.2767001083690212, &quot;z&quot;: -0.5877852522924731}, {&quot;x&quot;: -0.7006292692220367, &quot;y&quot;: -0.40450849718747384, &quot;z&quot;: -0.5877852522924731}, {&quot;x&quot;: -0.6197429729297462, &quot;y&quot;: -0.5200261000100606, &quot;z&quot;: -0.5877852522924731}, {&quot;x&quot;: -0.520026100010061, &quot;y&quot;: -0.6197429729297459, &quot;z&quot;: -0.5877852522924731}, {&quot;x&quot;: -0.40450849718747406, &quot;y&quot;: -0.7006292692220366, &quot;z&quot;: -0.5877852522924731}, {&quot;x&quot;: -0.2767001083690211, &quot;y&quot;: -0.760227299704533, &quot;z&quot;: -0.5877852522924731}, {&quot;x&quot;: -0.14048432677478684, &quot;y&quot;: -0.7967262083790821, &quot;z&quot;: -0.5877852522924731}, {&quot;x&quot;: -1.4861401089256373e-16, &quot;y&quot;: -0.8090169943749475, &quot;z&quot;: -0.5877852522924731}, {&quot;x&quot;: 0.14048432677478656, &quot;y&quot;: -0.7967262083790823, &quot;z&quot;: -0.5877852522924731}, {&quot;x&quot;: 0.2767001083690215, &quot;y&quot;: -0.7602272997045328, &quot;z&quot;: -0.5877852522924731}, {&quot;x&quot;: 0.40450849718747317, &quot;y&quot;: -0.7006292692220372, &quot;z&quot;: -0.5877852522924731}, {&quot;x&quot;: 0.5200261000100609, &quot;y&quot;: -0.6197429729297461, &quot;z&quot;: -0.5877852522924731}, {&quot;x&quot;: 0.6197429729297458, &quot;y&quot;: -0.5200261000100611, &quot;z&quot;: -0.5877852522924731}, {&quot;x&quot;: 0.7006292692220369, &quot;y&quot;: -0.40450849718747345, &quot;z&quot;: -0.5877852522924731}, {&quot;x&quot;: 0.760227299704533, &quot;y&quot;: -0.27670010836902115, &quot;z&quot;: -0.5877852522924731}, {&quot;x&quot;: 0.7967262083790821, &quot;y&quot;: -0.1404843267747869, &quot;z&quot;: -0.5877852522924731}, {&quot;x&quot;: 0.8774701330051642, &quot;y&quot;: 0.15472165921465578, &quot;z&quot;: -0.45399049973954675}, {&quot;x&quot;: 0.8910065241883679, &quot;y&quot;: 0.0, &quot;z&quot;: -0.45399049973954675}, {&quot;x&quot;: 0.8372722558519103, &quot;y&quot;: 0.3047421791070115, &quot;z&quot;: -0.45399049973954675}, {&quot;x&quot;: 0.7716342848848006, &quot;y&quot;: 0.4455032620941839, &quot;z&quot;: -0.45399049973954675}, {&quot;x&quot;: 0.6825505966372545, &quot;y&quot;: 0.5727279538981527, &quot;z&quot;: -0.45399049973954675}, {&quot;x&quot;: 0.5727279538981527, &quot;y&quot;: 0.6825505966372545, &quot;z&quot;: -0.45399049973954675}, {&quot;x&quot;: 0.44550326209418406, &quot;y&quot;: 0.7716342848848005, &quot;z&quot;: -0.45399049973954675}, {&quot;x&quot;: 0.30474217910701157, &quot;y&quot;: 0.8372722558519102, &quot;z&quot;: -0.45399049973954675}, {&quot;x&quot;: 0.15472165921465583, &quot;y&quot;: 0.8774701330051642, &quot;z&quot;: -0.45399049973954675}, {&quot;x&quot;: 5.4558414393334676e-17, &quot;y&quot;: 0.8910065241883679, &quot;z&quot;: -0.45399049973954675}, {&quot;x&quot;: -0.15472165921465575, &quot;y&quot;: 0.8774701330051642, &quot;z&quot;: -0.45399049973954675}, {&quot;x&quot;: -0.3047421791070113, &quot;y&quot;: 0.8372722558519103, &quot;z&quot;: -0.45399049973954675}, {&quot;x&quot;: -0.4455032620941837, &quot;y&quot;: 0.7716342848848006, &quot;z&quot;: -0.45399049973954675}, {&quot;x&quot;: -0.5727279538981527, &quot;y&quot;: 0.6825505966372545, &quot;z&quot;: -0.45399049973954675}, {&quot;x&quot;: -0.6825505966372544, &quot;y&quot;: 0.5727279538981528, &quot;z&quot;: -0.45399049973954675}, {&quot;x&quot;: -0.7716342848848003, &quot;y&quot;: 0.4455032620941842, &quot;z&quot;: -0.45399049973954675}, {&quot;x&quot;: -0.8372722558519102, &quot;y&quot;: 0.3047421791070116, &quot;z&quot;: -0.45399049973954675}, {&quot;x&quot;: -0.8774701330051642, &quot;y&quot;: 0.15472165921465572, &quot;z&quot;: -0.45399049973954675}, {&quot;x&quot;: -0.8910065241883679, &quot;y&quot;: 1.0911682878666935e-16, &quot;z&quot;: -0.45399049973954675}, {&quot;x&quot;: -0.8774701330051643, &quot;y&quot;: -0.1547216592146555, &quot;z&quot;: -0.45399049973954675}, {&quot;x&quot;: -0.8372722558519103, &quot;y&quot;: -0.30474217910701146, &quot;z&quot;: -0.45399049973954675}, {&quot;x&quot;: -0.7716342848848005, &quot;y&quot;: -0.44550326209418406, &quot;z&quot;: -0.45399049973954675}, {&quot;x&quot;: -0.6825505966372548, &quot;y&quot;: -0.5727279538981523, &quot;z&quot;: -0.45399049973954675}, {&quot;x&quot;: -0.5727279538981528, &quot;y&quot;: -0.6825505966372544, &quot;z&quot;: -0.45399049973954675}, {&quot;x&quot;: -0.44550326209418434, &quot;y&quot;: -0.7716342848848002, &quot;z&quot;: -0.45399049973954675}, {&quot;x&quot;: -0.30474217910701135, &quot;y&quot;: -0.8372722558519103, &quot;z&quot;: -0.45399049973954675}, {&quot;x&quot;: -0.15472165921465578, &quot;y&quot;: -0.8774701330051642, &quot;z&quot;: -0.45399049973954675}, {&quot;x&quot;: -1.6367524318000401e-16, &quot;y&quot;: -0.8910065241883679, &quot;z&quot;: -0.45399049973954675}, {&quot;x&quot;: 0.15472165921465544, &quot;y&quot;: -0.8774701330051643, &quot;z&quot;: -0.45399049973954675}, {&quot;x&quot;: 0.30474217910701173, &quot;y&quot;: -0.8372722558519102, &quot;z&quot;: -0.45399049973954675}, {&quot;x&quot;: 0.44550326209418334, &quot;y&quot;: -0.7716342848848009, &quot;z&quot;: -0.45399049973954675}, {&quot;x&quot;: 0.5727279538981527, &quot;y&quot;: -0.6825505966372546, &quot;z&quot;: -0.45399049973954675}, {&quot;x&quot;: 0.6825505966372543, &quot;y&quot;: -0.5727279538981529, &quot;z&quot;: -0.45399049973954675}, {&quot;x&quot;: 0.7716342848848007, &quot;y&quot;: -0.44550326209418367, &quot;z&quot;: -0.45399049973954675}, {&quot;x&quot;: 0.8372722558519103, &quot;y&quot;: -0.3047421791070114, &quot;z&quot;: -0.45399049973954675}, {&quot;x&quot;: 0.8774701330051642, &quot;y&quot;: -0.1547216592146558, &quot;z&quot;: -0.45399049973954675}, {&quot;x&quot;: 0.9366078308002486, &quot;y&quot;: 0.16514923091291264, &quot;z&quot;: -0.3090169943749474}, {&quot;x&quot;: 0.9510565162951535, &quot;y&quot;: 0.0, &quot;z&quot;: -0.3090169943749474}, {&quot;x&quot;: 0.8937007903129088, &quot;y&quot;: 0.3252804860140796, &quot;z&quot;: -0.3090169943749474}, {&quot;x&quot;: 0.823639103546332, &quot;y&quot;: 0.4755282581475767, &quot;z&quot;: -0.3090169943749474}, {&quot;x&quot;: 0.7285515593999962, &quot;y&quot;: 0.6113273447861689, &quot;z&quot;: -0.3090169943749474}, {&quot;x&quot;: 0.611327344786169, &quot;y&quot;: 0.7285515593999962, &quot;z&quot;: -0.3090169943749474}, {&quot;x&quot;: 0.4755282581475769, &quot;y&quot;: 0.8236391035463319, &quot;z&quot;: -0.3090169943749474}, {&quot;x&quot;: 0.3252804860140797, &quot;y&quot;: 0.8937007903129087, &quot;z&quot;: -0.3090169943749474}, {&quot;x&quot;: 0.16514923091291273, &quot;y&quot;: 0.9366078308002486, &quot;z&quot;: -0.3090169943749474}, {&quot;x&quot;: 5.823541592445462e-17, &quot;y&quot;: 0.9510565162951535, &quot;z&quot;: -0.3090169943749474}, {&quot;x&quot;: -0.16514923091291261, &quot;y&quot;: 0.9366078308002486, &quot;z&quot;: -0.3090169943749474}, {&quot;x&quot;: -0.3252804860140794, &quot;y&quot;: 0.8937007903129088, &quot;z&quot;: -0.3090169943749474}, {&quot;x&quot;: -0.47552825814757654, &quot;y&quot;: 0.823639103546332, &quot;z&quot;: -0.3090169943749474}, {&quot;x&quot;: -0.611327344786169, &quot;y&quot;: 0.7285515593999962, &quot;z&quot;: -0.3090169943749474}, {&quot;x&quot;: -0.728551559399996, &quot;y&quot;: 0.6113273447861691, &quot;z&quot;: -0.3090169943749474}, {&quot;x&quot;: -0.8236391035463317, &quot;y&quot;: 0.4755282581475771, &quot;z&quot;: -0.3090169943749474}, {&quot;x&quot;: -0.8937007903129087, &quot;y&quot;: 0.3252804860140798, &quot;z&quot;: -0.3090169943749474}, {&quot;x&quot;: -0.9366078308002486, &quot;y&quot;: 0.1651492309129126, &quot;z&quot;: -0.3090169943749474}, {&quot;x&quot;: -0.9510565162951535, &quot;y&quot;: 1.1647083184890923e-16, &quot;z&quot;: -0.3090169943749474}, {&quot;x&quot;: -0.9366078308002487, &quot;y&quot;: -0.16514923091291236, &quot;z&quot;: -0.3090169943749474}, {&quot;x&quot;: -0.8937007903129088, &quot;y&quot;: -0.32528048601407955, &quot;z&quot;: -0.3090169943749474}, {&quot;x&quot;: -0.8236391035463319, &quot;y&quot;: -0.4755282581475769, &quot;z&quot;: -0.3090169943749474}, {&quot;x&quot;: -0.7285515593999965, &quot;y&quot;: -0.6113273447861686, &quot;z&quot;: -0.3090169943749474}, {&quot;x&quot;: -0.6113273447861691, &quot;y&quot;: -0.728551559399996, &quot;z&quot;: -0.3090169943749474}, {&quot;x&quot;: -0.4755282581475772, &quot;y&quot;: -0.8236391035463316, &quot;z&quot;: -0.3090169943749474}, {&quot;x&quot;: -0.32528048601407944, &quot;y&quot;: -0.8937007903129088, &quot;z&quot;: -0.3090169943749474}, {&quot;x&quot;: -0.16514923091291264, &quot;y&quot;: -0.9366078308002486, &quot;z&quot;: -0.3090169943749474}, {&quot;x&quot;: -1.7470624777336384e-16, &quot;y&quot;: -0.9510565162951535, &quot;z&quot;: -0.3090169943749474}, {&quot;x&quot;: 0.1651492309129123, &quot;y&quot;: -0.9366078308002487, &quot;z&quot;: -0.3090169943749474}, {&quot;x&quot;: 0.3252804860140799, &quot;y&quot;: -0.8937007903129087, &quot;z&quot;: -0.3090169943749474}, {&quot;x&quot;: 0.47552825814757615, &quot;y&quot;: -0.8236391035463323, &quot;z&quot;: -0.3090169943749474}, {&quot;x&quot;: 0.6113273447861689, &quot;y&quot;: -0.7285515593999963, &quot;z&quot;: -0.3090169943749474}, {&quot;x&quot;: 0.7285515593999959, &quot;y&quot;: -0.6113273447861692, &quot;z&quot;: -0.3090169943749474}, {&quot;x&quot;: 0.8236391035463321, &quot;y&quot;: -0.47552825814757643, &quot;z&quot;: -0.3090169943749474}, {&quot;x&quot;: 0.8937007903129088, &quot;y&quot;: -0.3252804860140795, &quot;z&quot;: -0.3090169943749474}, {&quot;x&quot;: 0.9366078308002486, &quot;y&quot;: -0.1651492309129127, &quot;z&quot;: -0.3090169943749474}, {&quot;x&quot;: 0.972683135377854, &quot;y&quot;: 0.17151028044722008, &quot;z&quot;: -0.15643446504023087}, {&quot;x&quot;: 0.9876883405951378, &quot;y&quot;: 0.0, &quot;z&quot;: -0.15643446504023087}, {&quot;x&quot;: 0.92812344529353, &quot;y&quot;: 0.3378093078114409, &quot;z&quot;: -0.15643446504023087}, {&quot;x&quot;: 0.8553631939770864, &quot;y&quot;: 0.49384417029756883, &quot;z&quot;: -0.15643446504023087}, {&quot;x&quot;: 0.7566131648463098, &quot;y&quot;: 0.6348738275664131, &quot;z&quot;: -0.15643446504023087}, {&quot;x&quot;: 0.6348738275664132, &quot;y&quot;: 0.7566131648463098, &quot;z&quot;: -0.15643446504023087}, {&quot;x&quot;: 0.493844170297569, &quot;y&quot;: 0.8553631939770863, &quot;z&quot;: -0.15643446504023087}, {&quot;x&quot;: 0.33780930781144103, &quot;y&quot;: 0.9281234452935299, &quot;z&quot;: -0.15643446504023087}, {&quot;x&quot;: 0.17151028044722016, &quot;y&quot;: 0.972683135377854, &quot;z&quot;: -0.15643446504023087}, {&quot;x&quot;: 6.047846824324981e-17, &quot;y&quot;: 0.9876883405951378, &quot;z&quot;: -0.15643446504023087}, {&quot;x&quot;: -0.17151028044722005, &quot;y&quot;: 0.972683135377854, &quot;z&quot;: -0.15643446504023087}, {&quot;x&quot;: -0.3378093078114407, &quot;y&quot;: 0.92812344529353, &quot;z&quot;: -0.15643446504023087}, {&quot;x&quot;: -0.49384417029756866, &quot;y&quot;: 0.8553631939770864, &quot;z&quot;: -0.15643446504023087}, {&quot;x&quot;: -0.6348738275664132, &quot;y&quot;: 0.7566131648463098, &quot;z&quot;: -0.15643446504023087}, {&quot;x&quot;: -0.7566131648463097, &quot;y&quot;: 0.6348738275664133, &quot;z&quot;: -0.15643446504023087}, {&quot;x&quot;: -0.8553631939770862, &quot;y&quot;: 0.4938441702975692, &quot;z&quot;: -0.15643446504023087}, {&quot;x&quot;: -0.9281234452935299, &quot;y&quot;: 0.3378093078114411, &quot;z&quot;: -0.15643446504023087}, {&quot;x&quot;: -0.972683135377854, &quot;y&quot;: 0.17151028044722003, &quot;z&quot;: -0.15643446504023087}, {&quot;x&quot;: -0.9876883405951378, &quot;y&quot;: 1.2095693648649962e-16, &quot;z&quot;: -0.15643446504023087}, {&quot;x&quot;: -0.9726831353778541, &quot;y&quot;: -0.17151028044721978, &quot;z&quot;: -0.15643446504023087}, {&quot;x&quot;: -0.92812344529353, &quot;y&quot;: -0.33780930781144086, &quot;z&quot;: -0.15643446504023087}, {&quot;x&quot;: -0.8553631939770863, &quot;y&quot;: -0.493844170297569, &quot;z&quot;: -0.15643446504023087}, {&quot;x&quot;: -0.7566131648463101, &quot;y&quot;: -0.6348738275664128, &quot;z&quot;: -0.15643446504023087}, {&quot;x&quot;: -0.6348738275664133, &quot;y&quot;: -0.7566131648463097, &quot;z&quot;: -0.15643446504023087}, {&quot;x&quot;: -0.49384417029756933, &quot;y&quot;: -0.855363193977086, &quot;z&quot;: -0.15643446504023087}, {&quot;x&quot;: -0.33780930781144075, &quot;y&quot;: -0.92812344529353, &quot;z&quot;: -0.15643446504023087}, {&quot;x&quot;: -0.17151028044722008, &quot;y&quot;: -0.972683135377854, &quot;z&quot;: -0.15643446504023087}, {&quot;x&quot;: -1.8143540472974943e-16, &quot;y&quot;: -0.9876883405951378, &quot;z&quot;: -0.15643446504023087}, {&quot;x&quot;: 0.17151028044721972, &quot;y&quot;: -0.9726831353778541, &quot;z&quot;: -0.15643446504023087}, {&quot;x&quot;: 0.3378093078114412, &quot;y&quot;: -0.9281234452935299, &quot;z&quot;: -0.15643446504023087}, {&quot;x&quot;: 0.4938441702975682, &quot;y&quot;: -0.8553631939770867, &quot;z&quot;: -0.15643446504023087}, {&quot;x&quot;: 0.6348738275664131, &quot;y&quot;: -0.7566131648463099, &quot;z&quot;: -0.15643446504023087}, {&quot;x&quot;: 0.7566131648463096, &quot;y&quot;: -0.6348738275664134, &quot;z&quot;: -0.15643446504023087}, {&quot;x&quot;: 0.8553631939770865, &quot;y&quot;: -0.49384417029756855, &quot;z&quot;: -0.15643446504023087}, {&quot;x&quot;: 0.92812344529353, &quot;y&quot;: -0.3378093078114408, &quot;z&quot;: -0.15643446504023087}, {&quot;x&quot;: 0.972683135377854, &quot;y&quot;: -0.17151028044722014, &quot;z&quot;: -0.15643446504023087}, {&quot;x&quot;: 0.984807753012208, &quot;y&quot;: 0.17364817766693033, &quot;z&quot;: 0.0}, {&quot;x&quot;: 1.0, &quot;y&quot;: 0.0, &quot;z&quot;: 0.0}, {&quot;x&quot;: 0.9396926207859084, &quot;y&quot;: 0.3420201433256687, &quot;z&quot;: 0.0}, {&quot;x&quot;: 0.8660254037844387, &quot;y&quot;: 0.49999999999999994, &quot;z&quot;: 0.0}, {&quot;x&quot;: 0.766044443118978, &quot;y&quot;: 0.6427876096865393, &quot;z&quot;: 0.0}, {&quot;x&quot;: 0.6427876096865394, &quot;y&quot;: 0.766044443118978, &quot;z&quot;: 0.0}, {&quot;x&quot;: 0.5000000000000001, &quot;y&quot;: 0.8660254037844386, &quot;z&quot;: 0.0}, {&quot;x&quot;: 0.3420201433256688, &quot;y&quot;: 0.9396926207859083, &quot;z&quot;: 0.0}, {&quot;x&quot;: 0.17364817766693041, &quot;y&quot;: 0.984807753012208, &quot;z&quot;: 0.0}, {&quot;x&quot;: 6.123233995736766e-17, &quot;y&quot;: 1.0, &quot;z&quot;: 0.0}, {&quot;x&quot;: -0.1736481776669303, &quot;y&quot;: 0.984807753012208, &quot;z&quot;: 0.0}, {&quot;x&quot;: -0.3420201433256685, &quot;y&quot;: 0.9396926207859084, &quot;z&quot;: 0.0}, {&quot;x&quot;: -0.4999999999999998, &quot;y&quot;: 0.8660254037844387, &quot;z&quot;: 0.0}, {&quot;x&quot;: -0.6427876096865394, &quot;y&quot;: 0.766044443118978, &quot;z&quot;: 0.0}, {&quot;x&quot;: -0.7660444431189779, &quot;y&quot;: 0.6427876096865395, &quot;z&quot;: 0.0}, {&quot;x&quot;: -0.8660254037844385, &quot;y&quot;: 0.5000000000000003, &quot;z&quot;: 0.0}, {&quot;x&quot;: -0.9396926207859083, &quot;y&quot;: 0.3420201433256689, &quot;z&quot;: 0.0}, {&quot;x&quot;: -0.984807753012208, &quot;y&quot;: 0.17364817766693028, &quot;z&quot;: 0.0}, {&quot;x&quot;: -1.0, &quot;y&quot;: 1.2246467991473532e-16, &quot;z&quot;: 0.0}, {&quot;x&quot;: -0.9848077530122081, &quot;y&quot;: -0.17364817766693003, &quot;z&quot;: 0.0}, {&quot;x&quot;: -0.9396926207859084, &quot;y&quot;: -0.34202014332566866, &quot;z&quot;: 0.0}, {&quot;x&quot;: -0.8660254037844386, &quot;y&quot;: -0.5000000000000001, &quot;z&quot;: 0.0}, {&quot;x&quot;: -0.7660444431189783, &quot;y&quot;: -0.6427876096865389, &quot;z&quot;: 0.0}, {&quot;x&quot;: -0.6427876096865395, &quot;y&quot;: -0.7660444431189779, &quot;z&quot;: 0.0}, {&quot;x&quot;: -0.5000000000000004, &quot;y&quot;: -0.8660254037844384, &quot;z&quot;: 0.0}, {&quot;x&quot;: -0.34202014332566855, &quot;y&quot;: -0.9396926207859084, &quot;z&quot;: 0.0}, {&quot;x&quot;: -0.17364817766693033, &quot;y&quot;: -0.984807753012208, &quot;z&quot;: 0.0}, {&quot;x&quot;: -1.8369701987210297e-16, &quot;y&quot;: -1.0, &quot;z&quot;: 0.0}, {&quot;x&quot;: 0.17364817766692997, &quot;y&quot;: -0.9848077530122081, &quot;z&quot;: 0.0}, {&quot;x&quot;: 0.342020143325669, &quot;y&quot;: -0.9396926207859083, &quot;z&quot;: 0.0}, {&quot;x&quot;: 0.49999999999999933, &quot;y&quot;: -0.866025403784439, &quot;z&quot;: 0.0}, {&quot;x&quot;: 0.6427876096865393, &quot;y&quot;: -0.7660444431189781, &quot;z&quot;: 0.0}, {&quot;x&quot;: 0.7660444431189778, &quot;y&quot;: -0.6427876096865396, &quot;z&quot;: 0.0}, {&quot;x&quot;: 0.8660254037844388, &quot;y&quot;: -0.49999999999999967, &quot;z&quot;: 0.0}, {&quot;x&quot;: 0.9396926207859084, &quot;y&quot;: -0.3420201433256686, &quot;z&quot;: 0.0}, {&quot;x&quot;: 0.984807753012208, &quot;y&quot;: -0.1736481776669304, &quot;z&quot;: 0.0}, {&quot;x&quot;: 0.972683135377854, &quot;y&quot;: 0.17151028044722008, &quot;z&quot;: 0.15643446504023065}, {&quot;x&quot;: 0.9876883405951378, &quot;y&quot;: 0.0, &quot;z&quot;: 0.15643446504023065}, {&quot;x&quot;: 0.92812344529353, &quot;y&quot;: 0.3378093078114409, &quot;z&quot;: 0.15643446504023065}, {&quot;x&quot;: 0.8553631939770864, &quot;y&quot;: 0.49384417029756883, &quot;z&quot;: 0.15643446504023065}, {&quot;x&quot;: 0.7566131648463098, &quot;y&quot;: 0.6348738275664131, &quot;z&quot;: 0.15643446504023065}, {&quot;x&quot;: 0.6348738275664132, &quot;y&quot;: 0.7566131648463098, &quot;z&quot;: 0.15643446504023065}, {&quot;x&quot;: 0.493844170297569, &quot;y&quot;: 0.8553631939770863, &quot;z&quot;: 0.15643446504023065}, {&quot;x&quot;: 0.33780930781144103, &quot;y&quot;: 0.9281234452935299, &quot;z&quot;: 0.15643446504023065}, {&quot;x&quot;: 0.17151028044722016, &quot;y&quot;: 0.972683135377854, &quot;z&quot;: 0.15643446504023065}, {&quot;x&quot;: 6.047846824324981e-17, &quot;y&quot;: 0.9876883405951378, &quot;z&quot;: 0.15643446504023065}, {&quot;x&quot;: -0.17151028044722005, &quot;y&quot;: 0.972683135377854, &quot;z&quot;: 0.15643446504023065}, {&quot;x&quot;: -0.3378093078114407, &quot;y&quot;: 0.92812344529353, &quot;z&quot;: 0.15643446504023065}, {&quot;x&quot;: -0.49384417029756866, &quot;y&quot;: 0.8553631939770864, &quot;z&quot;: 0.15643446504023065}, {&quot;x&quot;: -0.6348738275664132, &quot;y&quot;: 0.7566131648463098, &quot;z&quot;: 0.15643446504023065}, {&quot;x&quot;: -0.7566131648463097, &quot;y&quot;: 0.6348738275664133, &quot;z&quot;: 0.15643446504023065}, {&quot;x&quot;: -0.8553631939770862, &quot;y&quot;: 0.4938441702975692, &quot;z&quot;: 0.15643446504023065}, {&quot;x&quot;: -0.9281234452935299, &quot;y&quot;: 0.3378093078114411, &quot;z&quot;: 0.15643446504023065}, {&quot;x&quot;: -0.972683135377854, &quot;y&quot;: 0.17151028044722003, &quot;z&quot;: 0.15643446504023065}, {&quot;x&quot;: -0.9876883405951378, &quot;y&quot;: 1.2095693648649962e-16, &quot;z&quot;: 0.15643446504023065}, {&quot;x&quot;: -0.9726831353778541, &quot;y&quot;: -0.17151028044721978, &quot;z&quot;: 0.15643446504023065}, {&quot;x&quot;: -0.92812344529353, &quot;y&quot;: -0.33780930781144086, &quot;z&quot;: 0.15643446504023065}, {&quot;x&quot;: -0.8553631939770863, &quot;y&quot;: -0.493844170297569, &quot;z&quot;: 0.15643446504023065}, {&quot;x&quot;: -0.7566131648463101, &quot;y&quot;: -0.6348738275664128, &quot;z&quot;: 0.15643446504023065}, {&quot;x&quot;: -0.6348738275664133, &quot;y&quot;: -0.7566131648463097, &quot;z&quot;: 0.15643446504023065}, {&quot;x&quot;: -0.49384417029756933, &quot;y&quot;: -0.855363193977086, &quot;z&quot;: 0.15643446504023065}, {&quot;x&quot;: -0.33780930781144075, &quot;y&quot;: -0.92812344529353, &quot;z&quot;: 0.15643446504023065}, {&quot;x&quot;: -0.17151028044722008, &quot;y&quot;: -0.972683135377854, &quot;z&quot;: 0.15643446504023065}, {&quot;x&quot;: -1.8143540472974943e-16, &quot;y&quot;: -0.9876883405951378, &quot;z&quot;: 0.15643446504023065}, {&quot;x&quot;: 0.17151028044721972, &quot;y&quot;: -0.9726831353778541, &quot;z&quot;: 0.15643446504023065}, {&quot;x&quot;: 0.3378093078114412, &quot;y&quot;: -0.9281234452935299, &quot;z&quot;: 0.15643446504023065}, {&quot;x&quot;: 0.4938441702975682, &quot;y&quot;: -0.8553631939770867, &quot;z&quot;: 0.15643446504023065}, {&quot;x&quot;: 0.6348738275664131, &quot;y&quot;: -0.7566131648463099, &quot;z&quot;: 0.15643446504023065}, {&quot;x&quot;: 0.7566131648463096, &quot;y&quot;: -0.6348738275664134, &quot;z&quot;: 0.15643446504023065}, {&quot;x&quot;: 0.8553631939770865, &quot;y&quot;: -0.49384417029756855, &quot;z&quot;: 0.15643446504023065}, {&quot;x&quot;: 0.92812344529353, &quot;y&quot;: -0.3378093078114408, &quot;z&quot;: 0.15643446504023065}, {&quot;x&quot;: 0.972683135377854, &quot;y&quot;: -0.17151028044722014, &quot;z&quot;: 0.15643446504023065}, {&quot;x&quot;: 0.9366078308002486, &quot;y&quot;: 0.16514923091291264, &quot;z&quot;: 0.3090169943749474}, {&quot;x&quot;: 0.9510565162951535, &quot;y&quot;: 0.0, &quot;z&quot;: 0.3090169943749474}, {&quot;x&quot;: 0.8937007903129088, &quot;y&quot;: 0.3252804860140796, &quot;z&quot;: 0.3090169943749474}, {&quot;x&quot;: 0.823639103546332, &quot;y&quot;: 0.4755282581475767, &quot;z&quot;: 0.3090169943749474}, {&quot;x&quot;: 0.7285515593999962, &quot;y&quot;: 0.6113273447861689, &quot;z&quot;: 0.3090169943749474}, {&quot;x&quot;: 0.611327344786169, &quot;y&quot;: 0.7285515593999962, &quot;z&quot;: 0.3090169943749474}, {&quot;x&quot;: 0.4755282581475769, &quot;y&quot;: 0.8236391035463319, &quot;z&quot;: 0.3090169943749474}, {&quot;x&quot;: 0.3252804860140797, &quot;y&quot;: 0.8937007903129087, &quot;z&quot;: 0.3090169943749474}, {&quot;x&quot;: 0.16514923091291273, &quot;y&quot;: 0.9366078308002486, &quot;z&quot;: 0.3090169943749474}, {&quot;x&quot;: 5.823541592445462e-17, &quot;y&quot;: 0.9510565162951535, &quot;z&quot;: 0.3090169943749474}, {&quot;x&quot;: -0.16514923091291261, &quot;y&quot;: 0.9366078308002486, &quot;z&quot;: 0.3090169943749474}, {&quot;x&quot;: -0.3252804860140794, &quot;y&quot;: 0.8937007903129088, &quot;z&quot;: 0.3090169943749474}, {&quot;x&quot;: -0.47552825814757654, &quot;y&quot;: 0.823639103546332, &quot;z&quot;: 0.3090169943749474}, {&quot;x&quot;: -0.611327344786169, &quot;y&quot;: 0.7285515593999962, &quot;z&quot;: 0.3090169943749474}, {&quot;x&quot;: -0.728551559399996, &quot;y&quot;: 0.6113273447861691, &quot;z&quot;: 0.3090169943749474}, {&quot;x&quot;: -0.8236391035463317, &quot;y&quot;: 0.4755282581475771, &quot;z&quot;: 0.3090169943749474}, {&quot;x&quot;: -0.8937007903129087, &quot;y&quot;: 0.3252804860140798, &quot;z&quot;: 0.3090169943749474}, {&quot;x&quot;: -0.9366078308002486, &quot;y&quot;: 0.1651492309129126, &quot;z&quot;: 0.3090169943749474}, {&quot;x&quot;: -0.9510565162951535, &quot;y&quot;: 1.1647083184890923e-16, &quot;z&quot;: 0.3090169943749474}, {&quot;x&quot;: -0.9366078308002487, &quot;y&quot;: -0.16514923091291236, &quot;z&quot;: 0.3090169943749474}, {&quot;x&quot;: -0.8937007903129088, &quot;y&quot;: -0.32528048601407955, &quot;z&quot;: 0.3090169943749474}, {&quot;x&quot;: -0.8236391035463319, &quot;y&quot;: -0.4755282581475769, &quot;z&quot;: 0.3090169943749474}, {&quot;x&quot;: -0.7285515593999965, &quot;y&quot;: -0.6113273447861686, &quot;z&quot;: 0.3090169943749474}, {&quot;x&quot;: -0.6113273447861691, &quot;y&quot;: -0.728551559399996, &quot;z&quot;: 0.3090169943749474}, {&quot;x&quot;: -0.4755282581475772, &quot;y&quot;: -0.8236391035463316, &quot;z&quot;: 0.3090169943749474}, {&quot;x&quot;: -0.32528048601407944, &quot;y&quot;: -0.8937007903129088, &quot;z&quot;: 0.3090169943749474}, {&quot;x&quot;: -0.16514923091291264, &quot;y&quot;: -0.9366078308002486, &quot;z&quot;: 0.3090169943749474}, {&quot;x&quot;: -1.7470624777336384e-16, &quot;y&quot;: -0.9510565162951535, &quot;z&quot;: 0.3090169943749474}, {&quot;x&quot;: 0.1651492309129123, &quot;y&quot;: -0.9366078308002487, &quot;z&quot;: 0.3090169943749474}, {&quot;x&quot;: 0.3252804860140799, &quot;y&quot;: -0.8937007903129087, &quot;z&quot;: 0.3090169943749474}, {&quot;x&quot;: 0.47552825814757615, &quot;y&quot;: -0.8236391035463323, &quot;z&quot;: 0.3090169943749474}, {&quot;x&quot;: 0.6113273447861689, &quot;y&quot;: -0.7285515593999963, &quot;z&quot;: 0.3090169943749474}, {&quot;x&quot;: 0.7285515593999959, &quot;y&quot;: -0.6113273447861692, &quot;z&quot;: 0.3090169943749474}, {&quot;x&quot;: 0.8236391035463321, &quot;y&quot;: -0.47552825814757643, &quot;z&quot;: 0.3090169943749474}, {&quot;x&quot;: 0.8937007903129088, &quot;y&quot;: -0.3252804860140795, &quot;z&quot;: 0.3090169943749474}, {&quot;x&quot;: 0.9366078308002486, &quot;y&quot;: -0.1651492309129127, &quot;z&quot;: 0.3090169943749474}, {&quot;x&quot;: 0.8774701330051642, &quot;y&quot;: 0.15472165921465578, &quot;z&quot;: 0.45399049973954675}, {&quot;x&quot;: 0.8910065241883679, &quot;y&quot;: 0.0, &quot;z&quot;: 0.45399049973954675}, {&quot;x&quot;: 0.8372722558519103, &quot;y&quot;: 0.3047421791070115, &quot;z&quot;: 0.45399049973954675}, {&quot;x&quot;: 0.7716342848848006, &quot;y&quot;: 0.4455032620941839, &quot;z&quot;: 0.45399049973954675}, {&quot;x&quot;: 0.6825505966372545, &quot;y&quot;: 0.5727279538981527, &quot;z&quot;: 0.45399049973954675}, {&quot;x&quot;: 0.5727279538981527, &quot;y&quot;: 0.6825505966372545, &quot;z&quot;: 0.45399049973954675}, {&quot;x&quot;: 0.44550326209418406, &quot;y&quot;: 0.7716342848848005, &quot;z&quot;: 0.45399049973954675}, {&quot;x&quot;: 0.30474217910701157, &quot;y&quot;: 0.8372722558519102, &quot;z&quot;: 0.45399049973954675}, {&quot;x&quot;: 0.15472165921465583, &quot;y&quot;: 0.8774701330051642, &quot;z&quot;: 0.45399049973954675}, {&quot;x&quot;: 5.4558414393334676e-17, &quot;y&quot;: 0.8910065241883679, &quot;z&quot;: 0.45399049973954675}, {&quot;x&quot;: -0.15472165921465575, &quot;y&quot;: 0.8774701330051642, &quot;z&quot;: 0.45399049973954675}, {&quot;x&quot;: -0.3047421791070113, &quot;y&quot;: 0.8372722558519103, &quot;z&quot;: 0.45399049973954675}, {&quot;x&quot;: -0.4455032620941837, &quot;y&quot;: 0.7716342848848006, &quot;z&quot;: 0.45399049973954675}, {&quot;x&quot;: -0.5727279538981527, &quot;y&quot;: 0.6825505966372545, &quot;z&quot;: 0.45399049973954675}, {&quot;x&quot;: -0.6825505966372544, &quot;y&quot;: 0.5727279538981528, &quot;z&quot;: 0.45399049973954675}, {&quot;x&quot;: -0.7716342848848003, &quot;y&quot;: 0.4455032620941842, &quot;z&quot;: 0.45399049973954675}, {&quot;x&quot;: -0.8372722558519102, &quot;y&quot;: 0.3047421791070116, &quot;z&quot;: 0.45399049973954675}, {&quot;x&quot;: -0.8774701330051642, &quot;y&quot;: 0.15472165921465572, &quot;z&quot;: 0.45399049973954675}, {&quot;x&quot;: -0.8910065241883679, &quot;y&quot;: 1.0911682878666935e-16, &quot;z&quot;: 0.45399049973954675}, {&quot;x&quot;: -0.8774701330051643, &quot;y&quot;: -0.1547216592146555, &quot;z&quot;: 0.45399049973954675}, {&quot;x&quot;: -0.8372722558519103, &quot;y&quot;: -0.30474217910701146, &quot;z&quot;: 0.45399049973954675}, {&quot;x&quot;: -0.7716342848848005, &quot;y&quot;: -0.44550326209418406, &quot;z&quot;: 0.45399049973954675}, {&quot;x&quot;: -0.6825505966372548, &quot;y&quot;: -0.5727279538981523, &quot;z&quot;: 0.45399049973954675}, {&quot;x&quot;: -0.5727279538981528, &quot;y&quot;: -0.6825505966372544, &quot;z&quot;: 0.45399049973954675}, {&quot;x&quot;: -0.44550326209418434, &quot;y&quot;: -0.7716342848848002, &quot;z&quot;: 0.45399049973954675}, {&quot;x&quot;: -0.30474217910701135, &quot;y&quot;: -0.8372722558519103, &quot;z&quot;: 0.45399049973954675}, {&quot;x&quot;: -0.15472165921465578, &quot;y&quot;: -0.8774701330051642, &quot;z&quot;: 0.45399049973954675}, {&quot;x&quot;: -1.6367524318000401e-16, &quot;y&quot;: -0.8910065241883679, &quot;z&quot;: 0.45399049973954675}, {&quot;x&quot;: 0.15472165921465544, &quot;y&quot;: -0.8774701330051643, &quot;z&quot;: 0.45399049973954675}, {&quot;x&quot;: 0.30474217910701173, &quot;y&quot;: -0.8372722558519102, &quot;z&quot;: 0.45399049973954675}, {&quot;x&quot;: 0.44550326209418334, &quot;y&quot;: -0.7716342848848009, &quot;z&quot;: 0.45399049973954675}, {&quot;x&quot;: 0.5727279538981527, &quot;y&quot;: -0.6825505966372546, &quot;z&quot;: 0.45399049973954675}, {&quot;x&quot;: 0.6825505966372543, &quot;y&quot;: -0.5727279538981529, &quot;z&quot;: 0.45399049973954675}, {&quot;x&quot;: 0.7716342848848007, &quot;y&quot;: -0.44550326209418367, &quot;z&quot;: 0.45399049973954675}, {&quot;x&quot;: 0.8372722558519103, &quot;y&quot;: -0.3047421791070114, &quot;z&quot;: 0.45399049973954675}, {&quot;x&quot;: 0.8774701330051642, &quot;y&quot;: -0.1547216592146558, &quot;z&quot;: 0.45399049973954675}, {&quot;x&quot;: 0.7967262083790821, &quot;y&quot;: 0.14048432677478684, &quot;z&quot;: 0.5877852522924731}, {&quot;x&quot;: 0.8090169943749475, &quot;y&quot;: 0.0, &quot;z&quot;: 0.5877852522924731}, {&quot;x&quot;: 0.760227299704533, &quot;y&quot;: 0.27670010836902126, &quot;z&quot;: 0.5877852522924731}, {&quot;x&quot;: 0.7006292692220368, &quot;y&quot;: 0.40450849718747367, &quot;z&quot;: 0.5877852522924731}, {&quot;x&quot;: 0.619742972929746, &quot;y&quot;: 0.5200261000100609, &quot;z&quot;: 0.5877852522924731}, {&quot;x&quot;: 0.5200261000100609, &quot;y&quot;: 0.619742972929746, &quot;z&quot;: 0.5877852522924731}, {&quot;x&quot;: 0.40450849718747384, &quot;y&quot;: 0.7006292692220367, &quot;z&quot;: 0.5877852522924731}, {&quot;x&quot;: 0.2767001083690213, &quot;y&quot;: 0.7602272997045328, &quot;z&quot;: 0.5877852522924731}, {&quot;x&quot;: 0.14048432677478692, &quot;y&quot;: 0.7967262083790821, &quot;z&quot;: 0.5877852522924731}, {&quot;x&quot;: 4.953800363085458e-17, &quot;y&quot;: 0.8090169943749475, &quot;z&quot;: 0.5877852522924731}, {&quot;x&quot;: -0.14048432677478684, &quot;y&quot;: 0.7967262083790821, &quot;z&quot;: 0.5877852522924731}, {&quot;x&quot;: -0.2767001083690211, &quot;y&quot;: 0.760227299704533, &quot;z&quot;: 0.5877852522924731}, {&quot;x&quot;: -0.40450849718747356, &quot;y&quot;: 0.7006292692220368, &quot;z&quot;: 0.5877852522924731}, {&quot;x&quot;: -0.5200261000100609, &quot;y&quot;: 0.619742972929746, &quot;z&quot;: 0.5877852522924731}, {&quot;x&quot;: -0.6197429729297459, &quot;y&quot;: 0.520026100010061, &quot;z&quot;: 0.5877852522924731}, {&quot;x&quot;: -0.7006292692220366, &quot;y&quot;: 0.404508497187474, &quot;z&quot;: 0.5877852522924731}, {&quot;x&quot;: -0.7602272997045328, &quot;y&quot;: 0.27670010836902137, &quot;z&quot;: 0.5877852522924731}, {&quot;x&quot;: -0.7967262083790821, &quot;y&quot;: 0.1404843267747868, &quot;z&quot;: 0.5877852522924731}, {&quot;x&quot;: -0.8090169943749475, &quot;y&quot;: 9.907600726170916e-17, &quot;z&quot;: 0.5877852522924731}, {&quot;x&quot;: -0.7967262083790823, &quot;y&quot;: -0.14048432677478662, &quot;z&quot;: 0.5877852522924731}, {&quot;x&quot;: -0.760227299704533, &quot;y&quot;: -0.2767001083690212, &quot;z&quot;: 0.5877852522924731}, {&quot;x&quot;: -0.7006292692220367, &quot;y&quot;: -0.40450849718747384, &quot;z&quot;: 0.5877852522924731}, {&quot;x&quot;: -0.6197429729297462, &quot;y&quot;: -0.5200261000100606, &quot;z&quot;: 0.5877852522924731}, {&quot;x&quot;: -0.520026100010061, &quot;y&quot;: -0.6197429729297459, &quot;z&quot;: 0.5877852522924731}, {&quot;x&quot;: -0.40450849718747406, &quot;y&quot;: -0.7006292692220366, &quot;z&quot;: 0.5877852522924731}, {&quot;x&quot;: -0.2767001083690211, &quot;y&quot;: -0.760227299704533, &quot;z&quot;: 0.5877852522924731}, {&quot;x&quot;: -0.14048432677478684, &quot;y&quot;: -0.7967262083790821, &quot;z&quot;: 0.5877852522924731}, {&quot;x&quot;: -1.4861401089256373e-16, &quot;y&quot;: -0.8090169943749475, &quot;z&quot;: 0.5877852522924731}, {&quot;x&quot;: 0.14048432677478656, &quot;y&quot;: -0.7967262083790823, &quot;z&quot;: 0.5877852522924731}, {&quot;x&quot;: 0.2767001083690215, &quot;y&quot;: -0.7602272997045328, &quot;z&quot;: 0.5877852522924731}, {&quot;x&quot;: 0.40450849718747317, &quot;y&quot;: -0.7006292692220372, &quot;z&quot;: 0.5877852522924731}, {&quot;x&quot;: 0.5200261000100609, &quot;y&quot;: -0.6197429729297461, &quot;z&quot;: 0.5877852522924731}, {&quot;x&quot;: 0.6197429729297458, &quot;y&quot;: -0.5200261000100611, &quot;z&quot;: 0.5877852522924731}, {&quot;x&quot;: 0.7006292692220369, &quot;y&quot;: -0.40450849718747345, &quot;z&quot;: 0.5877852522924731}, {&quot;x&quot;: 0.760227299704533, &quot;y&quot;: -0.27670010836902115, &quot;z&quot;: 0.5877852522924731}, {&quot;x&quot;: 0.7967262083790821, &quot;y&quot;: -0.1404843267747869, &quot;z&quot;: 0.5877852522924731}, {&quot;x&quot;: 0.696364240320019, &quot;y&quot;: 0.12278780396897285, &quot;z&quot;: 0.7071067811865475}, {&quot;x&quot;: 0.7071067811865476, &quot;y&quot;: 0.0, &quot;z&quot;: 0.7071067811865475}, {&quot;x&quot;: 0.6644630243886748, &quot;y&quot;: 0.24184476264797528, &quot;z&quot;: 0.7071067811865475}, {&quot;x&quot;: 0.6123724356957946, &quot;y&quot;: 0.35355339059327373, &quot;z&quot;: 0.7071067811865475}, {&quot;x&quot;: 0.5416752204197018, &quot;y&quot;: 0.45451947767204365, &quot;z&quot;: 0.7071067811865475}, {&quot;x&quot;: 0.45451947767204376, &quot;y&quot;: 0.5416752204197018, &quot;z&quot;: 0.7071067811865475}, {&quot;x&quot;: 0.35355339059327384, &quot;y&quot;: 0.6123724356957946, &quot;z&quot;: 0.7071067811865475}, {&quot;x&quot;: 0.24184476264797533, &quot;y&quot;: 0.6644630243886747, &quot;z&quot;: 0.7071067811865475}, {&quot;x&quot;: 0.1227878039689729, &quot;y&quot;: 0.696364240320019, &quot;z&quot;: 0.7071067811865475}, {&quot;x&quot;: 4.329780281177467e-17, &quot;y&quot;: 0.7071067811865476, &quot;z&quot;: 0.7071067811865475}, {&quot;x&quot;: -0.12278780396897282, &quot;y&quot;: 0.696364240320019, &quot;z&quot;: 0.7071067811865475}, {&quot;x&quot;: -0.2418447626479751, &quot;y&quot;: 0.6644630243886748, &quot;z&quot;: 0.7071067811865475}, {&quot;x&quot;: -0.3535533905932736, &quot;y&quot;: 0.6123724356957946, &quot;z&quot;: 0.7071067811865475}, {&quot;x&quot;: -0.45451947767204376, &quot;y&quot;: 0.5416752204197018, &quot;z&quot;: 0.7071067811865475}, {&quot;x&quot;: -0.5416752204197018, &quot;y&quot;: 0.4545194776720438, &quot;z&quot;: 0.7071067811865475}, {&quot;x&quot;: -0.6123724356957945, &quot;y&quot;: 0.353553390593274, &quot;z&quot;: 0.7071067811865475}, {&quot;x&quot;: -0.6644630243886747, &quot;y&quot;: 0.2418447626479754, &quot;z&quot;: 0.7071067811865475}, {&quot;x&quot;: -0.696364240320019, &quot;y&quot;: 0.1227878039689728, &quot;z&quot;: 0.7071067811865475}, {&quot;x&quot;: -0.7071067811865476, &quot;y&quot;: 8.659560562354934e-17, &quot;z&quot;: 0.7071067811865475}, {&quot;x&quot;: -0.6963642403200191, &quot;y&quot;: -0.12278780396897263, &quot;z&quot;: 0.7071067811865475}, {&quot;x&quot;: -0.6644630243886748, &quot;y&quot;: -0.24184476264797522, &quot;z&quot;: 0.7071067811865475}, {&quot;x&quot;: -0.6123724356957946, &quot;y&quot;: -0.35355339059327384, &quot;z&quot;: 0.7071067811865475}, {&quot;x&quot;: -0.5416752204197021, &quot;y&quot;: -0.4545194776720434, &quot;z&quot;: 0.7071067811865475}, {&quot;x&quot;: -0.4545194776720438, &quot;y&quot;: -0.5416752204197018, &quot;z&quot;: 0.7071067811865475}, {&quot;x&quot;: -0.3535533905932741, &quot;y&quot;: -0.6123724356957944, &quot;z&quot;: 0.7071067811865475}, {&quot;x&quot;: -0.24184476264797514, &quot;y&quot;: -0.6644630243886748, &quot;z&quot;: 0.7071067811865475}, {&quot;x&quot;: -0.12278780396897285, &quot;y&quot;: -0.696364240320019, &quot;z&quot;: 0.7071067811865475}, {&quot;x&quot;: -1.29893408435324e-16, &quot;y&quot;: -0.7071067811865476, &quot;z&quot;: 0.7071067811865475}, {&quot;x&quot;: 0.12278780396897258, &quot;y&quot;: -0.6963642403200191, &quot;z&quot;: 0.7071067811865475}, {&quot;x&quot;: 0.24184476264797547, &quot;y&quot;: -0.6644630243886747, &quot;z&quot;: 0.7071067811865475}, {&quot;x&quot;: 0.35355339059327334, &quot;y&quot;: -0.6123724356957948, &quot;z&quot;: 0.7071067811865475}, {&quot;x&quot;: 0.45451947767204365, &quot;y&quot;: -0.541675220419702, &quot;z&quot;: 0.7071067811865475}, {&quot;x&quot;: 0.5416752204197017, &quot;y&quot;: -0.45451947767204387, &quot;z&quot;: 0.7071067811865475}, {&quot;x&quot;: 0.6123724356957947, &quot;y&quot;: -0.35355339059327356, &quot;z&quot;: 0.7071067811865475}, {&quot;x&quot;: 0.6644630243886748, &quot;y&quot;: -0.2418447626479752, &quot;z&quot;: 0.7071067811865475}, {&quot;x&quot;: 0.696364240320019, &quot;y&quot;: -0.12278780396897288, &quot;z&quot;: 0.7071067811865475}, {&quot;x&quot;: 0.5788554735638642, &quot;y&quot;: 0.10206783792008485, &quot;z&quot;: 0.8090169943749475}, {&quot;x&quot;: 0.5877852522924731, &quot;y&quot;: 0.0, &quot;z&quot;: 0.8090169943749475}, {&quot;x&quot;: 0.5523374641860205, &quot;y&quot;: 0.201034396233786, &quot;z&quot;: 0.8090169943749475}, {&quot;x&quot;: 0.5090369604551273, &quot;y&quot;: 0.2938926261462365, &quot;z&quot;: 0.8090169943749475}, {&quot;x&quot;: 0.4502696262659356, &quot;y&quot;: 0.37782107733007825, &quot;z&quot;: 0.8090169943749475}, {&quot;x&quot;: 0.3778210773300783, &quot;y&quot;: 0.4502696262659356, &quot;z&quot;: 0.8090169943749475}, {&quot;x&quot;: 0.2938926261462366, &quot;y&quot;: 0.5090369604551271, &quot;z&quot;: 0.8090169943749475}, {&quot;x&quot;: 0.20103439623378608, &quot;y&quot;: 0.5523374641860204, &quot;z&quot;: 0.8090169943749475}, {&quot;x&quot;: 0.10206783792008489, &quot;y&quot;: 0.5788554735638642, &quot;z&quot;: 0.8090169943749475}, {&quot;x&quot;: 3.599146639029983e-17, &quot;y&quot;: 0.5877852522924731, &quot;z&quot;: 0.8090169943749475}, {&quot;x&quot;: -0.10206783792008482, &quot;y&quot;: 0.5788554735638642, &quot;z&quot;: 0.8090169943749475}, {&quot;x&quot;: -0.20103439623378588, &quot;y&quot;: 0.5523374641860205, &quot;z&quot;: 0.8090169943749475}, {&quot;x&quot;: -0.29389262614623646, &quot;y&quot;: 0.5090369604551273, &quot;z&quot;: 0.8090169943749475}, {&quot;x&quot;: -0.3778210773300783, &quot;y&quot;: 0.4502696262659356, &quot;z&quot;: 0.8090169943749475}, {&quot;x&quot;: -0.45026962626593553, &quot;y&quot;: 0.37782107733007836, &quot;z&quot;: 0.8090169943749475}, {&quot;x&quot;: -0.5090369604551271, &quot;y&quot;: 0.2938926261462368, &quot;z&quot;: 0.8090169943749475}, {&quot;x&quot;: -0.5523374641860204, &quot;y&quot;: 0.2010343962337861, &quot;z&quot;: 0.8090169943749475}, {&quot;x&quot;: -0.5788554735638642, &quot;y&quot;: 0.10206783792008481, &quot;z&quot;: 0.8090169943749475}, {&quot;x&quot;: -0.5877852522924731, &quot;y&quot;: 7.198293278059966e-17, &quot;z&quot;: 0.8090169943749475}, {&quot;x&quot;: -0.5788554735638644, &quot;y&quot;: -0.10206783792008467, &quot;z&quot;: 0.8090169943749475}, {&quot;x&quot;: -0.5523374641860205, &quot;y&quot;: -0.20103439623378597, &quot;z&quot;: 0.8090169943749475}, {&quot;x&quot;: -0.5090369604551271, &quot;y&quot;: -0.2938926261462366, &quot;z&quot;: 0.8090169943749475}, {&quot;x&quot;: -0.45026962626593575, &quot;y&quot;: -0.377821077330078, &quot;z&quot;: 0.8090169943749475}, {&quot;x&quot;: -0.37782107733007836, &quot;y&quot;: -0.45026962626593553, &quot;z&quot;: 0.8090169943749475}, {&quot;x&quot;: -0.29389262614623685, &quot;y&quot;: -0.509036960455127, &quot;z&quot;: 0.8090169943749475}, {&quot;x&quot;: -0.2010343962337859, &quot;y&quot;: -0.5523374641860205, &quot;z&quot;: 0.8090169943749475}, {&quot;x&quot;: -0.10206783792008485, &quot;y&quot;: -0.5788554735638642, &quot;z&quot;: 0.8090169943749475}, {&quot;x&quot;: -1.079743991708995e-16, &quot;y&quot;: -0.5877852522924731, &quot;z&quot;: 0.8090169943749475}, {&quot;x&quot;: 0.10206783792008463, &quot;y&quot;: -0.5788554735638644, &quot;z&quot;: 0.8090169943749475}, {&quot;x&quot;: 0.20103439623378616, &quot;y&quot;: -0.5523374641860204, &quot;z&quot;: 0.8090169943749475}, {&quot;x&quot;: 0.2938926261462362, &quot;y&quot;: -0.5090369604551275, &quot;z&quot;: 0.8090169943749475}, {&quot;x&quot;: 0.37782107733007825, &quot;y&quot;: -0.45026962626593564, &quot;z&quot;: 0.8090169943749475}, {&quot;x&quot;: 0.4502696262659355, &quot;y&quot;: -0.3778210773300784, &quot;z&quot;: 0.8090169943749475}, {&quot;x&quot;: 0.5090369604551273, &quot;y&quot;: -0.29389262614623635, &quot;z&quot;: 0.8090169943749475}, {&quot;x&quot;: 0.5523374641860205, &quot;y&quot;: -0.20103439623378594, &quot;z&quot;: 0.8090169943749475}, {&quot;x&quot;: 0.5788554735638642, &quot;y&quot;: -0.10206783792008488, &quot;z&quot;: 0.8090169943749475}, {&quot;x&quot;: 0.4470933639373925, &quot;y&quot;: 0.07883462295787132, &quot;z&quot;: 0.8910065241883678}, {&quot;x&quot;: 0.4539904997395468, &quot;y&quot;: 0.0, &quot;z&quot;: 0.8910065241883678}, {&quot;x&quot;: 0.426611522512159, &quot;y&quot;: 0.15527389578941175, &quot;z&quot;: 0.8910065241883678}, {&quot;x&quot;: 0.39316730585124016, &quot;y&quot;: 0.22699524986977337, &quot;z&quot;: 0.8910065241883678}, {&quot;x&quot;: 0.34777689955428764, &quot;y&quot;: 0.2918194681479807, &quot;z&quot;: 0.8910065241883678}, {&quot;x&quot;: 0.29181946814798077, &quot;y&quot;: 0.34777689955428764, &quot;z&quot;: 0.8910065241883678}, {&quot;x&quot;: 0.22699524986977346, &quot;y&quot;: 0.3931673058512401, &quot;z&quot;: 0.8910065241883678}, {&quot;x&quot;: 0.1552738957894118, &quot;y&quot;: 0.42661152251215895, &quot;z&quot;: 0.8910065241883678}, {&quot;x&quot;: 0.07883462295787134, &quot;y&quot;: 0.4470933639373925, &quot;z&quot;: 0.8910065241883678}, {&quot;x&quot;: 2.7798900617467165e-17, &quot;y&quot;: 0.4539904997395468, &quot;z&quot;: 0.8910065241883678}, {&quot;x&quot;: -0.0788346229578713, &quot;y&quot;: 0.4470933639373925, &quot;z&quot;: 0.8910065241883678}, {&quot;x&quot;: -0.15527389578941167, &quot;y&quot;: 0.426611522512159, &quot;z&quot;: 0.8910065241883678}, {&quot;x&quot;: -0.2269952498697733, &quot;y&quot;: 0.39316730585124016, &quot;z&quot;: 0.8910065241883678}, {&quot;x&quot;: -0.29181946814798077, &quot;y&quot;: 0.34777689955428764, &quot;z&quot;: 0.8910065241883678}, {&quot;x&quot;: -0.3477768995542876, &quot;y&quot;: 0.2918194681479808, &quot;z&quot;: 0.8910065241883678}, {&quot;x&quot;: -0.39316730585124005, &quot;y&quot;: 0.22699524986977354, &quot;z&quot;: 0.8910065241883678}, {&quot;x&quot;: -0.42661152251215895, &quot;y&quot;: 0.15527389578941184, &quot;z&quot;: 0.8910065241883678}, {&quot;x&quot;: -0.4470933639373925, &quot;y&quot;: 0.07883462295787129, &quot;z&quot;: 0.8910065241883678}, {&quot;x&quot;: -0.4539904997395468, &quot;y&quot;: 5.559780123493433e-17, &quot;z&quot;: 0.8910065241883678}, {&quot;x&quot;: -0.4470933639373926, &quot;y&quot;: -0.07883462295787118, &quot;z&quot;: 0.8910065241883678}, {&quot;x&quot;: -0.426611522512159, &quot;y&quot;: -0.15527389578941173, &quot;z&quot;: 0.8910065241883678}, {&quot;x&quot;: -0.3931673058512401, &quot;y&quot;: -0.22699524986977346, &quot;z&quot;: 0.8910065241883678}, {&quot;x&quot;: -0.3477768995542878, &quot;y&quot;: -0.29181946814798054, &quot;z&quot;: 0.8910065241883678}, {&quot;x&quot;: -0.2918194681479808, &quot;y&quot;: -0.3477768995542876, &quot;z&quot;: 0.8910065241883678}, {&quot;x&quot;: -0.2269952498697736, &quot;y&quot;: -0.39316730585124, &quot;z&quot;: 0.8910065241883678}, {&quot;x&quot;: -0.1552738957894117, &quot;y&quot;: -0.426611522512159, &quot;z&quot;: 0.8910065241883678}, {&quot;x&quot;: -0.07883462295787132, &quot;y&quot;: -0.4470933639373925, &quot;z&quot;: 0.8910065241883678}, {&quot;x&quot;: -8.339670185240149e-17, &quot;y&quot;: -0.4539904997395468, &quot;z&quot;: 0.8910065241883678}, {&quot;x&quot;: 0.07883462295787115, &quot;y&quot;: -0.4470933639373926, &quot;z&quot;: 0.8910065241883678}, {&quot;x&quot;: 0.1552738957894119, &quot;y&quot;: -0.42661152251215895, &quot;z&quot;: 0.8910065241883678}, {&quot;x&quot;: 0.2269952498697731, &quot;y&quot;: -0.39316730585124027, &quot;z&quot;: 0.8910065241883678}, {&quot;x&quot;: 0.2918194681479807, &quot;y&quot;: -0.3477768995542877, &quot;z&quot;: 0.8910065241883678}, {&quot;x&quot;: 0.3477768995542876, &quot;y&quot;: -0.2918194681479809, &quot;z&quot;: 0.8910065241883678}, {&quot;x&quot;: 0.3931673058512402, &quot;y&quot;: -0.22699524986977326, &quot;z&quot;: 0.8910065241883678}, {&quot;x&quot;: 0.426611522512159, &quot;y&quot;: -0.15527389578941173, &quot;z&quot;: 0.8910065241883678}, {&quot;x&quot;: 0.4470933639373925, &quot;y&quot;: -0.07883462295787133, &quot;z&quot;: 0.8910065241883678}, {&quot;x&quot;: 0.30432233187297814, &quot;y&quot;: 0.05366023794132169, &quot;z&quot;: 0.9510565162951535}, {&quot;x&quot;: 0.30901699437494745, &quot;y&quot;: 0.0, &quot;z&quot;: 0.9510565162951535}, {&quot;x&quot;: 0.2903809893115787, &quot;y&quot;: 0.10569003670618689, &quot;z&quot;: 0.9510565162951535}, {&quot;x&quot;: 0.2676165673298175, &quot;y&quot;: 0.1545084971874737, &quot;z&quot;: 0.9510565162951535}, {&quot;x&quot;: 0.23672075137025697, &quot;y&quot;: 0.1986322951667912, &quot;z&quot;: 0.9510565162951535}, {&quot;x&quot;: 0.19863229516679126, &quot;y&quot;: 0.23672075137025697, &quot;z&quot;: 0.9510565162951535}, {&quot;x&quot;: 0.15450849718747375, &quot;y&quot;: 0.2676165673298175, &quot;z&quot;: 0.9510565162951535}, {&quot;x&quot;: 0.10569003670618693, &quot;y&quot;: 0.2903809893115787, &quot;z&quot;: 0.9510565162951535}, {&quot;x&quot;: 0.053660237941321715, &quot;y&quot;: 0.30432233187297814, &quot;z&quot;: 0.9510565162951535}, {&quot;x&quot;: 1.8921833652170753e-17, &quot;y&quot;: 0.30901699437494745, &quot;z&quot;: 0.9510565162951535}, {&quot;x&quot;: -0.05366023794132168, &quot;y&quot;: 0.30432233187297814, &quot;z&quot;: 0.9510565162951535}, {&quot;x&quot;: -0.10569003670618682, &quot;y&quot;: 0.2903809893115787, &quot;z&quot;: 0.9510565162951535}, {&quot;x&quot;: -0.15450849718747367, &quot;y&quot;: 0.2676165673298175, &quot;z&quot;: 0.9510565162951535}, {&quot;x&quot;: -0.19863229516679126, &quot;y&quot;: 0.23672075137025697, &quot;z&quot;: 0.9510565162951535}, {&quot;x&quot;: -0.23672075137025694, &quot;y&quot;: 0.1986322951667913, &quot;z&quot;: 0.9510565162951535}, {&quot;x&quot;: -0.2676165673298174, &quot;y&quot;: 0.15450849718747384, &quot;z&quot;: 0.9510565162951535}, {&quot;x&quot;: -0.2903809893115787, &quot;y&quot;: 0.10569003670618694, &quot;z&quot;: 0.9510565162951535}, {&quot;x&quot;: -0.30432233187297814, &quot;y&quot;: 0.053660237941321666, &quot;z&quot;: 0.9510565162951535}, {&quot;x&quot;: -0.30901699437494745, &quot;y&quot;: 3.7843667304341506e-17, &quot;z&quot;: 0.9510565162951535}, {&quot;x&quot;: -0.30432233187297814, &quot;y&quot;: -0.05366023794132159, &quot;z&quot;: 0.9510565162951535}, {&quot;x&quot;: -0.2903809893115787, &quot;y&quot;: -0.10569003670618687, &quot;z&quot;: 0.9510565162951535}, {&quot;x&quot;: -0.2676165673298175, &quot;y&quot;: -0.15450849718747375, &quot;z&quot;: 0.9510565162951535}, {&quot;x&quot;: -0.23672075137025708, &quot;y&quot;: -0.19863229516679112, &quot;z&quot;: 0.9510565162951535}, {&quot;x&quot;: -0.1986322951667913, &quot;y&quot;: -0.23672075137025694, &quot;z&quot;: 0.9510565162951535}, {&quot;x&quot;: -0.15450849718747386, &quot;y&quot;: -0.26761656732981737, &quot;z&quot;: 0.9510565162951535}, {&quot;x&quot;: -0.10569003670618683, &quot;y&quot;: -0.2903809893115787, &quot;z&quot;: 0.9510565162951535}, {&quot;x&quot;: -0.05366023794132169, &quot;y&quot;: -0.30432233187297814, &quot;z&quot;: 0.9510565162951535}, {&quot;x&quot;: -5.676550095651226e-17, &quot;y&quot;: -0.30901699437494745, &quot;z&quot;: 0.9510565162951535}, {&quot;x&quot;: 0.053660237941321576, &quot;y&quot;: -0.30432233187297814, &quot;z&quot;: 0.9510565162951535}, {&quot;x&quot;: 0.10569003670618697, &quot;y&quot;: -0.2903809893115787, &quot;z&quot;: 0.9510565162951535}, {&quot;x&quot;: 0.15450849718747353, &quot;y&quot;: -0.2676165673298176, &quot;z&quot;: 0.9510565162951535}, {&quot;x&quot;: 0.1986322951667912, &quot;y&quot;: -0.23672075137025703, &quot;z&quot;: 0.9510565162951535}, {&quot;x&quot;: 0.23672075137025692, &quot;y&quot;: -0.19863229516679132, &quot;z&quot;: 0.9510565162951535}, {&quot;x&quot;: 0.26761656732981753, &quot;y&quot;: -0.15450849718747361, &quot;z&quot;: 0.9510565162951535}, {&quot;x&quot;: 0.2903809893115787, &quot;y&quot;: -0.10569003670618686, &quot;z&quot;: 0.9510565162951535}, {&quot;x&quot;: 0.30432233187297814, &quot;y&quot;: -0.0536602379413217, &quot;z&quot;: 0.9510565162951535}, {&quot;x&quot;: 0.15405787400993662, &quot;y&quot;: 0.027164559778537222, &quot;z&quot;: 0.9876883405951378}, {&quot;x&quot;: 0.15643446504023092, &quot;y&quot;: 0.0, &quot;z&quot;: 0.9876883405951378}, {&quot;x&quot;: 0.14700031243489617, &quot;y&quot;: 0.05350373815413409, &quot;z&quot;: 0.9876883405951378}, {&quot;x&quot;: 0.13547622075226864, &quot;y&quot;: 0.07821723252011545, &quot;z&quot;: 0.9876883405951378}, {&quot;x&quot;: 0.11983575265635893, &quot;y&quot;: 0.10055413585580253, &quot;z&quot;: 0.9876883405951378}, {&quot;x&quot;: 0.10055413585580254, &quot;y&quot;: 0.11983575265635893, &quot;z&quot;: 0.9876883405951378}, {&quot;x&quot;: 0.07821723252011548, &quot;y&quot;: 0.13547622075226862, &quot;z&quot;: 0.9876883405951378}, {&quot;x&quot;: 0.05350373815413411, &quot;y&quot;: 0.14700031243489614, &quot;z&quot;: 0.9876883405951378}, {&quot;x&quot;: 0.027164559778537236, &quot;y&quot;: 0.15405787400993662, &quot;z&quot;: 0.9876883405951378}, {&quot;x&quot;: 9.578848344392366e-18, &quot;y&quot;: 0.15643446504023092, &quot;z&quot;: 0.9876883405951378}, {&quot;x&quot;: -0.02716455977853722, &quot;y&quot;: 0.15405787400993662, &quot;z&quot;: 0.9876883405951378}, {&quot;x&quot;: -0.053503738154134055, &quot;y&quot;: 0.14700031243489617, &quot;z&quot;: 0.9876883405951378}, {&quot;x&quot;: -0.07821723252011542, &quot;y&quot;: 0.13547622075226864, &quot;z&quot;: 0.9876883405951378}, {&quot;x&quot;: -0.10055413585580254, &quot;y&quot;: 0.11983575265635893, &quot;z&quot;: 0.9876883405951378}, {&quot;x&quot;: -0.11983575265635892, &quot;y&quot;: 0.10055413585580256, &quot;z&quot;: 0.9876883405951378}, {&quot;x&quot;: -0.13547622075226862, &quot;y&quot;: 0.07821723252011552, &quot;z&quot;: 0.9876883405951378}, {&quot;x&quot;: -0.14700031243489614, &quot;y&quot;: 0.05350373815413412, &quot;z&quot;: 0.9876883405951378}, {&quot;x&quot;: -0.15405787400993662, &quot;y&quot;: 0.02716455977853721, &quot;z&quot;: 0.9876883405951378}, {&quot;x&quot;: -0.15643446504023092, &quot;y&quot;: 1.9157696688784732e-17, &quot;z&quot;: 0.9876883405951378}, {&quot;x&quot;: -0.15405787400993665, &quot;y&quot;: -0.027164559778537174, &quot;z&quot;: 0.9876883405951378}, {&quot;x&quot;: -0.14700031243489617, &quot;y&quot;: -0.05350373815413408, &quot;z&quot;: 0.9876883405951378}, {&quot;x&quot;: -0.13547622075226862, &quot;y&quot;: -0.07821723252011548, &quot;z&quot;: 0.9876883405951378}, {&quot;x&quot;: -0.11983575265635898, &quot;y&quot;: -0.10055413585580247, &quot;z&quot;: 0.9876883405951378}, {&quot;x&quot;: -0.10055413585580256, &quot;y&quot;: -0.11983575265635892, &quot;z&quot;: 0.9876883405951378}, {&quot;x&quot;: -0.07821723252011553, &quot;y&quot;: -0.1354762207522686, &quot;z&quot;: 0.9876883405951378}, {&quot;x&quot;: -0.05350373815413407, &quot;y&quot;: -0.14700031243489617, &quot;z&quot;: 0.9876883405951378}, {&quot;x&quot;: -0.027164559778537222, &quot;y&quot;: -0.15405787400993662, &quot;z&quot;: 0.9876883405951378}, {&quot;x&quot;: -2.87365450331771e-17, &quot;y&quot;: -0.15643446504023092, &quot;z&quot;: 0.9876883405951378}, {&quot;x&quot;: 0.027164559778537163, &quot;y&quot;: -0.15405787400993665, &quot;z&quot;: 0.9876883405951378}, {&quot;x&quot;: 0.05350373815413414, &quot;y&quot;: -0.14700031243489614, &quot;z&quot;: 0.9876883405951378}, {&quot;x&quot;: 0.07821723252011535, &quot;y&quot;: -0.1354762207522687, &quot;z&quot;: 0.9876883405951378}, {&quot;x&quot;: 0.10055413585580253, &quot;y&quot;: -0.11983575265635896, &quot;z&quot;: 0.9876883405951378}, {&quot;x&quot;: 0.1198357526563589, &quot;y&quot;: -0.10055413585580257, &quot;z&quot;: 0.9876883405951378}, {&quot;x&quot;: 0.13547622075226867, &quot;y&quot;: -0.0782172325201154, &quot;z&quot;: 0.9876883405951378}, {&quot;x&quot;: 0.14700031243489617, &quot;y&quot;: -0.053503738154134076, &quot;z&quot;: 0.9876883405951378}, {&quot;x&quot;: 0.15405787400993662, &quot;y&quot;: -0.02716455977853723, &quot;z&quot;: 0.9876883405951378}, {&quot;x&quot;: 0.0, &quot;y&quot;: 0.0, &quot;z&quot;: 1.0}], &quot;faces&quot;: [[0, 1, 2], [0, 3, 1], [0, 4, 3], [0, 5, 4], [0, 6, 5], [0, 7, 6], [0, 8, 7], [0, 9, 8], [0, 10, 9], [0, 11, 10], [0, 12, 11], [0, 13, 12], [0, 14, 13], [0, 15, 14], [0, 16, 15], [0, 17, 16], [0, 18, 17], [0, 19, 18], [0, 20, 19], [0, 21, 20], [0, 22, 21], [0, 23, 22], [0, 24, 23], [0, 25, 24], [0, 26, 25], [0, 27, 26], [0, 28, 27], [0, 29, 28], [0, 30, 29], [0, 31, 30], [0, 32, 31], [0, 33, 32], [0, 34, 33], [0, 35, 34], [0, 36, 35], [0, 2, 36], [2, 1, 37, 38], [1, 3, 39, 37], [3, 4, 40, 39], [4, 5, 41, 40], [5, 6, 42, 41], [6, 7, 43, 42], [7, 8, 44, 43], [8, 9, 45, 44], [9, 10, 46, 45], [10, 11, 47, 46], [11, 12, 48, 47], [12, 13, 49, 48], [13, 14, 50, 49], [14, 15, 51, 50], [15, 16, 52, 51], [16, 17, 53, 52], [17, 18, 54, 53], [18, 19, 55, 54], [19, 20, 56, 55], [20, 21, 57, 56], [21, 22, 58, 57], [22, 23, 59, 58], [23, 24, 60, 59], [24, 25, 61, 60], [25, 26, 62, 61], [26, 27, 63, 62], [27, 28, 64, 63], [28, 29, 65, 64], [29, 30, 66, 65], [30, 31, 67, 66], [31, 32, 68, 67], [32, 33, 69, 68], [33, 34, 70, 69], [34, 35, 71, 70], [35, 36, 72, 71], [36, 2, 38, 72], [38, 37, 73, 74], [37, 39, 75, 73], [39, 40, 76, 75], [40, 41, 77, 76], [41, 42, 78, 77], [42, 43, 79, 78], [43, 44, 80, 79], [44, 45, 81, 80], [45, 46, 82, 81], [46, 47, 83, 82], [47, 48, 84, 83], [48, 49, 85, 84], [49, 50, 86, 85], [50, 51, 87, 86], [51, 52, 88, 87], [52, 53, 89, 88], [53, 54, 90, 89], [54, 55, 91, 90], [55, 56, 92, 91], [56, 57, 93, 92], [57, 58, 94, 93], [58, 59, 95, 94], [59, 60, 96, 95], [60, 61, 97, 96], [61, 62, 98, 97], [62, 63, 99, 98], [63, 64, 100, 99], [64, 65, 101, 100], [65, 66, 102, 101], [66, 67, 103, 102], [67, 68, 104, 103], [68, 69, 105, 104], [69, 70, 106, 105], [70, 71, 107, 106], [71, 72, 108, 107], [72, 38, 74, 108], [74, 73, 109, 110], [73, 75, 111, 109], [75, 76, 112, 111], [76, 77, 113, 112], [77, 78, 114, 113], [78, 79, 115, 114], [79, 80, 116, 115], [80, 81, 117, 116], [81, 82, 118, 117], [82, 83, 119, 118], [83, 84, 120, 119], [84, 85, 121, 120], [85, 86, 122, 121], [86, 87, 123, 122], [87, 88, 124, 123], [88, 89, 125, 124], [89, 90, 126, 125], [90, 91, 127, 126], [91, 92, 128, 127], [92, 93, 129, 128], [93, 94, 130, 129], [94, 95, 131, 130], [95, 96, 132, 131], [96, 97, 133, 132], [97, 98, 134, 133], [98, 99, 135, 134], [99, 100, 136, 135], [100, 101, 137, 136], [101, 102, 138, 137], [102, 103, 139, 138], [103, 104, 140, 139], [104, 105, 141, 140], [105, 106, 142, 141], [106, 107, 143, 142], [107, 108, 144, 143], [108, 74, 110, 144], [110, 109, 145, 146], [109, 111, 147, 145], [111, 112, 148, 147], [112, 113, 149, 148], [113, 114, 150, 149], [114, 115, 151, 150], [115, 116, 152, 151], [116, 117, 153, 152], [117, 118, 154, 153], [118, 119, 155, 154], [119, 120, 156, 155], [120, 121, 157, 156], [121, 122, 158, 157], [122, 123, 159, 158], [123, 124, 160, 159], [124, 125, 161, 160], [125, 126, 162, 161], [126, 127, 163, 162], [127, 128, 164, 163], [128, 129, 165, 164], [129, 130, 166, 165], [130, 131, 167, 166], [131, 132, 168, 167], [132, 133, 169, 168], [133, 134, 170, 169], [134, 135, 171, 170], [135, 136, 172, 171], [136, 137, 173, 172], [137, 138, 174, 173], [138, 139, 175, 174], [139, 140, 176, 175], [140, 141, 177, 176], [141, 142, 178, 177], [142, 143, 179, 178], [143, 144, 180, 179], [144, 110, 146, 180], [146, 145, 181, 182], [145, 147, 183, 181], [147, 148, 184, 183], [148, 149, 185, 184], [149, 150, 186, 185], [150, 151, 187, 186], [151, 152, 188, 187], [152, 153, 189, 188], [153, 154, 190, 189], [154, 155, 191, 190], [155, 156, 192, 191], [156, 157, 193, 192], [157, 158, 194, 193], [158, 159, 195, 194], [159, 160, 196, 195], [160, 161, 197, 196], [161, 162, 198, 197], [162, 163, 199, 198], [163, 164, 200, 199], [164, 165, 201, 200], [165, 166, 202, 201], [166, 167, 203, 202], [167, 168, 204, 203], [168, 169, 205, 204], [169, 170, 206, 205], [170, 171, 207, 206], [171, 172, 208, 207], [172, 173, 209, 208], [173, 174, 210, 209], [174, 175, 211, 210], [175, 176, 212, 211], [176, 177, 213, 212], [177, 178, 214, 213], [178, 179, 215, 214], [179, 180, 216, 215], [180, 146, 182, 216], [182, 181, 217, 218], [181, 183, 219, 217], [183, 184, 220, 219], [184, 185, 221, 220], [185, 186, 222, 221], [186, 187, 223, 222], [187, 188, 224, 223], [188, 189, 225, 224], [189, 190, 226, 225], [190, 191, 227, 226], [191, 192, 228, 227], [192, 193, 229, 228], [193, 194, 230, 229], [194, 195, 231, 230], [195, 196, 232, 231], [196, 197, 233, 232], [197, 198, 234, 233], [198, 199, 235, 234], [199, 200, 236, 235], [200, 201, 237, 236], [201, 202, 238, 237], [202, 203, 239, 238], [203, 204, 240, 239], [204, 205, 241, 240], [205, 206, 242, 241], [206, 207, 243, 242], [207, 208, 244, 243], [208, 209, 245, 244], [209, 210, 246, 245], [210, 211, 247, 246], [211, 212, 248, 247], [212, 213, 249, 248], [213, 214, 250, 249], [214, 215, 251, 250], [215, 216, 252, 251], [216, 182, 218, 252], [218, 217, 253, 254], [217, 219, 255, 253], [219, 220, 256, 255], [220, 221, 257, 256], [221, 222, 258, 257], [222, 223, 259, 258], [223, 224, 260, 259], [224, 225, 261, 260], [225, 226, 262, 261], [226, 227, 263, 262], [227, 228, 264, 263], [228, 229, 265, 264], [229, 230, 266, 265], [230, 231, 267, 266], [231, 232, 268, 267], [232, 233, 269, 268], [233, 234, 270, 269], [234, 235, 271, 270], [235, 236, 272, 271], [236, 237, 273, 272], [237, 238, 274, 273], [238, 239, 275, 274], [239, 240, 276, 275], [240, 241, 277, 276], [241, 242, 278, 277], [242, 243, 279, 278], [243, 244, 280, 279], [244, 245, 281, 280], [245, 246, 282, 281], [246, 247, 283, 282], [247, 248, 284, 283], [248, 249, 285, 284], [249, 250, 286, 285], [250, 251, 287, 286], [251, 252, 288, 287], [252, 218, 254, 288], [254, 253, 289, 290], [253, 255, 291, 289], [255, 256, 292, 291], [256, 257, 293, 292], [257, 258, 294, 293], [258, 259, 295, 294], [259, 260, 296, 295], [260, 261, 297, 296], [261, 262, 298, 297], [262, 263, 299, 298], [263, 264, 300, 299], [264, 265, 301, 300], [265, 266, 302, 301], [266, 267, 303, 302], [267, 268, 304, 303], [268, 269, 305, 304], [269, 270, 306, 305], [270, 271, 307, 306], [271, 272, 308, 307], [272, 273, 309, 308], [273, 274, 310, 309], [274, 275, 311, 310], [275, 276, 312, 311], [276, 277, 313, 312], [277, 278, 314, 313], [278, 279, 315, 314], [279, 280, 316, 315], [280, 281, 317, 316], [281, 282, 318, 317], [282, 283, 319, 318], [283, 284, 320, 319], [284, 285, 321, 320], [285, 286, 322, 321], [286, 287, 323, 322], [287, 288, 324, 323], [288, 254, 290, 324], [290, 289, 325, 326], [289, 291, 327, 325], [291, 292, 328, 327], [292, 293, 329, 328], [293, 294, 330, 329], [294, 295, 331, 330], [295, 296, 332, 331], [296, 297, 333, 332], [297, 298, 334, 333], [298, 299, 335, 334], [299, 300, 336, 335], [300, 301, 337, 336], [301, 302, 338, 337], [302, 303, 339, 338], [303, 304, 340, 339], [304, 305, 341, 340], [305, 306, 342, 341], [306, 307, 343, 342], [307, 308, 344, 343], [308, 309, 345, 344], [309, 310, 346, 345], [310, 311, 347, 346], [311, 312, 348, 347], [312, 313, 349, 348], [313, 314, 350, 349], [314, 315, 351, 350], [315, 316, 352, 351], [316, 317, 353, 352], [317, 318, 354, 353], [318, 319, 355, 354], [319, 320, 356, 355], [320, 321, 357, 356], [321, 322, 358, 357], [322, 323, 359, 358], [323, 324, 360, 359], [324, 290, 326, 360], [326, 325, 361, 362], [325, 327, 363, 361], [327, 328, 364, 363], [328, 329, 365, 364], [329, 330, 366, 365], [330, 331, 367, 366], [331, 332, 368, 367], [332, 333, 369, 368], [333, 334, 370, 369], [334, 335, 371, 370], [335, 336, 372, 371], [336, 337, 373, 372], [337, 338, 374, 373], [338, 339, 375, 374], [339, 340, 376, 375], [340, 341, 377, 376], [341, 342, 378, 377], [342, 343, 379, 378], [343, 344, 380, 379], [344, 345, 381, 380], [345, 346, 382, 381], [346, 347, 383, 382], [347, 348, 384, 383], [348, 349, 385, 384], [349, 350, 386, 385], [350, 351, 387, 386], [351, 352, 388, 387], [352, 353, 389, 388], [353, 354, 390, 389], [354, 355, 391, 390], [355, 356, 392, 391], [356, 357, 393, 392], [357, 358, 394, 393], [358, 359, 395, 394], [359, 360, 396, 395], [360, 326, 362, 396], [362, 361, 397, 398], [361, 363, 399, 397], [363, 364, 400, 399], [364, 365, 401, 400], [365, 366, 402, 401], [366, 367, 403, 402], [367, 368, 404, 403], [368, 369, 405, 404], [369, 370, 406, 405], [370, 371, 407, 406], [371, 372, 408, 407], [372, 373, 409, 408], [373, 374, 410, 409], [374, 375, 411, 410], [375, 376, 412, 411], [376, 377, 413, 412], [377, 378, 414, 413], [378, 379, 415, 414], [379, 380, 416, 415], [380, 381, 417, 416], [381, 382, 418, 417], [382, 383, 419, 418], [383, 384, 420, 419], [384, 385, 421, 420], [385, 386, 422, 421], [386, 387, 423, 422], [387, 388, 424, 423], [388, 389, 425, 424], [389, 390, 426, 425], [390, 391, 427, 426], [391, 392, 428, 427], [392, 393, 429, 428], [393, 394, 430, 429], [394, 395, 431, 430], [395, 396, 432, 431], [396, 362, 398, 432], [398, 397, 433, 434], [397, 399, 435, 433], [399, 400, 436, 435], [400, 401, 437, 436], [401, 402, 438, 437], [402, 403, 439, 438], [403, 404, 440, 439], [404, 405, 441, 440], [405, 406, 442, 441], [406, 407, 443, 442], [407, 408, 444, 443], [408, 409, 445, 444], [409, 410, 446, 445], [410, 411, 447, 446], [411, 412, 448, 447], [412, 413, 449, 448], [413, 414, 450, 449], [414, 415, 451, 450], [415, 416, 452, 451], [416, 417, 453, 452], [417, 418, 454, 453], [418, 419, 455, 454], [419, 420, 456, 455], [420, 421, 457, 456], [421, 422, 458, 457], [422, 423, 459, 458], [423, 424, 460, 459], [424, 425, 461, 460], [425, 426, 462, 461], [426, 427, 463, 462], [427, 428, 464, 463], [428, 429, 465, 464], [429, 430, 466, 465], [430, 431, 467, 466], [431, 432, 468, 467], [432, 398, 434, 468], [434, 433, 469, 470], [433, 435, 471, 469], [435, 436, 472, 471], [436, 437, 473, 472], [437, 438, 474, 473], [438, 439, 475, 474], [439, 440, 476, 475], [440, 441, 477, 476], [441, 442, 478, 477], [442, 443, 479, 478], [443, 444, 480, 479], [444, 445, 481, 480], [445, 446, 482, 481], [446, 447, 483, 482], [447, 448, 484, 483], [448, 449, 485, 484], [449, 450, 486, 485], [450, 451, 487, 486], [451, 452, 488, 487], [452, 453, 489, 488], [453, 454, 490, 489], [454, 455, 491, 490], [455, 456, 492, 491], [456, 457, 493, 492], [457, 458, 494, 493], [458, 459, 495, 494], [459, 460, 496, 495], [460, 461, 497, 496], [461, 462, 498, 497], [462, 463, 499, 498], [463, 464, 500, 499], [464, 465, 501, 500], [465, 466, 502, 501], [466, 467, 503, 502], [467, 468, 504, 503], [468, 434, 470, 504], [470, 469, 505, 506], [469, 471, 507, 505], [471, 472, 508, 507], [472, 473, 509, 508], [473, 474, 510, 509], [474, 475, 511, 510], [475, 476, 512, 511], [476, 477, 513, 512], [477, 478, 514, 513], [478, 479, 515, 514], [479, 480, 516, 515], [480, 481, 517, 516], [481, 482, 518, 517], [482, 483, 519, 518], [483, 484, 520, 519], [484, 485, 521, 520], [485, 486, 522, 521], [486, 487, 523, 522], [487, 488, 524, 523], [488, 489, 525, 524], [489, 490, 526, 525], [490, 491, 527, 526], [491, 492, 528, 527], [492, 493, 529, 528], [493, 494, 530, 529], [494, 495, 531, 530], [495, 496, 532, 531], [496, 497, 533, 532], [497, 498, 534, 533], [498, 499, 535, 534], [499, 500, 536, 535], [500, 501, 537, 536], [501, 502, 538, 537], [502, 503, 539, 538], [503, 504, 540, 539], [504, 470, 506, 540], [506, 505, 541, 542], [505, 507, 543, 541], [507, 508, 544, 543], [508, 509, 545, 544], [509, 510, 546, 545], [510, 511, 547, 546], [511, 512, 548, 547], [512, 513, 549, 548], [513, 514, 550, 549], [514, 515, 551, 550], [515, 516, 552, 551], [516, 517, 553, 552], [517, 518, 554, 553], [518, 519, 555, 554], [519, 520, 556, 555], [520, 521, 557, 556], [521, 522, 558, 557], [522, 523, 559, 558], [523, 524, 560, 559], [524, 525, 561, 560], [525, 526, 562, 561], [526, 527, 563, 562], [527, 528, 564, 563], [528, 529, 565, 564], [529, 530, 566, 565], [530, 531, 567, 566], [531, 532, 568, 567], [532, 533, 569, 568], [533, 534, 570, 569], [534, 535, 571, 570], [535, 536, 572, 571], [536, 537, 573, 572], [537, 538, 574, 573], [538, 539, 575, 574], [539, 540, 576, 575], [540, 506, 542, 576], [542, 541, 577, 578], [541, 543, 579, 577], [543, 544, 580, 579], [544, 545, 581, 580], [545, 546, 582, 581], [546, 547, 583, 582], [547, 548, 584, 583], [548, 549, 585, 584], [549, 550, 586, 585], [550, 551, 587, 586], [551, 552, 588, 587], [552, 553, 589, 588], [553, 554, 590, 589], [554, 555, 591, 590], [555, 556, 592, 591], [556, 557, 593, 592], [557, 558, 594, 593], [558, 559, 595, 594], [559, 560, 596, 595], [560, 561, 597, 596], [561, 562, 598, 597], [562, 563, 599, 598], [563, 564, 600, 599], [564, 565, 601, 600], [565, 566, 602, 601], [566, 567, 603, 602], [567, 568, 604, 603], [568, 569, 605, 604], [569, 570, 606, 605], [570, 571, 607, 606], [571, 572, 608, 607], [572, 573, 609, 608], [573, 574, 610, 609], [574, 575, 611, 610], [575, 576, 612, 611], [576, 542, 578, 612], [578, 577, 613, 614], [577, 579, 615, 613], [579, 580, 616, 615], [580, 581, 617, 616], [581, 582, 618, 617], [582, 583, 619, 618], [583, 584, 620, 619], [584, 585, 621, 620], [585, 586, 622, 621], [586, 587, 623, 622], [587, 588, 624, 623], [588, 589, 625, 624], [589, 590, 626, 625], [590, 591, 627, 626], [591, 592, 628, 627], [592, 593, 629, 628], [593, 594, 630, 629], [594, 595, 631, 630], [595, 596, 632, 631], [596, 597, 633, 632], [597, 598, 634, 633], [598, 599, 635, 634], [599, 600, 636, 635], [600, 601, 637, 636], [601, 602, 638, 637], [602, 603, 639, 638], [603, 604, 640, 639], [604, 605, 641, 640], [605, 606, 642, 641], [606, 607, 643, 642], [607, 608, 644, 643], [608, 609, 645, 644], [609, 610, 646, 645], [610, 611, 647, 646], [611, 612, 648, 647], [612, 578, 614, 648], [614, 613, 649, 650], [613, 615, 651, 649], [615, 616, 652, 651], [616, 617, 653, 652], [617, 618, 654, 653], [618, 619, 655, 654], [619, 620, 656, 655], [620, 621, 657, 656], [621, 622, 658, 657], [622, 623, 659, 658], [623, 624, 660, 659], [624, 625, 661, 660], [625, 626, 662, 661], [626, 627, 663, 662], [627, 628, 664, 663], [628, 629, 665, 664], [629, 630, 666, 665], [630, 631, 667, 666], [631, 632, 668, 667], [632, 633, 669, 668], [633, 634, 670, 669], [634, 635, 671, 670], [635, 636, 672, 671], [636, 637, 673, 672], [637, 638, 674, 673], [638, 639, 675, 674], [639, 640, 676, 675], [640, 641, 677, 676], [641, 642, 678, 677], [642, 643, 679, 678], [643, 644, 680, 679], [644, 645, 681, 680], [645, 646, 682, 681], [646, 647, 683, 682], [647, 648, 684, 683], [648, 614, 650, 684], [650, 649, 685], [649, 651, 685], [651, 652, 685], [652, 653, 685], [653, 654, 685], [654, 655, 685], [655, 656, 685], [656, 657, 685], [657, 658, 685], [658, 659, 685], [659, 660, 685], [660, 661, 685], [661, 662, 685], [662, 663, 685], [663, 664, 685], [664, 665, 685], [665, 666, 685], [666, 667, 685], [667, 668, 685], [668, 669, 685], [669, 670, 685], [670, 671, 685], [671, 672, 685], [672, 673, 685], [673, 674, 685], [674, 675, 685], [675, 676, 685], [676, 677, 685], [677, 678, 685], [678, 679, 685], [679, 680, 685], [680, 681, 685], [681, 682, 685], [682, 683, 685], [683, 684, 685], [684, 650, 685]], &quot;color&quot;: &quot;#d3d3d3&quot;, &quot;opacity&quot;: 0.6}];\n",
       "    for ( var i=0 ; i < surfaces.length ; i++ ) addSurface( surfaces[i] );\n",
       "\n",
       "    function addSurface( json ) {\n",
       "\n",
       "        var useFaceColors = 'faceColors' in json ? true : false;\n",
       "\n",
       "        var geometry = new THREE.Geometry();\n",
       "        for ( var i=0 ; i < json.vertices.length ; i++ ) {\n",
       "            var v = json.vertices[i];\n",
       "            geometry.vertices.push( new THREE.Vector3( a[0]*v.x, a[1]*v.y, a[2]*v.z ) );\n",
       "        }\n",
       "        for ( var i=0 ; i < json.faces.length ; i++ ) {\n",
       "            var f = json.faces[i];\n",
       "            for ( var j=0 ; j < f.length - 2 ; j++ ) {\n",
       "                var face = new THREE.Face3( f[0], f[j+1], f[j+2] );\n",
       "                if ( useFaceColors ) face.color.set( json.faceColors[i] );\n",
       "                geometry.faces.push( face );\n",
       "            }\n",
       "        }\n",
       "        geometry.computeVertexNormals();\n",
       "\n",
       "        var side = json.singleSide ? THREE.FrontSide : THREE.DoubleSide;\n",
       "        var transparent = json.opacity < 1 ? true : false;\n",
       "        var depthWrite = 'depthWrite' in json ? json.depthWrite : !transparent;\n",
       "        var flatShading = json.useFlatShading ? json.useFlatShading : false;\n",
       "\n",
       "        var material = new THREE.MeshPhongMaterial( { side: side,\n",
       "                                     color: useFaceColors ? 'white' : json.color,\n",
       "                                     vertexColors: useFaceColors ? THREE.FaceColors : THREE.NoColors,\n",
       "                                     transparent: transparent, opacity: json.opacity,\n",
       "                                     shininess: 20, flatShading: flatShading,\n",
       "                                     depthWrite: depthWrite } );\n",
       "\n",
       "        var c = new THREE.Vector3();\n",
       "        geometry.computeBoundingBox();\n",
       "        geometry.boundingBox.getCenter( c );\n",
       "        geometry.translate( -c.x, -c.y, -c.z );\n",
       "\n",
       "        var mesh = new THREE.Mesh( geometry, material );\n",
       "        mesh.position.set( c.x, c.y, c.z );\n",
       "        if ( transparent && json.renderOrder ) mesh.renderOrder = json.renderOrder;\n",
       "        mesh.userData = json;\n",
       "        scene.add( mesh );\n",
       "\n",
       "        if ( json.showMeshGrid ) addSurfaceMeshGrid( json );\n",
       "\n",
       "    }\n",
       "\n",
       "    function addSurfaceMeshGrid( json ) {\n",
       "\n",
       "        var geometry = new THREE.Geometry();\n",
       "\n",
       "        for ( var i=0 ; i < json.faces.length ; i++ ) {\n",
       "            var f = json.faces[i];\n",
       "            for ( var j=0 ; j < f.length ; j++ ) {\n",
       "                var k = j === f.length-1 ? 0 : j+1;\n",
       "                var v1 = json.vertices[f[j]];\n",
       "                var v2 = json.vertices[f[k]];\n",
       "                // vertices in opposite directions on neighboring faces\n",
       "                var nudge = f[j] < f[k] ? .0005*zRange : -.0005*zRange;\n",
       "                geometry.vertices.push( new THREE.Vector3( a[0]*v1.x, a[1]*v1.y, a[2]*(v1.z+nudge) ) );\n",
       "                geometry.vertices.push( new THREE.Vector3( a[0]*v2.x, a[1]*v2.y, a[2]*(v2.z+nudge) ) );\n",
       "            }\n",
       "        }\n",
       "\n",
       "        var c = new THREE.Vector3();\n",
       "        geometry.computeBoundingBox();\n",
       "        geometry.boundingBox.getCenter( c );\n",
       "        geometry.translate( -c.x, -c.y, -c.z );\n",
       "\n",
       "        var gridColor = options.theme === 'dark' ? 'white' : 'black';\n",
       "        var linewidth = json.linewidth || 1;\n",
       "        var materialOptions = { color: gridColor, linewidth: linewidth };\n",
       "\n",
       "        var mesh;\n",
       "        if ( linewidth > 1 && window.createFatLineSegments ) {\n",
       "            mesh = createFatLineSegments( geometry, materialOptions );\n",
       "        } else {\n",
       "            var material = new THREE.LineBasicMaterial( materialOptions );\n",
       "            mesh = new THREE.LineSegments( geometry, material );\n",
       "        }\n",
       "\n",
       "        mesh.position.set( c.x, c.y, c.z );\n",
       "        mesh.userData = json;\n",
       "        scene.add( mesh );\n",
       "\n",
       "    }\n",
       "\n",
       "    function render() {\n",
       "\n",
       "        if ( window.updateAnimation ) animate = updateAnimation();\n",
       "        if ( animate ) requestAnimationFrame( render );\n",
       "\n",
       "        renderer.render( scene, camera );\n",
       "\n",
       "    }\n",
       "\n",
       "    render();\n",
       "    controls.update();\n",
       "    if ( !animate ) render();\n",
       "\n",
       "\n",
       "    // menu functions\n",
       "\n",
       "    function toggleMenu() {\n",
       "\n",
       "        var m = document.getElementById( 'menu-content' );\n",
       "        if ( m.style.display === 'block' ) m.style.display = 'none'\n",
       "        else m.style.display = 'block';\n",
       "\n",
       "    }\n",
       "\n",
       "\n",
       "    function saveAsPNG() {\n",
       "\n",
       "        var a = document.body.appendChild( document.createElement( 'a' ) );\n",
       "        a.href = renderer.domElement.toDataURL( 'image/png' );\n",
       "        a.download = 'screenshot';\n",
       "        a.click();\n",
       "\n",
       "    }\n",
       "\n",
       "    function saveAsHTML() {\n",
       "\n",
       "        toggleMenu(); // otherwise visible in output\n",
       "        event.stopPropagation();\n",
       "\n",
       "        var blob = new Blob( [ '<!DOCTYPE html>\\n' + document.documentElement.outerHTML ] );\n",
       "        var a = document.body.appendChild( document.createElement( 'a' ) );\n",
       "        a.href = window.URL.createObjectURL( blob );\n",
       "        a.download = suggestFilename();\n",
       "        a.click();\n",
       "\n",
       "        function suggestFilename() {\n",
       "            if ( !document.title ) {\n",
       "                return 'graphic.html';\n",
       "            } else if ( /\\.html?$/i.test( document.title ) ) {\n",
       "                return document.title; // already ends in .htm or .html\n",
       "            } else {\n",
       "                return document.title + '.html';\n",
       "            }\n",
       "        }\n",
       "\n",
       "    }\n",
       "\n",
       "    function getViewpoint() {\n",
       "\n",
       "        function roundTo( x, n ) { return +x.toFixed(n); }\n",
       "\n",
       "        var v = camera.quaternion.inverse();\n",
       "        var r = Math.sqrt( v.x*v.x + v.y*v.y + v.z*v.z );\n",
       "        var axis = [ roundTo( v.x / r, 4 ), roundTo( v.y / r, 4 ), roundTo( v.z / r, 4 ) ];\n",
       "        var angle = roundTo( 2 * Math.atan2( r, v.w ) * 180 / Math.PI, 2 );\n",
       "\n",
       "        var textArea = document.createElement( 'textarea' );\n",
       "        textArea.textContent = JSON.stringify( axis ) + ',' + angle;\n",
       "        textArea.style.csstext = 'position: absolute; top: -100%';\n",
       "        document.body.append( textArea );\n",
       "        textArea.select();\n",
       "        document.execCommand( 'copy' );\n",
       "\n",
       "        var m = document.getElementById( 'menu-message' );\n",
       "        m.innerHTML = 'Viewpoint copied to clipboard';\n",
       "        m.style.display = 'block';\n",
       "        setTimeout( function() { m.style.display = 'none'; }, 2000 );\n",
       "\n",
       "    }\n",
       "\n",
       "    function getCamera() {\n",
       "\n",
       "        function roundTo( x, n ) { return +x.toFixed(n); }\n",
       "\n",
       "        var pos = camera.position;\n",
       "        var pos_r = [ roundTo( pos.x, 4 ), roundTo( pos.y, 4 ), roundTo( pos.z, 4 ) ];\n",
       "   //     var up = camera.up; // up is always (0,0,1)\n",
       "        var textArea = document.createElement('textarea');\n",
       "        var cam_position = JSON.stringify(pos_r);\n",
       "        textArea.textContent = ',camera_position=' + cam_position;\n",
       "        textArea.style.csstext = 'position: absolute; top: -100%';\n",
       "        document.body.append( textArea );\n",
       "        textArea.select();\n",
       "        document.execCommand( 'copy' );\n",
       "\n",
       "        var m = document.getElementById( 'menu-message' );\n",
       "        m.innerHTML = 'Camera position '+ cam_position+' copied to clipboard';\n",
       "        m.style.display = 'block';\n",
       "        setTimeout( function() { m.style.display = 'none'; }, 2000 );\n",
       "\n",
       "    }\n",
       "                                       \n",
       "</script>\n",
       "\n",
       "<div id=&quot;menu-container&quot; onclick=&quot;toggleMenu()&quot;>&#x24d8;\n",
       "<div id=&quot;menu-message&quot;></div>\n",
       "<div id=&quot;menu-content&quot;>\n",
       "<div onclick=&quot;saveAsPNG()&quot;>Save as PNG</div>\n",
       "<div onclick=&quot;saveAsHTML()&quot;>Save as HTML</div>\n",
       "<div onclick=&quot;getCamera()&quot;>Get camera</div>\n",
       "<div onclick=&quot;getViewpoint()&quot;>Get viewpoint</div>\n",
       "<div>Close Menu</div>\n",
       "</div></div>\n",
       "\n",
       "\n",
       "</body>\n",
       "</html>\n",
       "\"\n",
       "        width=\"100%\"\n",
       "        height=\"400\"\n",
       "        style=\"border: 0;\">\n",
       "</iframe>\n"
      ],
      "text/plain": [
       "Graphics3d Object"
      ]
     },
     "metadata": {},
     "output_type": "display_data"
    }
   ],
   "source": [
    "M = Manifold(3, 'R^3')       # manifold M=R^3\n",
    "c_xyz.<x,y,z> = M.chart()    # Cartesian coordinates\n",
    "psi = N.diff_map(M, (sin(theta)*cos(phi), \n",
    "    sin(theta)*sin(phi),cos(theta)),\n",
    "    name='psi',latex_name=r'\\psi') # embedding s^2 -> R^3\n",
    "                             # plot the geodesic:\n",
    "p1=c.plot_integrated(c_xyz,mapping=psi,thickness=3,color='red',\n",
    "    plot_points=200, aspect_ratio=1,label_axes=False)\n",
    "p2=sphere(color='lightgrey',opacity=0.6)  # plot sphere\n",
    "(p1+p2).show(frame=False)    # combine plots"
   ]
  },
  {
   "cell_type": "markdown",
   "metadata": {},
   "source": [
    "## What's next?\n",
    "\n",
    "Take a look at the notebook [Curvature](https://nbviewer.org/github/sagemanifolds/IntroToManifolds/blob/main/23Manifold_Curvature.ipynb)."
   ]
  }
 ],
 "metadata": {
  "kernelspec": {
   "display_name": "SageMath 9.6",
   "language": "sage",
   "name": "sagemath"
  },
  "language_info": {
   "codemirror_mode": {
    "name": "ipython",
    "version": 3
   },
   "file_extension": ".py",
   "mimetype": "text/x-python",
   "name": "python",
   "nbconvert_exporter": "python",
   "pygments_lexer": "ipython3",
   "version": "3.8.10"
  }
 },
 "nbformat": 4,
 "nbformat_minor": 4
}
