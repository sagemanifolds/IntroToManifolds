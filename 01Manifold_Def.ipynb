{
 "cells": [
  {
   "cell_type": "markdown",
   "metadata": {},
   "source": [
    "# 1. Basic notions of topology\n",
    "\n",
    "This notebook is part of the [Introduction to manifolds in SageMath](https://sagemanifolds.obspm.fr/intro_to_manifolds.html) by Andrzej Chrzeszczyk (Jan Kochanowski University of Kielce, Poland).\n",
    "\n",
    "A **topology** on a set $S$ is a collection $\\mathscr{T}$ of subsets containing both\n",
    "the empty set ∅ and the set $S$ such that $\\mathscr{T}$ is closed under arbitrary unions and finite\n",
    "intersections, i.e.,<br> \n",
    "\n",
    "(i)  if $U_a ∈ \\mathscr{T}$ for all $a$ in an index set $A$, then\n",
    "$\\bigcup_{a∈A}U_a ∈ \\mathscr{T}$,<br> \n",
    "(ii)  if  $U_1, . . . ,U_n ∈ \\mathscr{T}$, then\n",
    "$\\bigcap_{i=1}^n U_i ∈ \\mathscr{T}.$<br>\n",
    "\n",
    "The elements of $\\mathscr{T}$ are called open sets. The set $S$ with a topology will be called a **topological space**.\n",
    "\n",
    "If $A$ is a subset of a topological space $S$, then the **subspace topology** on $A$ is defined as \n",
    "$\\mathscr{T}_A = \\{U ∩ A |\\ \\  U ∈ \\mathscr{T}\\}.$\n",
    "\n",
    "A **neighborhood** of a\n",
    "point $p$ in $S$ is an open set $U$ containing $p$.\n",
    "\n",
    "A subcollection $\\mathcal{B}$ of a topology $\\mathscr{T}$ on a topological space $S$ is a basis for the topology $\\mathscr{T}$ if given an open set $U$ and point $p\\in U$, there is an open set\n",
    "$B ∈ \\mathcal{B}$ such that $p ∈ B ⊂U$. We also say that $\\mathcal{B}$ generates the topology $\\mathscr{T}$ or that $\\mathcal{B}$\n",
    "is a **basis for the topological space** $S$. A collection $\\mathcal{B}$ of open sets of $S$ is a basis if and only if every open\n",
    "set in $S$ is a union of sets in $\\mathcal{B}$.\n",
    "\n",
    "If $X,Y$ are topological spaces a function $f : X →Y$ is **continuous**\n",
    "if and only if the inverse image of any open set is open.<br> A continuous bijection $f : X →Y$ whose inverse is also continuous is called a\n",
    "**homeomorphism**."
   ]
  },
  {
   "cell_type": "markdown",
   "metadata": {},
   "source": [
    "### Topologigal manifold\n",
    "\n",
    "A **topological manifold** $M$ of dimension $n$ is a topological space with the following properties:<br>\n",
    "(i) $M$ is **Hausdorff**, that is, for each pair $p_1,p_2$ of distinct points of $M$ there exist neighborhoods $V_1,V_2$ of $p_1$ and $p_2$, respectively  such that $V_1∩V_2=∅$.<br>\n",
    "(ii) Each point $p∈M$ possesses a neighborhood $V$ **homeomorphic to an open subset $U$ of $R^n$**.<br>\n",
    "(iii) $M$ satisfies the **second countability axiom**, that is, $M$ has a countable basis for its topology."
   ]
  },
  {
   "cell_type": "markdown",
   "metadata": {},
   "source": [
    "For an $n$-dimensional topological manifold \n",
    " each pair $(U, φ)$, where $U$ is an open subset of $M$ and\n",
    "$φ : U → φ(U ) ⊂ R^n$ is a homeomorphism of $U$ to an open subset of $R^n$ is called a **coordinate map, chart or coordinate system** and $U$ is  a **coordinate neighborhood**. \n",
    "\n",
    "For $p\\in U,\\  $ $φ( p)$\n",
    "belongs to $R^n$, and therefore consists of $n$ real numbers that depend on $p$.\n",
    "Thus $φ( p)$ is of the form\n",
    "\n",
    "$$\n",
    "φ( p) = (x^1 ( p), x^2 ( p), . . . , x^n ( p)).$$"
   ]
  },
  {
   "cell_type": "markdown",
   "metadata": {},
   "source": [
    "### Smooth manifold\n",
    "\n",
    "A map $\\phi=(\\phi^1,\\ldots,\\phi^m)\\ $ from an open subset $U\\subset R^n$ to $R^m$ is **smooth** on $U$ or belongs to $C^\\infty(U)$ if all partial derivatives $$\\frac{\\partial^{\\alpha_1+\\ldots+\\alpha_n} \\phi^k}\n",
    "{\\partial (x^1)^{\\alpha_1}\\ldots\\partial (x^n)^{\\alpha_n}}, \\quad  \\text{where }\\ \\alpha_i \\ \\text{denote non-negative integers} \n",
    "$$\n",
    "are continuous on $U$.\n",
    "\n",
    "When two coordinate neighborhoods overlap, we have formulas for the associated coordinate change. The idea to obtain smooth manifolds is to choose a subcollection of coordinate neighborhoods so that the coordinate changes are smooth maps.\n",
    "\n",
    "An $n$-dimensional $C^\\infty$ or **smooth manifold** is a topological manifold of dimension $n$ and a family of coordinate charts $φ_α : U_α → R^n$\n",
    "defined on open sets $U_α ⊂ M$, such that:\n",
    "\n",
    "(i) the coordinate neighborhoods $U_\\alpha$ cover $M$, \n",
    "\n",
    "(ii) for each pair of indices $α, β$ such that\n",
    "$W := U_α \\cap U_β  \\not= ∅,$\n",
    "the overlap maps (transitions)\n",
    "\n",
    "$φ_β ◦ φ_α^{-1} : φ_α (W ) → φ_β (W ),$<br>\n",
    "$φ_α ◦ φ_β^{-1} : φ_β (W ) → φ_α (W ),$\n",
    "\n",
    "are $C^\\infty$,\n",
    "\n",
    "(iii) the family $A = \\{(U_α , φ_α )\\}$ is **maximal** with respect to (i) and (ii), meaning that if $φ_0 : U_0 → R^n$ is a chart such that $φ_0 ◦ φ^{-1}$ and \n",
    "$φ\\circ φ_0^{-1}$ are $C^\\infty$\n",
    " for all $φ \\in A$, then $(U_0 , φ_0 )$ is in $A$.\n",
    " \n",
    "Any family $A = \\{(U_α , φ_α )\\}$ that satisfies (i) and (ii) is called a $C^∞$-**atlas** for $M$.\n",
    "If $A$ also satisfies (iii) it is called a **maximal atlas** or a **differentiable** or **smooth structure**.\n",
    "\n",
    "Given any atlas $A = \\{(U_α , φ_α )\\}$ on $M$,\n",
    "there is a unique maximal atlas $\\bar{A}$ containing it. In fact, we can take the set $\\bar{A}$ of all maps that satisfy (ii) with every coordinate neighborhoods on $A$.\n",
    "Clearly $A ⊂ \\bar{A}$, and one can easily check that $\\bar{A}$ satisfies (i) and (ii). Also, by construction, $\\bar{A}$ is maximal with respect to (i) and (ii). **Two atlases are said to\n",
    "be equivalent** if they define the same differentiable structure."
   ]
  },
  {
   "cell_type": "markdown",
   "metadata": {},
   "source": [
    "### Smooth functions and maps.\n",
    "\n",
    "By $C^\\infty(M)$ we shall denote the family of **smooth functions** on a smooth manifold $M$, i.e.,  functions $f$, such that $f\\circ\\phi^{-1}$ is smooth on $\\phi(U)\\subset R^n$ for every coordinate chart $(U,\\phi)$.\n",
    "\n",
    "If $M$, $N$ are smooth manifolds, then a map $\\psi: M\\to N$ is **smooth** if for every pair of charts $(U, φ)$ on $M$ and\n",
    "$(V, χ )$ on $N$, the map $χ ◦ ψ ◦ φ^{−1}$ is smooth on \n",
    "$φ(\\psi^{-1}(V)\\cap U)\\subset R^n.$"
   ]
  },
  {
   "cell_type": "markdown",
   "metadata": {},
   "source": [
    "## What's next?\n",
    "\n",
    "Take a look at the notebook [Examples of charts. Cartesian and spherical coordinates](https://nbviewer.org/github/sagemanifolds/IntroToManifolds/blob/main/02Manifold_Charts_Cartesian_spherical.ipynb)."
   ]
  }
 ],
 "metadata": {
  "kernelspec": {
   "display_name": "SageMath 9.6",
   "language": "sage",
   "name": "sagemath"
  },
  "language_info": {
   "codemirror_mode": {
    "name": "ipython",
    "version": 3
   },
   "file_extension": ".py",
   "mimetype": "text/x-python",
   "name": "python",
   "nbconvert_exporter": "python",
   "pygments_lexer": "ipython3",
   "version": "3.8.10"
  }
 },
 "nbformat": 4,
 "nbformat_minor": 4
}
