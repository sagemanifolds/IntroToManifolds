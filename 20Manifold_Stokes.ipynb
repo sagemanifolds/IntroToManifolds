{
 "cells": [
  {
   "cell_type": "markdown",
   "id": "e7443183-7f10-4a30-9503-300ac52eb8a4",
   "metadata": {},
   "source": [
    "## 20. Integration of differential forms on singular $k$-cubes\n",
    "\n",
    "This notebook is part of the [Introduction to manifolds in SageMath](https://sagemanifolds.obspm.fr/intro_to_manifolds.html) by Andrzej Chrzeszczyk (Jan Kochanowski University of Kielce, Poland)."
   ]
  },
  {
   "cell_type": "code",
   "execution_count": 1,
   "id": "ca8f8908-5376-413a-8e22-de33ed625b5f",
   "metadata": {},
   "outputs": [
    {
     "data": {
      "text/plain": [
       "'SageMath version 9.6, Release Date: 2022-05-15'"
      ]
     },
     "execution_count": 1,
     "metadata": {},
     "output_type": "execute_result"
    }
   ],
   "source": [
    "version()"
   ]
  },
  {
   "cell_type": "markdown",
   "id": "40372f27",
   "metadata": {},
   "source": [
    "**Remark**. This notebook is an attempt to present a more friendly version of Chapter 4 of:\n",
    "\n",
    "Michael Spivak. Calculus on manifolds, Addison Wesley, NY 1965,\n",
    "\n",
    "with elementary examples in SageMath.\n",
    "\n",
    "**Remark**. Readers interested in application of free software to ilustrate  the classical Stokes theorem should consult for example https://docs.sympy.org/latest/modules/vector/vector_integration.html\n",
    "<br>\n",
    "\n",
    "**Warning**. In the present notebook we extensively use the informations on differential forms from [notebook 14](https://nbviewer.org/github/sagemanifolds/IntroToManifolds/blob/main/14Manifold_Differential_Forms.ipynb) and \n",
    "[notebook 16](https://nbviewer.org/github/sagemanifolds/IntroToManifolds/blob/main/16Manifold_Ext_Der.ipynb).\n",
    "\n",
    "<br>\n",
    "\n",
    "### Explicite description of some pullbacks\n",
    "\n",
    "Let us start from some more explicite description of pullback of $k$-forms on $k$-dimensional open sets.\n",
    "\n",
    "Consider the smooth map $\\phi:U\\to V$ between open subsets in $R^k$. Let $x^1,\\ldots,x^k$ be the coordinates on $V$ and $t^1,\\ldots,t^k$ - the coordinates on $U$. For $k$-form $\\omega(x)=f(x)dx^1\\wedge\\ldots\\wedge dx^k,\\ $ $f\\in C^\\infty(V)$ \n",
    "we have\n",
    "\n",
    "\\begin{equation}\n",
    "(\\phi^*\\omega)(t)=f(\\phi(t))\\frac{\\partial(\\phi^1,\\ldots,\\phi^k)}{\\partial(t^{1},\\ldots,t^{k})}dt^1\\wedge\\ldots\\wedge dt^k,\n",
    "\\tag{20.1}\n",
    "\\end{equation}\n",
    "where $\\phi=(\\phi^1,\\ldots,\\phi^k)$ and $\\ \\frac{\\partial(\\phi^1,\\ldots,\\phi^k)}{\\partial(t^{1},\\ldots,t^{k})}=\\det\\big[\\frac{\\partial\\phi^i}{\\partial t^j}\\big]$.\n",
    "\n",
    "In fact\n",
    "\n",
    "$$\\phi^*(\\omega)=f(\\phi(t))\\big(\\frac{\\partial\\phi^1}{\\partial t^{i_1}}dt^{i_1}\\big)\n",
    "\\wedge\\ldots\\wedge\\big(\\frac{\\partial\\phi^k}{\\partial t^{i_k}}dt^{i_k}\\big)\\\\\n",
    "=f(\\phi(t))\\frac{\\partial\\phi^1}{\\partial t^{i_1}}\\ldots\\frac{\\partial\\phi^k}{\\partial t^{i_k}}dt^{i_1}\\wedge \\ldots\\wedge dt^{i_k}\\\\\n",
    "=f(\\phi(t))\\big(\\sum_{\\sigma\\in S_k} (\\text{sign}\\,\\sigma)\n",
    "\\frac{\\partial\\phi^1}{\\partial t^{\\sigma(1)}}\\ldots\\frac{\\partial\\phi^k}{\\partial t^{\\sigma(k)}}\\big)dt^{1}\\wedge \\ldots\\wedge dt^{k}\\\\\n",
    "=f(\\phi(t))\\det\\big[\\frac{\\partial\\phi^i}{\\partial t^j}\\big]dt^{1}\\wedge \\ldots\\wedge dt^{k},\n",
    "$$\n",
    "\n",
    "(we have used the relations $i_1=\\sigma(1),\\ldots,i_k=\\sigma(k),\\ $ $\\ dt^{i_1}\\wedge\\ldots\\wedge dt^{i_k}=(\\text{sign}\\,\\sigma)dt^1\\wedge\\ldots\\wedge dt^k$ and the definition of determinant)."
   ]
  },
  {
   "cell_type": "markdown",
   "id": "9ef79521",
   "metadata": {},
   "source": [
    "<br>\n",
    "\n",
    "### Singular $k$-cubes\n",
    "\n",
    "<br>\n",
    "\n",
    "Let\n",
    "$$[0,1]^k=\\underbrace{[0,1]\\times\\ldots\\times[0,1]}_{k-\\mbox{-times}}$$\n",
    "and $U$ be an open subset of $R^k$ such that $[0,1]^k\\subset U.$\n",
    "\n",
    "Let $\\phi : U \\to V$\n",
    "be a $C^\\infty$ map  of $U$ into an open set $V$\n",
    "in $R^m$ ($k$ and $m$ may be different). We will write this map simply as\n",
    "\\begin{equation}\n",
    "\\phi:[0,1]^k\\to V,\n",
    "\\tag{20.2}\n",
    "\\end{equation}\n",
    "\n",
    "(this map is a restriction of a  $C^\\infty$ map $ U\\to V$).  \n",
    "\n",
    "The map $\\phi:[0,1]^k\\to V$ will be\n",
    "called a **singular $k$-cube** in $V$. The word singular indicates that the map need not be one-to-one,  though we will require that $\\phi$ be in $C^\\infty$. For $k=1,2$ the singular $k$-cubes are just parametrized curves and surfces, respectively.\n",
    "\n",
    "<br>\n",
    "\n",
    "### Standard $k$-cubes\n",
    "\n",
    "<br>\n",
    "\n",
    "By the **standard $k$-cube** we will mean the map\n",
    "$ I:[0,1]^k\\to R^k$ defined by\n",
    "\n",
    "\\begin{equation}\n",
    "I(t)=t,\\quad t\\in[0,1]^k,\n",
    "\\tag{20.3}\n",
    "\\end{equation}\n",
    "\n",
    "so $I$ is an example of singular $k$-cube with $\\phi\\big|_{[0.1]^k}=id_{[0,1]^k}.$\n",
    "\n",
    "For standard $k$-cube $I$ we can define singular $(k-1)$-cubes $I^0_i$ and $I^1_i$\n",
    "(the i-th pieces of the boundary of $I$) as the maps\n",
    "\n",
    "\\begin{equation}\n",
    "\\begin{matrix}\n",
    "I^0_i:[0,1]^{k-1}\\ni t\\to x(t)\\in R^k, \\text{ where}\\\\\n",
    "x^1(t)=t^1,\\\\\n",
    "...........,\\\\\n",
    "x^{i-1}(t)=t^{i-1},\\\\\n",
    "x^i(t)=x^i=0,\\\\\n",
    "x^{i+1}(t)=t^i,\\\\\n",
    "...........,\\\\\n",
    "x^k(t)=t^{k-1},\\\\\n",
    "t=(t^1,\\ldots,t^{k-1})\\in [0,1]^{k-1},\n",
    "\\end{matrix}\n",
    "\\tag{20.4}\n",
    "\\end{equation}\n",
    "\n",
    "and\n",
    "\n",
    "\\begin{equation}\n",
    "\\begin{matrix}\n",
    "I^1_i:[0,1]^{k-1}\\ni t\\to x(t)\\in R^k, \\text{ where}\\\\\n",
    "x^1(t)=t^1,\\\\\n",
    "...........,\\\\\n",
    "x^{i-1}(t)=t^{i-1},\\\\\n",
    "x^i(t)=x^i=1,\\\\\n",
    "x^{i+1}(t)=t^i,\\\\\n",
    "...........,\\\\\n",
    "x^k(t)=t^{k-1},\\\\\n",
    "t=(t^1,\\ldots,t^{k-1})\\in [0,1]^{k-1}.\n",
    "\\end{matrix}\n",
    "\\tag{20.5}\n",
    "\\end{equation}\n",
    "\n",
    "\n",
    "The singular $(k-1)$-cubes $I^0_i$ and  $I^1_i$ are called $(0,i)$ and $(1,i)$ faces of $I$ respectively."
   ]
  },
  {
   "cell_type": "markdown",
   "id": "a24be832",
   "metadata": {},
   "source": [
    "<br>\n",
    "\n",
    "### Boundary of the singular $k$-cube\n",
    "\n",
    "<br>\n",
    "\n",
    "In the definition of the boundary of a singular $k$-cube we will use some auxiliary notions.\n",
    "\n",
    "For arbitrary family of objects $W=\\{w_i\\}_{i\\in J}$ we can construct a **vector space of formal linear combinations of elements $w_i\\in W$** as  the family of functions $f:W\\to R$, such that $f(w_i) = 0$\n",
    "for all but finitely many $w_i$. Vector space operations on such functions are defined as usual: if $f,g$ are formal linear combinations of elements of $W$, then\n",
    "\n",
    "$$(f+g)(w_i)=f(w_i)+g(w_i)\\quad\\mbox{and }\\ \\ (qf)(w_i)=q(f(w_i)),\\quad \\mbox{for } w_i\\in W, q\\in R.$$\n",
    "\n",
    "The formal linear combination $f$ are usualy written as \n",
    "\n",
    "$$\n",
    "f=\\sum a_iw_i,\\quad \\mbox{ where } \\ \\ a_i=f(w_i).\n",
    "$$\n",
    "\n",
    "If we take  as $W$ the family of all singular $k$-cubes in $V$ we can define the **space of $k$-chains in $V$** as the space of formal linear combinations  of singular $k$-cubes in $V$. Thus  the space of $k$-chains consists of (finite) linear combinations \n",
    "\n",
    "$$ \\sum a_i\\phi_i,\\quad \\mbox{where } \\phi_i\\ \\ \\mbox{are singular}\\ \\  \\text{$k$-cubes and}\\ \\ a_i\\in R.\n",
    "$$"
   ]
  },
  {
   "cell_type": "markdown",
   "id": "ec215d1d",
   "metadata": {},
   "source": [
    "Using the introduced notion we can define the boundary $\\partial I$ of the **standard $k$-cube $I$** as the $(k-1)$-chain\n",
    "\n",
    "\\begin{equation}\n",
    "\\partial I=\\sum_{i=1}^k (-1)^{i-1}(I^1_i-I^0_i).\n",
    "\\tag{20.6}\n",
    "\\end{equation}\n",
    "\n",
    "In the case of **singular $k$-cube $\\phi:[0,1]^k\\to V$** we define the \n",
    "$(0,i)$ and $(1,i)$ faces as\n",
    "\n",
    "\\begin{equation}\n",
    "\\phi^0_i=\\phi\\circ I^0_i,\\qquad \\phi^1_i=\\phi\\circ I^1_i,\n",
    "\\tag{20.7}\n",
    "\\end{equation}\n",
    "\n",
    "respectively and the boundary $\\partial \\phi$ of $\\phi$ as the $(k-1)$-chain\n",
    "\n",
    "\\begin{equation}\n",
    "\\partial\\phi =\\sum_{i=1}^k (-1)^{i-1}(\\phi^1_i-\\phi^0_i).\n",
    "\\tag{20.8}\n",
    "\\end{equation}"
   ]
  },
  {
   "cell_type": "markdown",
   "id": "3c12b283",
   "metadata": {},
   "source": [
    "### Integrals of $k$-forms on singular $k$-cubes and chains\n",
    "\n",
    "<br>"
   ]
  },
  {
   "cell_type": "markdown",
   "id": "c5172951",
   "metadata": {},
   "source": [
    "Let $\\omega$ be a smooth $k$-form on an open set $U\\subset R^k$ containing $[0,1]^k$.\n",
    "Assume that $\\omega$ is  of the form\n",
    "\n",
    "\\begin{equation}\n",
    "\\omega=fdx^1\\wedge\\ldots\\wedge dx^k,\n",
    "\\tag{20.9}\n",
    "\\end{equation}\n",
    "\n",
    "where $f$ is a smooth function on $U$.\n",
    "\n",
    "We define first the integral of $\\omega$ over  $[0,1]^k$\n",
    "\n",
    "\\begin{equation}\n",
    "\\int_{[0,1]^k}\\omega =\\int_{[0,1]^k}fdx^1\\wedge\\ldots\\wedge dx^k=\\int_{[0,1]^k}f(x)dx^1\\ldots dx^k=\\int_{[0,1]^k} f,\n",
    "\\tag{20.10}\n",
    "\\end{equation}\n",
    "\n",
    "where the right hand side denotes the Riemann integral over the rectangle $[0,1]^k$.\n",
    "\n",
    "Using this relation we can define  the **integral of the smooth $k$-form $\\omega$ on $V$ over singular $k$-cube** $\\phi:[0,1]^k\\to V$:\n",
    "\n",
    "\\begin{equation}\n",
    "\\int_\\phi\\omega =\\int_{[0,1]^k}\\phi^\\star\\omega.\n",
    "\\tag{20.11}\n",
    "\\end{equation}\n",
    "\n",
    "With the help of (20.1) we can rewrite this formula: \n",
    "\n",
    "\\begin{equation}\n",
    "\\int_{\\phi}\\omega=\\int_{[0,1]^k}f(\\phi(t))\n",
    "\\frac{\\partial(\\phi^1,\\ldots,\\phi^k)}{\\partial(t^{1},\\ldots,t^{k})}dt^1\\wedge\\ldots\\wedge dt^k,\n",
    "\\tag{20.12}\n",
    "\\end{equation}\n",
    "\n",
    "where $\\phi=(\\phi^1,\\ldots,\\phi^k)$.\n",
    "\n",
    "**In the special case of standard $k$-cube $I$** given by $x^1=t^1,\\ldots,x^k=t^k$, $t\\in [0,1]^k$ we obtain\n",
    "\n",
    "\\begin{equation}\n",
    "\\begin{matrix}\n",
    "\\int_I fdx^1\\wedge\\ldots\\wedge dx^k=\n",
    "\\int_{[0,1]^k}I^*(fdx^1\\wedge\\ldots\\wedge dx^k)\\\\\n",
    "=\\int_{[0,1]^k}f(I(t))\n",
    "\\frac{\\partial(x^1,\\ldots,x^k)}{\\partial(t^{1},\\ldots,t^{k})}dt^1\\wedge\\ldots\\wedge dt^k\\\\\n",
    "=\\int_{[0,1]^k}f(t)dt^1\\ldots dt^k.\n",
    "\\end{matrix}\n",
    "\\tag{20.13}\n",
    "\\end{equation}\n",
    "\n",
    "Finally we define the **integral of $k$-form of $\\omega$ over $k$-chain**  $c=\\sum a_i\\phi_i$:\n",
    "\n",
    "\\begin{equation}\n",
    "\\int_c\\omega=\\sum a_i\\int_{\\phi_i}\\omega.\n",
    "\\tag{20.14}\n",
    "\\end{equation}\n",
    "\n",
    "The last formula applied to $(k-1)$-chain $\\ \\ \\partial I=\\sum_{i=1}^k (-1)^{i-1}(I^1_i-I^0_i)\\ \\ $ and $(k-1)$-form $\\omega$ gives\n",
    "\n",
    "\\begin{equation}\n",
    "\\int_{\\partial I}\\omega=\\sum_{i=1}^k (-1)^{i-1}(\\int_{I^1_i}\\omega\n",
    "-\\int_{I^0_i}\\omega),\n",
    "\\tag{20.15}\n",
    "\\end{equation}\n",
    "\n",
    "and in the case of $(k-1)$-chain $\\ \\ \\partial \\phi=\\sum_{i=1}^k (-1)^{i-1}(\\phi^1_i-\\phi^0_i)\\ \\ $: \n",
    "\n",
    "\\begin{equation}\n",
    "\\int_{\\partial \\phi}\\omega=\\sum_{i=1}^k (-1)^{i-1}(\\int_{\\phi^1_i}\\omega\n",
    "-\\int_{\\phi^0_i}\\omega).\n",
    "\\tag{20.16}\n",
    "\\end{equation}"
   ]
  },
  {
   "cell_type": "markdown",
   "id": "27a883d7",
   "metadata": {},
   "source": [
    "<br>\n",
    "\n",
    "\n",
    "The definition (20.15) of the integral of $\\omega$  on $\\partial I$ looks artificially, but we can give it a quite natural interpretation if we define the orientation of $I^0_i$ and $I^1_i$."
   ]
  },
  {
   "cell_type": "markdown",
   "id": "b7ba766f",
   "metadata": {},
   "source": [
    "We recall  that the transition from one frame $e_1,..., e_k$ in $R^k$  to a\n",
    "second frame $e_1',..., e_k'$ can be defined by the square matrix obtained from  $e_j'=A^i_je_i$. The determinant of this matrix is always nonzero, and the set of all frames divides into two equivalence classes, each class containing all possible frames such that for any two of them the  determinant of  transition matrix is positive. Such equivalence classes are called orientation classes of frames in $R^n$.\n",
    "To define an orientation means to fix one of these orientation classes. Thus,  **the oriented space $R^k$ is the space $R^k$  together with a fixed orientation class of frames**."
   ]
  },
  {
   "cell_type": "markdown",
   "id": "26390b88",
   "metadata": {},
   "source": [
    "Let $n_i$ be the unit  outward (with respect to $[0,1]^k$) normal vector to $I^1_i$ or $I^0_i$ defined in (20.4),(20,5).\n",
    "Assume that the space $R^𝑘$ has been oriented by $e_1,\\ldots,e_k$.\n",
    "We can define the **orientation of $I^1_0$ and $I^0_i$ prescribed by  the unit outward normal vector to $I^1_i$ or $I^0_i$** in the following way.\n",
    "\n",
    "Compare the frame $𝑛_i,𝑒_1,...,\\widehat{e_i}\\ldots,𝑒_k$ ($e_i$ omitted) with the frame $e_1,..,,𝑒_k$, that orients the space $R^𝑘$. \n",
    "\n",
    "If these are in the same orientation class, then $I^0_i$ (or $I^1_i$)\n",
    "has the orientation prescribed by  the unit outward normal vector to $I^0_i$ (or $I^1_i$). \n",
    "\n",
    "If these two frames are in different orientation classes, then we take the orientation of $I^0_i$ ( or $I^1_i$)  opposite to that defined by $𝑛_i,𝑒_1,...,\\widehat{e_i}\\ldots,𝑒_k$ as the one prescribed by the outward  unit normal vector.\n",
    "\n",
    "Defining $\\ \\int_{\\partial I}\\omega\\ \\ $ we take the sum of all $\\ \\int_{ I^0_i}\\omega\\ \\ $ and \n",
    "$\\ \\int_{I^1_i}\\omega,\\ \\ $ but if $\\ I^0_i\\ $ or $\\ I^1_i\\ $ have the orientation oposite to that prescribed by the outward unit normal vector we take the correspnding integrals with minus sign. "
   ]
  },
  {
   "cell_type": "markdown",
   "id": "17eb80ea",
   "metadata": {},
   "source": [
    "<br>\n",
    "\n",
    "**Example 20.1**\n",
    "\n",
    "Consider the case $k=2$."
   ]
  },
  {
   "cell_type": "code",
   "execution_count": 2,
   "id": "6a0b864c",
   "metadata": {},
   "outputs": [
    {
     "data": {
      "image/png": "[encoded data removed]",
      "text/plain": [
       "Graphics object consisting of 21 graphics primitives"
      ]
     },
     "metadata": {},
     "output_type": "display_data"
    }
   ],
   "source": [
    "l1=polygon2d([(1.0,0.5),(1.5,0.5),(1.5,1.0),(1.0,1.0)],\n",
    "             fill=False,color='black',xmin=0,xmax=2.5,\n",
    "            ymin=0,ymax=1.5)\n",
    "e1=arrow((1.35,1),(1.1,1),color='black')\n",
    "t1=text('$-e_1$',(1.1,1.1),fontsize=20, color='black')\n",
    "n1=arrow((1.35,1),(1.35,1.2),color='black')\n",
    "tn1=text('$n$',(1.35,1.25),fontsize=20, color='black')\n",
    "I21=text('$I^1_2$',(1.2,1.3),fontsize=24, color='black')\n",
    "\n",
    "e2=arrow((1.1,0.5),(1.35,0.5),color='black')\n",
    "t2=text('$e_1$',(1.25,0.6),fontsize=20, color='black')\n",
    "n2=arrow((1.1,0.5),(1.1,0.3),color='black')\n",
    "tn2=text('$n$',(1.1,0.25),fontsize=20, color='black')\n",
    "I20=text('$I^0_2$',(1.3,0.2),fontsize=24, color='black')\n",
    "\n",
    "e3=arrow((1,0.85),(1.0,0.65),color='black')\n",
    "t3=text('$-e_2$',(0.85,0.65),fontsize=20, color='black')\n",
    "n3=arrow((1.0,0.85),(0.8,0.85),color='black')\n",
    "nt3=text('$n$',(0.75,0.9),fontsize=20, color='black')\n",
    "I11=text('$I^1_1$',(1.9,0.75),fontsize=24, color='black')\n",
    "\n",
    "e4=arrow((1.5,0.65),(1.5,0.85),color='black')\n",
    "t4=text('$e_2$',(1.6,0.85),fontsize=20, color='black')\n",
    "n4=arrow((1.5,0.65),(1.7,0.65),color='black')\n",
    "nt4=text('$n$',(1.75,0.65),fontsize=20, color='black')\n",
    "I01=text('$I^0_1$',(0.6,0.75),fontsize=24, color='black')\n",
    "\n",
    "\n",
    "(l1+e1+t1+n1+tn1+e2+n2+tn2+t2+e3+t3+n3+nt3+\n",
    " e4+t4+n4+nt4+I21+I20+I11+I01).show(axes=False)"
   ]
  },
  {
   "cell_type": "markdown",
   "id": "9ceb57f2",
   "metadata": {},
   "source": [
    "If $k=2$, then the integral  over the boundary of $\\ I\\ $  defined \n",
    "in (20.15) takes the form\n",
    "\n",
    "\\begin{equation}\n",
    "\\begin{matrix}\n",
    "\\int_{\\partial I}\\omega\n",
    "=\\sum_{i=1}^2(-1)^{i-1}\\big[\\int_{I^1_i}\\omega-\\int_{I^0_i}\\omega\\big] \\\\\n",
    "=\\int_{I^1_1}\\omega-\\int_{I^0_1}\\omega\n",
    "-\\int_{I^1_2}\\omega+\\int_{I^0_2}\\omega.\n",
    "\\end{matrix}\n",
    "\\tag{*}\n",
    "\\end{equation}\n",
    "\n",
    "The orientation of the boundary of $I$ prescribed by  the unit normal outward vector implies that: \n",
    "\n",
    "on $I^0_2$ the frame  $n,e_1$ is in the same orientation class as $e_1,e_2$ in $R^2$,\n",
    "\n",
    "on $I^1_1$ the frame  $n,e_2$ is in the same orientation class as $e_1,e_2$ in $R^2$,\n",
    "\n",
    "on $I^1_2$ the frame  $n,-e_1$ is in the same orientation class as $e_1,e_2$ in $R^2$,\n",
    "\n",
    "on $I^0_1$ the frame  $n,-e_2$ is in the same orientation class as $e_1,e_2$ in $R^2$.\n",
    "\n",
    "This is in accordance with the fact that in (*) the integrals over $I^1_2$ and $I^0_1$ are taken with the minus sign.\n",
    "\n",
    "As we can see, in the case $k=2$ the formula (20.15) agrees with\n",
    "the orientation of boundary of $I$ prescribed by  the unit outward normal vector and  corresponds to going around the square\n",
    "counterclockwise.\n"
   ]
  },
  {
   "cell_type": "markdown",
   "id": "f6ab68d9",
   "metadata": {},
   "source": [
    "<br>\n",
    "\n",
    "**Example 20.2**\n",
    "\n",
    "Consider the case $k=3$."
   ]
  },
  {
   "cell_type": "code",
   "execution_count": 3,
   "id": "bc71ffdf",
   "metadata": {},
   "outputs": [
    {
     "data": {
      "image/png": "[encoded data removed]",
      "text/plain": [
       "Graphics Array of size 3 x 3"
      ]
     },
     "metadata": {},
     "output_type": "display_data"
    }
   ],
   "source": [
    "x1=arrow((0.5,0.2),(1.8,0.2),color='black')\n",
    "x2=arrow((0.5,0.2),(1.6,1.05),color='lightgrey')\n",
    "x3=arrow((0.5,0.2),(0.5,1.4),color='black')\n",
    "t1=text('$x_1$',(2.1,0.2),fontsize=20, color='black')\n",
    "t2=text('$x_2$',(1.5,1.4),fontsize=20, color='black')\n",
    "t3=text('$x_3$',(0.4,1.7),fontsize=20, color='black')\n",
    "#(x1+x2+x3).show(axes=False)\n",
    "\n",
    "l1=polygon2d([(0.5,0.2),(0.5,0.8),(1.0,0.8),(1,0.2)],\n",
    "             fill=False,color='black')\n",
    "l2=polygon2d([(0.5,0.8),(0.8,1.),(1.3,1.),(1.0,0.8)],\n",
    "             fill=False,color='black')\n",
    "l3=polygon2d([(1.0,0.2),(1.0,0.8),(1.3,1),(1.3,0.5)],\n",
    "             fill=False,color='black')\n",
    "\n",
    "p11=x1+t1+x2+t2+x3+t3+l1+l2+l3\n",
    "\n",
    "e2=arrow((0,0),(-0.6,-0.6),color='grey',xmin=-2,ymin=-2,xmax=2,ymax=2)\n",
    "t2=text('$-e_2$',(-0.75,-0.75),fontsize=20, color='black')\n",
    "e3=arrow((0,0),(0,1.2),color='grey',xmin=-2,ymin=-2,xmax=2,ymax=2)\n",
    "t3=text('$e_3$',(0,1.4),fontsize=20, color='black')\n",
    "n=arrow((0,0),(-0.7,0),color='grey',xmin=-2,ymin=-2,xmax=2,ymax=2)\n",
    "tn=text('$n$',(-0.8,0.),fontsize=20, color='black')\n",
    "left=text(\"$I^0_1$\",(1.8,0),fontsize=28, color='black')\n",
    "p10=e2+t2+e3+t3+n+tn+left\n",
    "\n",
    "e2=arrow((0,0),(0.6,0.6),color='grey',xmin=-2,ymin=-2,xmax=2,ymax=2)\n",
    "t2=text('$e_2$',(0.75,0.75),fontsize=20, color='black')\n",
    "e3=arrow((0,0),(0,1.2),color='grey',xmin=-2,ymin=-2,xmax=2,ymax=2)\n",
    "t3=text('$e_3$',(0,1.4),fontsize=20, color='black')\n",
    "n=arrow((0,0),(0.7,0),color='grey',xmin=-2,ymin=-2,xmax=2,ymax=2)\n",
    "tn=text('$n$',(0.8,0.),fontsize=20, color='black')\n",
    "right=text(\"$I^1_1$\",(-1.9,0),fontsize=28, color='black')\n",
    "p12=e2+t2+e3+t3+n+tn+right\n",
    "\n",
    "e1=arrow((0,0),(0.7,0.0),color='grey',xmin=-2,ymin=-2,xmax=2,ymax=2)\n",
    "t1=text('$e_1$',(0.8,0.0),fontsize=20, color='black')\n",
    "e2=arrow((0,0),(0.7,0.7),color='grey',xmin=-2,ymin=-2,xmax=2,ymax=2)\n",
    "t2=text('$e_2$',(0.8,0.8),fontsize=20, color='black')\n",
    "n=arrow((0,0),(0,1),color='grey',xmin=-2,ymin=-2,xmax=2,ymax=2)\n",
    "tn=text('$n$',(0.,1.1),fontsize=20, color='black')\n",
    "ttop=text(\"$I^1_3$\",(0,-1.9),fontsize=28, color='black')\n",
    "p01=e1+t1+e2+t2+n+tn+ttop\n",
    "\n",
    "e1=arrow((0,0),(0.7,0.0),color='grey',xmin=-2,ymin=-2,xmax=2,ymax=2)\n",
    "t1=text('$e_1$',(0.8,0.0),fontsize=20, color='black')\n",
    "e2=arrow((0,0),(-0.7,-0.7),color='grey',xmin=-2,ymin=-2,xmax=2,ymax=2)\n",
    "t2=text('$-e_2$',(-0.8,-0.8),fontsize=20, color='black')\n",
    "n=arrow((0,0),(0,-1),color='grey',xmin=-2,ymin=-2,xmax=2,ymax=2)\n",
    "tn=text('$n$',(0.,-1.1),fontsize=20, color='black')\n",
    "bottom=text(\"$I^0_3$\",(0,1.8),fontsize=28, color='black')\n",
    "p21=e1+t1+e2+t2+n+tn+bottom\n",
    "\n",
    "e1=arrow((0,0),(-0.7,0.0),color='grey',xmin=-2,ymin=-2,xmax=2,ymax=2)\n",
    "t1=text('$-e_1$',(-1,0.0),fontsize=20, color='black')\n",
    "e3=arrow((0,0),(0,1.2),color='grey',xmin=-2,ymin=-2,xmax=2,ymax=2)\n",
    "t3=text('$e_3$',(0,1.4),fontsize=20, color='black')\n",
    "n=arrow((0,0),(0.7,0.7),color='grey',xmin=-2,ymin=-2,xmax=2,ymax=2)\n",
    "tn=text('$n$',(0.8,0.8),fontsize=20, color='black')\n",
    "back=text(\"$I^1_2$\",(-1.8,-1.8),fontsize=28, color='black')\n",
    "p02=e1+t1+e3+t3+n+tn+back\n",
    "\n",
    "e1=arrow((0,0),(0.7,0.0),color='grey',xmin=-2,ymin=-2,xmax=2,ymax=2)\n",
    "t1=text('$e_1$',(0.8,0.0),fontsize=20, color='black')\n",
    "e3=arrow((0,0),(0,1.2),color='grey',xmin=-2,ymin=-2,xmax=2,ymax=2)\n",
    "t3=text('$e_3$',(0,1.4),fontsize=20, color='black')\n",
    "n=arrow((0,0),(-0.7,-0.7),color='grey',xmin=-2,ymin=-2,xmax=2,ymax=2)\n",
    "tn=text('$n$',(-0.8,-0.8),fontsize=20, color='black')\n",
    "front=text(\"$I^0_2$\",(1.8,1.8),fontsize=28, color='black')\n",
    "p20=e1+t1+e3+t3+n+tn+front\n",
    "\n",
    "graphics_array([[text(\"\",(1,1)),p01,p02],\n",
    "                [p10,p11,p12],\n",
    "                [p20,p21,text(\"\",(1,1))]]).show(axes=False,\n",
    "                                    figsize=(8,6))"
   ]
  },
  {
   "cell_type": "markdown",
   "id": "701eb065",
   "metadata": {},
   "source": [
    "If $k=3$, then the integral  over the boundary of $\\ I\\ $  defined \n",
    "in (20.15) takes the form\n",
    "\n",
    "\\begin{equation}\n",
    "\\begin{matrix}\n",
    "\\int_{\\partial I}\\omega\n",
    "=\\sum_{i=1}^3(-1)^{i-1}\\big[\\int_{I^1_i}\\omega-\\int_{I^0_i}\\omega\\big] \\\\\n",
    "=\\int_{I^1_1}\\omega-\\int_{I^0_1}\\omega\n",
    "-\\int_{I^1_2}\\omega+\\int_{I^0_2}\\omega\n",
    "+\\int_{I^1_3}\\omega-\\int_{I^0_3}\\omega.\n",
    "\\end{matrix}\n",
    "\\tag{**}\n",
    "\\end{equation}\n",
    "\n",
    "The orientation of the boundary of $I$ prescribed by  the unit outward normal vector implies that: \n",
    "\n",
    "on $I^1_1$ the frame  $n,e_2,e3$ is in the same orientation class as $e_1,e_2,e_3$ in $R^3$,\n",
    "\n",
    "on $I^0_1$ the frame  $n,-e_2,e_3$ is in the same orientation class as $e_1,e_2,e_3$ in $R^3$,\n",
    "\n",
    "on $I^1_2$ the frame  $n,-e_1,e_3$ is in the same orientation class as $e_1,e_2,e_3$ in $R^3$,\n",
    "\n",
    "on $I^0_2$ the frame  $n,e_1,e_3$ is in the same orientation class as $e_1,e_2,e_3$ in $R^3$,\n",
    "\n",
    "on $I^1_3$ the frame  $n,e_1,e_2$ is in the same orientation class as $e_1,e_2,e_3$ in $R^3$,\n",
    "\n",
    "on $I^0_3$ the frame  $n,e_1,-e_2$ is in the same orientation class as $e_1,e_2,e_3$ in $R^3$.\n",
    "\n",
    "This is in accordance with the fact that in (**) the integrals over $I^0_1,I^1_2,I^0_3$ are taken with the minus sign.\n",
    "\n",
    "As we can see, in the case $k=3$ the formula (20.15) agrees with\n",
    "the orientation of boundary of $I$ prescribed by  the unit outward normal vector.\n"
   ]
  },
  {
   "cell_type": "markdown",
   "id": "98db0612",
   "metadata": {},
   "source": [
    "<br>\n",
    "\n",
    "### Integrals of $(k-1)$-forms over $I^0_i$ and $I^1_i$\n",
    "\n",
    "<br>\n",
    "\n",
    "\n",
    "General  smooth $(k-1)$-form on an open subset $U\\subset R^k$ containing  $[0,1]^k$ is of the form\n",
    "\n",
    "\\begin{equation}\n",
    "\\omega=\\sum_{j=1}^k\\omega_j(x^1,\\ldots,x^k)dx^1\\wedge\\ldots \\widehat{dx^j}\n",
    "\\wedge\\ldots dx^k,\n",
    "\\tag{20.17}\n",
    "\\end{equation}\n",
    "($dx^j$ is omitted). \n",
    "\n",
    "Consider the  single summand $\\ \\omega_j\n",
    "dx^1\\wedge\\ldots \\wedge \\widehat{dx^j}\\wedge\\ldots\\wedge dx^k$.\n",
    "\n",
    "Since the map  $I^0_i$ is\n",
    "given by (20.4)\n",
    "and $x^i=0$ is constant, for $i\\neq j$ we have\n",
    "\n",
    "$$\n",
    "\\int_{I^0_i}\\omega_j\n",
    "dx^1\\wedge\\ldots \\wedge \\widehat{dx^j}\\wedge\\ldots\\wedge dx^k\\\\\n",
    "=\\int_{[0,1]^{k-1}}(I^0_i)^*(\\omega_j\n",
    "dx^1\\wedge\\ldots \\wedge \\widehat{dx^j}\\wedge\\ldots\\wedge dx^k)\\\\\n",
    "=\\int_{[0,1]^{k-1}}\\omega_j(I^0_i(t))\n",
    "\\frac{\\partial(x^1,\\ldots 0\\ldots\\widehat{x^j}\\ldots,x^k)}{\\partial(t^{1},\\ldots,t^{k-1})}\n",
    "dt^{1}\\wedge\\ldots\\wedge dt^{k-1}=0\n",
    "$$\n",
    "\n",
    "and analogously for $I^1_i$ , so if $i\\neq j$\n",
    "\n",
    "\\begin{equation}\n",
    "\\begin{matrix}\n",
    "\\int_{I^0_i}\\omega_j\n",
    "dx^1\\wedge\\ldots \\wedge \\widehat{dx^j}\\wedge\\ldots\\wedge dx^k=0,\\\\\n",
    "\\int_{I^1_i}\\omega_j\n",
    "dx^1\\wedge\\ldots \\wedge \\widehat{dx^j}\\wedge\\ldots\\wedge dx^k=0.\n",
    "\\end{matrix}\n",
    "\\tag{20.18}\n",
    "\\end{equation}\n",
    "\n",
    "If $i=j$ we have\n",
    "\n",
    "$$\\int_{I^0_i}\\omega_i\n",
    "dx^1\\wedge\\ldots \\wedge \\widehat{dx^i}\\wedge\\ldots\\wedge dx^k\\\\\n",
    "=\\int_{[0,1]^{k-1}}(I^0_i)^*(\\omega_i\n",
    "dx^1\\wedge\\ldots \\wedge \\widehat{dx^i}\\wedge\\ldots\\wedge dx^k)\\\\\n",
    "=\\int_{[0,1]^{k-1}}\\omega_i(I^0_i(t))\n",
    "\\frac{\\partial(x^1,\\ldots\\widehat{x^i}\\ldots,x^k)}{\\partial(t^{1},\\ldots,t^{k-1})}\n",
    "dt^{1}\\wedge\\ldots\\wedge dt^{k-1}\\\\\n",
    "=\\int_{[0,1]^{k-1}}\\omega_i(I^0_i(t))\n",
    "dt^{1}\\ldots dt^{k-1}\\\\\n",
    "=\\int_{[0,1]^{k-1}}\\omega_i\\big|_{x^i=0}\n",
    "dx^{1}\\ldots\\widehat{dx^i}\\ldots dx^{k}\\\\\n",
    "=\\int_{[0,1]^{k}}\\omega_i\\big|_{x^i=0}\n",
    "dx^{1}\\ldots\\ldots dx^{k}.\n",
    "$$\n",
    "\n",
    "The last equality follows from the fact, that if a function $g$ is constant with respect to $x^i$, then $g=\\int_0^1 gdx^i$.\n",
    "\n",
    "\n",
    "Analogously we can compute the integral over $I^1_i$, so\n",
    "\n",
    "\\begin{equation}\n",
    "\\begin{matrix}\n",
    "\\int_{I^0_i}\\omega_i\n",
    "dx^1\\wedge\\ldots \\wedge \\widehat{dx^i}\\wedge\\ldots\\wedge dx^k\\\\\n",
    "=\\int_{[0,1]^{k}}\\omega_i\\big|_{x^i=0}\n",
    "dx^{1}\\ldots dx^{k},\n",
    "\\end{matrix}\n",
    "\\tag{20.19}\n",
    "\\end{equation}\n",
    "and\n",
    "\\begin{equation}\n",
    "\\begin{matrix}\n",
    "\\int_{I^1_i}\\omega_i\n",
    "dx^1\\wedge\\ldots \\wedge \\widehat{dx^i}\\wedge\\ldots\\wedge dx^k\\\\\n",
    "=\\int_{[0,1]^{k}}\\omega_i\\big|_{x^i=1}\n",
    "dx^{1}\\ldots dx^{k}.\n",
    "\\end{matrix}\n",
    "\\tag{20.20}\n",
    "\\end{equation}"
   ]
  },
  {
   "cell_type": "markdown",
   "id": "8c7579ee",
   "metadata": {},
   "source": [
    "<br>\n",
    "\n",
    "### Stokes theorem on the standard $k$-cube\n",
    "\n",
    "<br>\n",
    "\n",
    "Consider a smooth $(k-1)$-form (20.17) on an open subset $V\\subset R^k$ containing $[0,1]^k$ and\n",
    " let $I$ be the standard $k$-cube defined in (20.3).\n",
    "Let us compute $\\ \\int_I d\\omega.$\n",
    "\n",
    "By linearity we can compute each summand\n",
    "\n",
    "$$\\int_I d(\\omega_idx^1\\wedge\\ldots \\widehat{dx^i}\\wedge\\ldots dx^k)$$\n",
    "\n",
    "separately. Let us focus on $i=1$ first. We have\n",
    "\n",
    "$$\\int_I d(\\omega_1 \\widehat{dx^1}\\wedge dx^2\\wedge\\ldots\\wedge dx^k)\\\\\n",
    "=\\int_{[0,1]^k}I^*( d(\\omega_1 dx^2\\wedge\\ldots\\wedge dx^k))\\\\\n",
    "=\\int_{[0,1]^k} d(I^*(\\omega_1 dx^2\\wedge\\ldots\\wedge dx^k))\\\\\n",
    "=\\int_{[0,1]^k}\\frac{\\partial \\omega_1}{\\partial t^1}dt^1\\wedge\\ldots\\wedge dt^k\\\\\n",
    "=\n",
    "\\int_{t^k=0}^{1}\\ldots\\int_{t^1=0}^{1}\n",
    "\\frac{\\partial \\omega_1}{\\partial t^1}dt^1\\ldots dt^k\\\\\n",
    "=\\int_{t^k=0}^{1}\\ldots\\int_{t^2=0}^{1}\n",
    "\\big[\\omega_1(t)\\big|_{t^1=1}-\\omega_1(t)\\big|_{t^1=0}\\big]dt^2\\ldots dt^k. \n",
    "$$\n",
    "\n",
    "Sice the integrand $g=\\omega_1(t)\\big|_{t^1=1}-\\omega_1(t)\\big|_{t^1=0}$ does not depend on $t^1$ it is equal to its integral $\\int^1_0g\\;dt^1$, so\n",
    "\n",
    "$$\\int_I d(\\omega_1 \\widehat{dx^1}\\wedge dx^2\\wedge\\ldots\\wedge dx^k)\\\\\n",
    "=\\int_{[0,1]^k}\\big[\\omega_1(t)\\big|_{t^1=1}-\\omega_1(t)\\big|_{t^1=0}\\big]dt^1\\ldots dt^k\\\\\n",
    "=\\int_{[0,1]^k}\\big[\\omega_1\\big|_{x^1=1}-\\omega_1\\big|_{x^1=0}\\big]dx^1\\ldots dx^k\\\\\n",
    "=\\int_{I_1^1}\\omega_1\\widehat{dx^1}\\wedge dx^2\\wedge\\ldots\\wedge dx^k\n",
    "-\\int_{I_1^0}\\omega_1\\widehat{dx^1}\\wedge dx^2\\wedge\\ldots\\wedge dx^k.\n",
    "$$\n",
    "\n",
    "In the last equality we have usesd (20.19) and (20.20) for $i=1$."
   ]
  },
  {
   "cell_type": "markdown",
   "id": "814ba087",
   "metadata": {},
   "source": [
    "\n",
    "\n",
    "For $i=2$ we have\n",
    "\n",
    "$$\\int_I d(\\omega_2 dx^1\\wedge\\widehat{dx^2}\\wedge dx^3\\ldots\\wedge dx^k)\\\\\n",
    "=\\int_{[0,1]^k}I^*( d(\\omega_2 dx^1\\wedge dx^3\\ldots\\wedge dx^k))\\\\\n",
    "=\\int_{[0,1]^k} d(I^*(\\omega_2 dx^1\\wedge dx^3\\ldots\\wedge dx^k))\\\\\n",
    "=\\int_{[0,1]^k}\\frac{\\partial \\omega_2}{\\partial t^2}dt^2\\wedge dt^1\\wedge dt^3\\ldots\\wedge dt^k\\\\\n",
    "=(-1)\\int_{[0,1]^k}\\frac{\\partial \\omega_2}{\\partial t^2}dt^1\\wedge dt^2\\wedge dt^3\\ldots\\wedge dt^k\\\\\n",
    "=(-1)\\int_{t^k=0}^{1}\\ldots\\int_{t^2=0}^1\\int_{t^1=0}^{1}\n",
    "\\frac{\\partial \\omega_2}{\\partial t^2}dt^1\\ldots dt^k\\\\\n",
    "=(-1)\\int_{t^k=0}^{1}\\ldots\\int_{t^3=0}^1\\int_{t^1=0}^1\\int_{t^2=0}^{1}\n",
    "\\frac{\\partial \\omega_2}{\\partial t^2}dt^2dt^1 dt^3\\ldots dt^k\\\\\n",
    "=(-1)\\int_{t^k=0}^{1}\\ldots\\widehat{\\int_{t^2=0}^1}\\int_{t^1=0}^{1}\n",
    "\\big[\\omega_2(t)\\big|_{t^2=1}-\\omega_2(t)\\big|_{t^2=0}\\big]dt^1\\ldots\\widehat{dt^2}\\ldots dt^k. \n",
    "$$\n",
    "\n",
    "Sice the integrand $g=\\omega_2(t)\\big|_{t^2=1}-\\omega_2(t)\\big|_{t^2=0}$ does not depend on $t^2$ it is equal to its integral $\\int^1_0g\\;dt^2$, so\n",
    "\n",
    "$$\\int_I d(\\omega_2 dx^1\\wedge dx^3\\wedge\\ldots\\wedge dx^k)\\\\\n",
    "=(-1)\\int_{[0,1]^k}\\big[\\omega_2(t)\\big|_{t^2=1}-\\omega_2(t)\\big|_{t^2=0}\\big]dt^1\\ldots dt^k\\\\\n",
    "=(-1)\\int_{[0,1]^k}\\big[\\omega_2\\big|_{x^2=1}-\\omega_2\\big|_{x^2=0}\\big]dx^1\\ldots dx^k\\\\\n",
    "=(-1)\\big[\\int_{I_2^1}\\omega_2dx^1\\wedge\\widehat{dx^2}\\wedge\\ldots\\wedge dx^k\n",
    "-\\int_{I_2^0}\\omega_2dx^1\\wedge\\widehat{dx^2}\\wedge\\ldots\\wedge dx^k\\big].\n",
    "$$\n",
    "\n",
    "In the last equality we have usesd (20.19) and (20.20) for $i=2$."
   ]
  },
  {
   "cell_type": "markdown",
   "id": "f9fa117b",
   "metadata": {},
   "source": [
    "Now we are ready to consider the complete $(k-1)$ form (20.17). First compute the exterior differential\n",
    "\n",
    "$$d\\omega=\\sum_{i=1}^k\\frac{\\partial \\omega_i}{\\partial x^i}\n",
    "dx^i\\wedge dx^1\\wedge\\ldots \\widehat{dx^i}\\wedge\\ldots\\wedge dx^k\\\\\n",
    "=\\sum_{i=1}^k (-1)^{i-1}\\frac{\\partial \\omega_i}{\\partial x^i}\n",
    "dx^1\\wedge\\ldots \\wedge dx^i\\wedge\\ldots\\wedge dx^k\\\\\n",
    "=\\big(\\sum_{i=1}^k (-1)^{i-1}\\frac{\\partial \\omega_i}{\\partial x^i}\\big)\n",
    "dx^1\\wedge\\ldots \\wedge dx^i\\wedge\\ldots\\wedge dx^k,\n",
    "$$\n",
    "\n",
    "and next the integral\n"
   ]
  },
  {
   "cell_type": "markdown",
   "id": "ebdf63aa",
   "metadata": {},
   "source": [
    "$$\\int_{I}d\\omega=\\sum_{i=1}^k(-1)^{i-1}\\int_{I}\n",
    "\\frac{\\partial \\omega_i}{\\partial x^i}\n",
    "dx^1\\wedge\\ldots \\wedge dx^i\\wedge\\ldots\\wedge dx^k\\\\\n",
    "=\\sum_{i=1}^k(-1)^{i-1}\\int_{t^k=0}^{1}\n",
    "\\ldots\\widehat{\\int_{t^i=0}^{1}}\\ldots\\int_{t^1=0}^{1}\\int_{t^i=0}^{1}\n",
    "\\frac{\\partial \\omega_i}{\\partial t^i}\n",
    "dt^idt^1\\ldots \\widehat{dt^i}\\ldots dt^k\\\\\n",
    "=\\sum_{i=1}^k(-1)^{i-1}\\int_{t^k=0}^{1}\n",
    "\\ldots\\widehat{\\int_{t^i=0}^{1}}\\ldots\\int_{t^1=0}^{1}\n",
    "[\\omega_i\\big|_{x^i=1}-\\omega_i\\big|_{x^i=0}]dt^1\\ldots \\widehat{dt^i}\\ldots dt^k\\\\\n",
    "=\\sum_{i=1}^k(-1)^{i-1}\\int_{[0,1]^k}\n",
    "\\big[\\omega_i\\big|_{x^i=1}-\\omega_i\\big|_{x^i=0}\\big]dx^1\\ldots \\ldots dx^k\\\\\n",
    "=\\sum_{i=1}^k(-1)^{i-1}\\big[\\int_{I^1_i}\\omega_i\n",
    "dx^1\\wedge\\ldots \\wedge \\widehat{dx^i}\\wedge\\ldots\\wedge dx^k\\\\\n",
    "-\\int_{I^0_i}\\omega_i\n",
    "dx^1\\wedge\\ldots \\wedge \\widehat{dx^i}\\wedge\\ldots\\wedge dx^k\\big].\n",
    "$$"
   ]
  },
  {
   "cell_type": "markdown",
   "id": "ccf307c9",
   "metadata": {},
   "source": [
    "As a consequence of (20.18)-(20.20) we obtain\n",
    "\n",
    "$$\n",
    "\\int_{I^0_i}\\omega_i\n",
    "dx^1\\wedge\\ldots \\wedge \\widehat{dx^i}\\wedge\\ldots\\wedge dx^k\n",
    "=\\int_{I^0_i}\\omega,\\\\\n",
    "\\int_{I^1_i}\\omega_i\n",
    "dx^1\\wedge\\ldots \\wedge \\widehat{dx^i}\\wedge\\ldots\\wedge dx^k\n",
    "=\\int_{I^1_i}\\omega.\n",
    "$$\n",
    "\n",
    "Thus we have checked that\n",
    "\n",
    "\\begin{equation}\n",
    "\\int_{I}d\\omega=\n",
    "\\sum_{i=1}^k(-1)^{i-1}\\big[\\int_{I^1_i}\\omega-\\int_{I^0_i}\\omega\\big].\n",
    "\\tag{20.21}\n",
    "\\end{equation}"
   ]
  },
  {
   "cell_type": "markdown",
   "id": "249b7fe2",
   "metadata": {},
   "source": [
    "Recall, that in (20.15) we defined the boundary integral of $\\omega$ as\n",
    "$\n",
    "\\int_{\\partial I}\\omega=\\sum_{i=1}^k(-1)^{i-1}\\big[\\int_{I^1_i}\\omega-\\int_{I^0_i}\\omega\\big],\n",
    "$\n",
    "so we get:\n",
    "\n",
    "<br>\n",
    "\n",
    "### Formulation of  Stokes theorem on the standard $k$-cube.\n",
    "\n",
    "<br>\n",
    "\n",
    "If $\\ \\omega\\ $ is a smooth $(k-1)$-form (20.17) on an open set $U\\subset R^k$ containing $[0,1]^k$,$\\ \\ I$ is the standard $k$-cube defined in (20.3)\n",
    "and if the boundary integral $\\ \\int_{\\partial I}\\omega\\ $ is defined by  (20.15), then\n",
    "\n",
    "\\begin{equation}\n",
    "\\int_{I}d\\omega=\\int_{\\partial I}\\omega.\n",
    "\\tag{20.22}\n",
    "\\end{equation}"
   ]
  },
  {
   "cell_type": "markdown",
   "id": "865bf075",
   "metadata": {},
   "source": [
    "<br>\n",
    "\n",
    "**Example 20.3**\n",
    "\n",
    "Using Stokes theorem compute the integral\n",
    "$\\ \\int_{\\partial I} xy^2zdx\\wedge dy,\\ $ where $\\partial I$ denotes the boundary of the unit cube\n",
    "$[0,1]\\times[0,1]\\times[0,1]$, oriented by the outward unit normal.\n",
    "\n",
    "<br>\n",
    "\n",
    "Using Stokes theorem we can replace the integral by $\\int_I da,\\ $ where $a=xy^2zdx\\wedge dy,$\n",
    "\n",
    "so we start from definition of 2-form $a$ and computing its exterior derivative $da$."
   ]
  },
  {
   "cell_type": "code",
   "execution_count": 4,
   "id": "adeb7c04",
   "metadata": {},
   "outputs": [
    {
     "data": {
      "text/html": [
       "<html>\\(\\displaystyle x y^{2} \\mathrm{d} x\\wedge \\mathrm{d} y\\wedge \\mathrm{d} z\\)</html>"
      ],
      "text/latex": [
       "$\\displaystyle x y^{2} \\mathrm{d} x\\wedge \\mathrm{d} y\\wedge \\mathrm{d} z$"
      ],
      "text/plain": [
       "x*y^2 dx∧dy∧dz"
      ]
     },
     "execution_count": 4,
     "metadata": {},
     "output_type": "execute_result"
    }
   ],
   "source": [
    "%display latex\n",
    "M = Manifold(3, 'R^3')            # manifold M=R^3\n",
    "c_xyz.<x,y,z> = M.chart()         # Cartesian coordinates\n",
    "a=M.diff_form(2,name='a')         # 2-form a\n",
    "E=c_xyz.coframe()                 # coframe (dx,dy,dz)\n",
    "dx,dy,dz=E[:]                     # define dx,dy,dz\n",
    "a=x*y^2*z*dx.wedge(dy)            # define 2-form a\n",
    "da=a.exterior_derivative()        # exterior derivative of a\n",
    "da.disp()                         # show da"
   ]
  },
  {
   "cell_type": "markdown",
   "id": "f0bf7090",
   "metadata": {},
   "source": [
    "Computing $\\int_I da,\\ $ we use (20.13) and the iterated integral\n",
    "$\\int_0^1\\int_0^1\\int_0^1 xy^2dzdydx.$"
   ]
  },
  {
   "cell_type": "code",
   "execution_count": 5,
   "id": "21daa269",
   "metadata": {},
   "outputs": [
    {
     "data": {
      "text/html": [
       "<html>\\(\\displaystyle \\frac{1}{6}\\)</html>"
      ],
      "text/latex": [
       "$\\displaystyle \\frac{1}{6}$"
      ],
      "text/plain": [
       "1/6"
      ]
     },
     "execution_count": 5,
     "metadata": {},
     "output_type": "execute_result"
    }
   ],
   "source": [
    "integrate(integrate(integrate(x*y^2,(z,0,1)),(y,0,1)),(x,0,1))"
   ]
  },
  {
   "cell_type": "markdown",
   "id": "6d1f0e8f",
   "metadata": {},
   "source": [
    "<br>\n",
    "\n",
    "### Formulation  of Stokes theorem on singular $k$-cubes\n",
    "\n",
    "<br>\n",
    "\n",
    "Assume that $V$ is an open subset of $R^k$, let\n",
    "$\\omega$ be a smooth $(k-1)$-form on $V$ and $\\phi:I\\to V$ \n",
    "be singular $k$-cube.\n",
    "Recall that in (20.16) we defined the boundary integral of $\\omega$ over $\\partial \\phi$ as\n",
    "$\\ \\ \\int_{\\partial\\phi}\\omega=\n",
    "\\sum_{i=1}^k(-1)^{i-1}\\big[\\int_{\\phi^1_i}\\omega-\\int_{\\phi^0_i}\\omega\\big]$.\n",
    "\n",
    "\n",
    "The Stokes theorem on singular $k$-cubes reads as follows\n",
    "\n",
    "\\begin{equation}\n",
    "\\int_{\\phi} d\\omega=\n",
    "\\int_{\\partial\\phi}\\omega.\n",
    "\\tag{20.23}\n",
    "\\end{equation}"
   ]
  },
  {
   "cell_type": "markdown",
   "id": "59b5842c",
   "metadata": {},
   "source": [
    "<br>\n",
    "\n",
    "\n",
    "Before the proof we  check that for arbitrary singular $k$-cube $\\phi:I\\to V$ and $(k-1)$-form on $V$ the  following relation holds true\n",
    "\n",
    "\\begin{equation}\n",
    "\\int_{\\partial\\phi}\\omega=\\int _{\\partial I}\\phi^*\\omega.\n",
    "\\tag{20.24}\n",
    "\\end{equation}\n",
    "\n",
    "Let us compute both sides separately.\n",
    "\n",
    "$$\\int_{\\partial\\phi}\\omega=\\sum_{i=1}^k(-1)^{i-1}\\big(\\int_{\\phi^1_i}\\omega\n",
    "-\\int_{\\phi^0_i}\\omega\\big)\\\\\n",
    "=\n",
    "\\sum_{i=1}^k(-1)^{i-1}\\big(\\int_{[0,1]^{k-1}}(\\phi^1_i)^*\\omega\n",
    "-\\int_{[0,1]^{k-1}}(\\phi^0_i)^*\\omega\\big).\n",
    "$$\n",
    "\n",
    "From the properties of pullback we know, that $\\phi^1_i=\\phi\\circ I^1_i$ implies $(\\phi^1_i)^*=(I^1_i)^*\\circ\\phi^*$ and analogously $(\\phi^0_i)^*=(I^0_i)^*\\circ\\phi^*$.    Thus\n",
    "\n",
    "$$\\int_{\\partial\\phi}\\omega=\n",
    "\\sum_{i=1}^k(-1)^{i-1}\\big(\\int_{[0,1]^{k-1}}(I^1_i)^*\\circ\\phi^*\\omega\n",
    "-\\int_{[0,1]^{k-1}}(I^0_i)^*\\circ\\phi^*\\omega\\big).\n",
    "$$\n",
    "\n",
    "On the other hand from (20.15)\n",
    "\n",
    "$$\n",
    "\\int_{\\partial I}\\phi^*\\omega=\\sum_{i=1}^k (-1)^{i-1}\\big(\\int_{I^1_i}\\phi^*\\omega\n",
    "-\\int_{I^0_i}\\phi^*\\omega\\big)\\\\\n",
    "=\\sum_{i=1}^k (-1)^{i-1}\\big(\\int_{[0,1]^{k-1}}(I^1_i)^*\\circ\\phi^*\\omega\n",
    "-\\int_{[0,1]^{k-1}}(I^0_i)^*\\circ\\phi^*\\omega\\big),\n",
    "$$\n",
    "\n",
    "so both sides of (20.24) are equal.\n",
    "\n",
    "\n",
    "\n",
    "The formula (20.23) is a consequence of (20.22) and (20.24), since\n",
    "\n",
    "\n",
    "$$\\int_{\\phi} d\\omega=\\int_I\\phi^*d\\omega\n",
    "=\\int_Id(\\phi^*\\omega)=\\int_{\\partial I}\\phi^*\\omega=\\int_{\\partial\\phi}\\omega.\n",
    "$$\n"
   ]
  },
  {
   "cell_type": "markdown",
   "id": "bcc64485",
   "metadata": {},
   "source": [
    "<br>\n",
    "\n",
    "### Extending the integration domains\n",
    "\n",
    "<br>"
   ]
  },
  {
   "cell_type": "markdown",
   "id": "e7d47f5c",
   "metadata": {},
   "source": [
    "Assume that $f,g$ are smooth functions on $[a,b],$ $\\ f\\leq g\\ $and define  the set\n",
    "\n",
    "\\begin{equation}\n",
    "D =\n",
    "\\{(u, v) ∈ R^2 : a ≤ u ≤ b, f (u) ≤ v ≤ g(u)\\}.\n",
    "\\tag{20.25}\n",
    "\\end{equation} \n",
    "\n",
    " Consider the mapping\n",
    "\n",
    "$$\n",
    "ψ: [0,1]^2\\ni\n",
    "(s, t)  \\to \\big((1-s)a+sb,(1-t)f(1-s)a+sb)+tg((1-s)a+sb)\\big)\\in D\\subset R^2.\n",
    "$$\n",
    "\n",
    "One can prove that\n",
    "\n",
    "$ ψ : [0,1]^2 → D$ is one-to-one and $\\psi(I^2)=D$.\n",
    "\n",
    "\n",
    "\n",
    "If $\\phi:D\\to R^2$ is a smooth map, then $φ ◦ ψ : [0,1]^2 → \\phi(D)\\subset R^2$ is a singular 2-cube, so for 1-forms on some neighborhood of $\\phi(D)$  Stokes formula takes the form\n",
    "\n",
    "$$\\int_{\\phi\\circ\\psi}d\\omega=\n",
    "\\int_{\\partial(\\phi\\circ\\psi)}\\omega.$$\n",
    "\n",
    "If we define $\\ \\ \\int_{\\phi_D}d\\omega=\\int_{\\phi\\circ\\psi}d\\omega\\ \\ $\n",
    "and $\\ \\ \\int_{\\partial \\phi_D}\\omega=\\int_{\\partial(\\phi\\circ\\psi)}\\omega,\\ \\ $ then\n",
    "\n",
    "$$\\int_{\\phi_D}d\\omega=\\int_{\\phi\\circ\\psi}d\\omega=\n",
    "\\int_{\\partial(\\phi\\circ\\psi)}\\omega=\\int_{\\partial \\phi_D}\\omega,\n",
    "$$\n",
    "\n",
    "so we can use Stokes theorem for domains of type (20.25).\n",
    "\n",
    "\n",
    "Thus Stokes theorem can be applied to domains  whose parameterizations can be reparameterized into unit cubes.\n",
    "\n",
    "**Remark.** In practice, computing  integrals $\\int_{\\phi_D} \\omega$ for $\\omega$ of the form \n",
    "$\\omega=hdx^1\\wedge dx^2$ on $\\phi(D)$ we do not use reparametrizations but  the formula\n",
    "$$\\int_{\\phi_D}\\omega=\\int_a^b\\int_{f(u)}^{g(u)}h(\\phi(u,v))\\frac{\\partial(\\phi^1,\\phi^2)}{\\partial(u,v)}dudv.$$"
   ]
  },
  {
   "cell_type": "markdown",
   "id": "125f6370",
   "metadata": {},
   "source": [
    "One can prove that  Stokes theorem can be applied to anologous domains in higher dimensions, for example\n",
    "\n",
    "$$D =\n",
    "\\{(u_1,u_2,u_3 ) ∈ R^3\n",
    ": a_1 ≤ u_1 ≤ b_1, c(u_1)\\leq u_2\\leq d(u_1), f (u_1,u_2) ≤ u_3 ≤ g(u_1,u_2)\\},\n",
    "$$\n",
    "\n",
    "for some smooth functions $c,d,f,g$."
   ]
  },
  {
   "cell_type": "markdown",
   "id": "d4eadbbf",
   "metadata": {},
   "source": [
    "<br>\n",
    "\n",
    "**Example 20.4**\n",
    "\n",
    "Compute $\\ \\int_{S^2}xdy\\wedge dz+ydz\\wedge dx+zdx\\wedge dy,$\n",
    "where $S^2$ denotes the 2-dimensional unit sphere,  which can be considered as the (reparametrized version of) singular 2-cube $\\phi:[0,\\pi]\\times[0,2\\pi]\\to R^3$\n",
    "\n",
    "$$(\\theta,\\phi)\\to (\\sin(\\theta)\\cos(\\phi), \\sin(\\theta)\\sin(\\phi),\\cos(\\theta)).$$\n",
    "\n",
    "<br>\n",
    "\n",
    "We define the 2-form $a$ first."
   ]
  },
  {
   "cell_type": "code",
   "execution_count": 6,
   "id": "10f0857e",
   "metadata": {},
   "outputs": [
    {
     "data": {
      "text/html": [
       "<html>\\(\\displaystyle z \\mathrm{d} x\\wedge \\mathrm{d} y -y \\mathrm{d} x\\wedge \\mathrm{d} z + x \\mathrm{d} y\\wedge \\mathrm{d} z\\)</html>"
      ],
      "text/latex": [
       "$\\displaystyle z \\mathrm{d} x\\wedge \\mathrm{d} y -y \\mathrm{d} x\\wedge \\mathrm{d} z + x \\mathrm{d} y\\wedge \\mathrm{d} z$"
      ],
      "text/plain": [
       "z dx∧dy - y dx∧dz + x dy∧dz"
      ]
     },
     "execution_count": 6,
     "metadata": {},
     "output_type": "execute_result"
    }
   ],
   "source": [
    "%display latex\n",
    "M = Manifold(3, 'R^3')            # manifold M=R^3\n",
    "c_xyz.<x,y,z> = M.chart()         # Cartesian coordinates\n",
    "N = Manifold(2, 'N')              # manifold N=S^2\n",
    "c_sph.<theta,phi>=N.chart()       # spherical coordinates\n",
    "# embedding S^2->R^3 defines the singular 2-cube phi\n",
    "Phi = N.diff_map(M, (sin(theta)*cos(phi), sin(theta)*sin(phi),cos(theta)),\n",
    "                 name='ph',latex_name=r'\\Phi')\n",
    "a=M.diff_form(2,name='a')         # 2-form on N  a\n",
    "E=c_xyz.coframe()                 # coframe (dx,dy,dz)\n",
    "dx,dy,dz=E[:]                     # define dx,dy,dz\n",
    "a=x*dy.wedge(dz)+y*dz.wedge(dx)+z*dx.wedge(dy) # define a\n",
    "a.disp()                          # show a"
   ]
  },
  {
   "cell_type": "markdown",
   "id": "dc73ed0e",
   "metadata": {},
   "source": [
    "To use (reparametrized version of) (20.11) we need the pulback $\\Phi^*a$."
   ]
  },
  {
   "cell_type": "code",
   "execution_count": 7,
   "id": "7ccabef3",
   "metadata": {},
   "outputs": [
    {
     "data": {
      "text/html": [
       "<html>\\(\\displaystyle \\sin\\left(\\theta\\right) \\mathrm{d} \\theta\\wedge \\mathrm{d} \\phi\\)</html>"
      ],
      "text/latex": [
       "$\\displaystyle \\sin\\left(\\theta\\right) \\mathrm{d} \\theta\\wedge \\mathrm{d} \\phi$"
      ],
      "text/plain": [
       "sin(theta) dtheta∧dphi"
      ]
     },
     "execution_count": 7,
     "metadata": {},
     "output_type": "execute_result"
    }
   ],
   "source": [
    "Phi.pullback(a).disp()"
   ]
  },
  {
   "cell_type": "markdown",
   "id": "2b542caf",
   "metadata": {},
   "source": [
    "To obtain the final result we use the iterated integral\n",
    "$\\int_0^{2\\pi}\\int_0^\\pi \\sin\\theta\\; d\\theta d\\phi$."
   ]
  },
  {
   "cell_type": "code",
   "execution_count": 8,
   "id": "b141cccc",
   "metadata": {},
   "outputs": [
    {
     "data": {
      "text/html": [
       "<html>\\(\\displaystyle 4 \\, \\pi\\)</html>"
      ],
      "text/latex": [
       "$\\displaystyle 4 \\, \\pi$"
      ],
      "text/plain": [
       "4*pi"
      ]
     },
     "execution_count": 8,
     "metadata": {},
     "output_type": "execute_result"
    }
   ],
   "source": [
    "integrate(integrate(sin(theta), (theta,0,pi)), (phi,0,2*pi))"
   ]
  },
  {
   "cell_type": "markdown",
   "id": "65a9bfbb",
   "metadata": {},
   "source": [
    "<br>\n",
    "\n",
    "**Example 20.5**\n",
    "\n",
    "Compute $\\ \\int_S \\frac{1}{3}zdx\\wedge dy\\ $ where $S$ is the part of the elliptic cone \n",
    "$\\ \\frac{x^2}{6}+\\frac{y^2}{9}= z^2,\\ $  bounded by the planes $z=-1,z=1$, which may be considered as (reparametrized version of) the singular 2-cube $\\psi:[-1,1]\\times[0,2\\pi]\\to R^3$\n",
    "\n",
    "$$(Z,\\phi)\\to (2Z\\cos(\\phi), 3Z\\sin(\\phi),Z).\n",
    "$$\n",
    "\n",
    "<br>\n",
    "\n",
    "Let us define 2-form $a$ and its pullback under $\\psi$."
   ]
  },
  {
   "cell_type": "code",
   "execution_count": 9,
   "id": "6f5995c1",
   "metadata": {},
   "outputs": [
    {
     "data": {
      "text/html": [
       "<html>\\(\\displaystyle -2 \\, Z^{2} \\mathrm{d} \\phi\\wedge \\mathrm{d} Z\\)</html>"
      ],
      "text/latex": [
       "$\\displaystyle -2 \\, Z^{2} \\mathrm{d} \\phi\\wedge \\mathrm{d} Z$"
      ],
      "text/plain": [
       "-2*Z^2 dphi∧dZ"
      ]
     },
     "execution_count": 9,
     "metadata": {},
     "output_type": "execute_result"
    }
   ],
   "source": [
    "%display latex\n",
    "M = Manifold(3, 'R^3')            # manifold M=R^3\n",
    "c_xyz.<x,y,z> = M.chart()         # Cartesian coordinates\n",
    "N = Manifold(2, 'N')              # manifold N=S^2\n",
    "c_sph.<phi,Z>=N.chart()       # spher. coordinates\n",
    "E=c_xyz.coframe()                 # coframe (dx,dy,dz)\n",
    "dx,dy,dz=E[:]                     # define dx,dy,dz\n",
    "a=1/3*z*dx.wedge(dy)              # 2-form a\n",
    "# psi defines the singular 2-cube\n",
    "psi = N.diff_map(M, (2*Z*cos(phi), 3*Z*sin(phi),Z),\n",
    "                 name='psi',latex_name=r'\\psi')\n",
    "psi.pullback(a).disp()            # pullback psi^*a"
   ]
  },
  {
   "cell_type": "markdown",
   "id": "064017c3",
   "metadata": {},
   "source": [
    "We use (reparametrized version of) (20.11) and replace the double integral by the iterated integral $\\int_0^{2\\pi}\\int_{-1}^1(-2Z^2)\\;dZd\\phi.$"
   ]
  },
  {
   "cell_type": "code",
   "execution_count": 10,
   "id": "f7db10c5",
   "metadata": {},
   "outputs": [
    {
     "data": {
      "text/html": [
       "<html>\\(\\displaystyle -\\frac{8}{3} \\, \\pi\\)</html>"
      ],
      "text/latex": [
       "$\\displaystyle -\\frac{8}{3} \\, \\pi$"
      ],
      "text/plain": [
       "-8/3*pi"
      ]
     },
     "execution_count": 10,
     "metadata": {},
     "output_type": "execute_result"
    }
   ],
   "source": [
    "integrate(integrate(-2*Z^2,(Z,-1,1)),(phi,0,2*pi))"
   ]
  },
  {
   "cell_type": "markdown",
   "id": "6a6e5cec",
   "metadata": {},
   "source": [
    "<br>\n",
    "\n",
    "**Example 20.6**\n",
    "\n",
    "Compute the integral $\\int_S xdy\\wedge dz +zdz\\wedge dx$, where $S$ is the sphere\n",
    "$x^2+y^2+z^2=9.$\n",
    "\n",
    "<br>\n",
    "\n",
    "First we define the 2-form $a$,"
   ]
  },
  {
   "cell_type": "code",
   "execution_count": 11,
   "id": "167b60de",
   "metadata": {},
   "outputs": [
    {
     "data": {
      "text/html": [
       "<html>\\(\\displaystyle -z \\mathrm{d} x\\wedge \\mathrm{d} z + x \\mathrm{d} y\\wedge \\mathrm{d} z\\)</html>"
      ],
      "text/latex": [
       "$\\displaystyle -z \\mathrm{d} x\\wedge \\mathrm{d} z + x \\mathrm{d} y\\wedge \\mathrm{d} z$"
      ],
      "text/plain": [
       "-z dx∧dz + x dy∧dz"
      ]
     },
     "execution_count": 11,
     "metadata": {},
     "output_type": "execute_result"
    }
   ],
   "source": [
    "E.<x1,x2,x3>=EuclideanSpace(3,\"E\")           # Euclidean space E^3\n",
    "cart=E.cartesian_coordinates()               # Cartesian coordinates\n",
    "spher.<r,th,ph> = E.spherical_coordinates()  # spherical coordinates\n",
    "Phi=E.coord_change(spher, cart)     # transition spher -> cart \n",
    "a=E.diff_form(2,name='a')           # 2-form a\n",
    "cf=c_xyz.coframe()                  # coframe (dx,dy,dz)\n",
    "dx,dy,dz=cf[:]                      # define dx,dy,dz\n",
    "a=x*dy.wedge(dz)+z*dz.wedge(dx)     # define 2-form a\n",
    "a.disp()                            # show a"
   ]
  },
  {
   "cell_type": "markdown",
   "id": "124ab73e",
   "metadata": {},
   "source": [
    "and its exterior differential:"
   ]
  },
  {
   "cell_type": "code",
   "execution_count": 12,
   "id": "a5c16788",
   "metadata": {},
   "outputs": [
    {
     "data": {
      "text/html": [
       "<html>\\(\\displaystyle \\mathrm{d} x\\wedge \\mathrm{d} y\\wedge \\mathrm{d} z\\)</html>"
      ],
      "text/latex": [
       "$\\displaystyle \\mathrm{d} x\\wedge \\mathrm{d} y\\wedge \\mathrm{d} z$"
      ],
      "text/plain": [
       "dx∧dy∧dz"
      ]
     },
     "execution_count": 12,
     "metadata": {},
     "output_type": "execute_result"
    }
   ],
   "source": [
    "da=a.exterior_derivative()\n",
    "da.disp()"
   ]
  },
  {
   "cell_type": "markdown",
   "id": "919e9a62",
   "metadata": {},
   "source": [
    "Using spherical coordinates $(\\theta,\\phi)$, the sphere can be considered as reparametrized singular $2$-cube\n",
    "$\\ \\ [0,\\pi]\\times[0,2\\pi]\\to R^3$."
   ]
  },
  {
   "cell_type": "code",
   "execution_count": 13,
   "id": "756fd54f",
   "metadata": {},
   "outputs": [
    {
     "data": {
      "text/html": [
       "<html>\\(\\displaystyle \\left\\{\\begin{array}{lcl} x_{1} & = & r \\cos\\left({\\phi}\\right) \\sin\\left({\\theta}\\right) \\\\ x_{2} & = & r \\sin\\left({\\phi}\\right) \\sin\\left({\\theta}\\right) \\\\ x_{3} & = & r \\cos\\left({\\theta}\\right) \\end{array}\\right.\\)</html>"
      ],
      "text/latex": [
       "$\\displaystyle \\left\\{\\begin{array}{lcl} x_{1} & = & r \\cos\\left({\\phi}\\right) \\sin\\left({\\theta}\\right) \\\\ x_{2} & = & r \\sin\\left({\\phi}\\right) \\sin\\left({\\theta}\\right) \\\\ x_{3} & = & r \\cos\\left({\\theta}\\right) \\end{array}\\right.$"
      ],
      "text/plain": [
       "x1 = r*cos(ph)*sin(th)\n",
       "x2 = r*sin(ph)*sin(th)\n",
       "x3 = r*cos(th)"
      ]
     },
     "execution_count": 13,
     "metadata": {},
     "output_type": "execute_result"
    }
   ],
   "source": [
    "Phi.disp()"
   ]
  },
  {
   "cell_type": "code",
   "execution_count": 14,
   "id": "e22df778",
   "metadata": {},
   "outputs": [
    {
     "data": {
      "text/html": [
       "<html>\\(\\displaystyle r^{2} \\sin\\left({\\theta}\\right)\\)</html>"
      ],
      "text/latex": [
       "$\\displaystyle r^{2} \\sin\\left({\\theta}\\right)$"
      ],
      "text/plain": [
       "r^2*sin(th)"
      ]
     },
     "execution_count": 14,
     "metadata": {},
     "output_type": "execute_result"
    }
   ],
   "source": [
    "jac=Phi.jacobian_det();jac"
   ]
  },
  {
   "cell_type": "markdown",
   "id": "7b765061",
   "metadata": {},
   "source": [
    "So if we apply (reparametrized version of) (20.12), and the relation $\\int_0^{2\\pi}d\\phi=2\\pi$, we obtain the following form of the iterated integral: \n",
    "$2\\pi(\\int_0^3r^2\\;dr)\n",
    "\\int_0^\\pi\\sin(\\theta)\\;d\\theta.$"
   ]
  },
  {
   "cell_type": "code",
   "execution_count": 15,
   "id": "12aa740c",
   "metadata": {},
   "outputs": [
    {
     "data": {
      "text/html": [
       "<html>\\(\\displaystyle 36 \\, \\pi\\)</html>"
      ],
      "text/latex": [
       "$\\displaystyle 36 \\, \\pi$"
      ],
      "text/plain": [
       "36*pi"
      ]
     },
     "execution_count": 15,
     "metadata": {},
     "output_type": "execute_result"
    }
   ],
   "source": [
    "2*pi*integrate(r^2,(r,0,3))*integrate(sin(th),(th,0,pi))"
   ]
  },
  {
   "cell_type": "markdown",
   "id": "20511954",
   "metadata": {},
   "source": [
    "<br>\n",
    "\n",
    "**Example 20.7**\n",
    "\n",
    "Using Stokes theorem, compute the integral $\\int_Sxdy\\wedge dz+ydz\\wedge dx + zdx\\wedge dy$ over the unit sphere\n",
    "$x^2+y^2+z^2=1$. (In Example 20.4 we computed the integral using (20.11)).\n",
    "\n",
    "<br>\n",
    "\n",
    "As in the previous example we start from defining fhe 2-form $a$ and its exterior derivative."
   ]
  },
  {
   "cell_type": "code",
   "execution_count": 16,
   "id": "3569da31",
   "metadata": {},
   "outputs": [
    {
     "data": {
      "text/html": [
       "<html>\\(\\displaystyle 3 \\mathrm{d} x\\wedge \\mathrm{d} y\\wedge \\mathrm{d} z\\)</html>"
      ],
      "text/latex": [
       "$\\displaystyle 3 \\mathrm{d} x\\wedge \\mathrm{d} y\\wedge \\mathrm{d} z$"
      ],
      "text/plain": [
       "3 dx∧dy∧dz"
      ]
     },
     "execution_count": 16,
     "metadata": {},
     "output_type": "execute_result"
    }
   ],
   "source": [
    "%display latex\n",
    "M = Manifold(3, 'R^3')            # manifold M=R^3\n",
    "c_xyz.<x,y,z> = M.chart()         # Cartesian coordinates\n",
    "N = Manifold(2, 'N')              # manifold N=S^2\n",
    "c_sph.<theta,phi>=N.chart()       # spherical coordinates\n",
    "                                  # embedding S^2->R^3\n",
    "psi = N.diff_map(M, (sin(theta)*cos(phi), sin(theta)*sin(phi),cos(theta)),\n",
    "                 name='psi',latex_name=r'\\psi')\n",
    "a=M.diff_form(2,name='a')\n",
    "E=c_xyz.coframe()                 # coframe (dx,dy,dz)\n",
    "dx,dy,dz=E[:]                     # define dx,dy,dz\n",
    "a=x*dy.wedge(dz)+y*dz.wedge(dx)+z*dx.wedge(dy)  # a\n",
    "da=a.exterior_derivative()        # da\n",
    "da.disp()"
   ]
  },
  {
   "cell_type": "markdown",
   "id": "c1a3d2d1",
   "metadata": {},
   "source": [
    "We can use the value of Jacobian from previous example,"
   ]
  },
  {
   "cell_type": "code",
   "execution_count": 17,
   "id": "f123bbba",
   "metadata": {},
   "outputs": [],
   "source": [
    "# from previous example\n",
    "jac=r^2*sin(theta)"
   ]
  },
  {
   "cell_type": "markdown",
   "id": "7f2ca803",
   "metadata": {},
   "source": [
    "and obtain the following  iterated integral: \n",
    "$\\int_0^1\\int_0^\\pi\\int^{2\\pi}3\\text{jac}\\;d\\phi d\\theta dr.$"
   ]
  },
  {
   "cell_type": "code",
   "execution_count": 18,
   "id": "ff676509",
   "metadata": {},
   "outputs": [
    {
     "data": {
      "text/html": [
       "<html>\\(\\displaystyle 4 \\, \\pi\\)</html>"
      ],
      "text/latex": [
       "$\\displaystyle 4 \\, \\pi$"
      ],
      "text/plain": [
       "4*pi"
      ]
     },
     "execution_count": 18,
     "metadata": {},
     "output_type": "execute_result"
    }
   ],
   "source": [
    "integrate(integrate(integrate(3*jac,(phi,0,2*pi)),(theta,0,pi)),(r,0,1))"
   ]
  },
  {
   "cell_type": "markdown",
   "id": "43b0b321",
   "metadata": {},
   "source": [
    "<br>\n",
    "\n",
    "**Example 20.8**\n",
    "\n",
    "Compute the integral $ \\int_{\\partial S} xdx+xdy+ydz$, where $\\partial S$ is the boundary of hemisphere $x^2+y^2+z^2=r^2,\\quad z\\geq 0$.\n",
    "\n",
    "<br>\n",
    "\n",
    "Define the 1-form $a$ and 2-form $da$."
   ]
  },
  {
   "cell_type": "code",
   "execution_count": 19,
   "id": "168acf28",
   "metadata": {},
   "outputs": [
    {
     "data": {
      "text/html": [
       "<html>\\(\\displaystyle \\mathrm{d} x\\wedge \\mathrm{d} y+\\mathrm{d} y\\wedge \\mathrm{d} z\\)</html>"
      ],
      "text/latex": [
       "$\\displaystyle \\mathrm{d} x\\wedge \\mathrm{d} y+\\mathrm{d} y\\wedge \\mathrm{d} z$"
      ],
      "text/plain": [
       "dx∧dy + dy∧dz"
      ]
     },
     "execution_count": 19,
     "metadata": {},
     "output_type": "execute_result"
    }
   ],
   "source": [
    "%display latex\n",
    "M = Manifold(3, 'R^3')            # manifold M=R^3\n",
    "c_xyz.<x,y,z> = M.chart()         # Cartesian coordinates\n",
    "a=M.diff_form(2,name='a')\n",
    "E=c_xyz.coframe()                 # coframe (dx,dy,dz)\n",
    "dx,dy,dz=E[:]                     # define dx,dy,dz\n",
    "a=x*dx+x*dy+y*dz                  # a\n",
    "da=a.exterior_derivative()        # da\n",
    "da.disp()"
   ]
  },
  {
   "cell_type": "markdown",
   "id": "2f131683",
   "metadata": {},
   "source": [
    "Let us compute both sides of Stokes formula. Note that using spherical coordinates we can define the hemisphere as the (reparametrized) singular 2-cube\n",
    "\n",
    "$$\\Phi:[0,\\frac{\\pi}{2}]\\times[0,2\\pi]\\ni(\\theta,\\phi)\\to \n",
    "(r\\sin(\\theta)\\cos(\\phi), r\\sin(\\theta)\\sin(\\phi),r\\cos(\\theta)).\n",
    "$$\n",
    "\n",
    "The corresponding parts of $\\partial\\Phi$ can be defined as follows:\n",
    "\n",
    "$\\Phi^0_1$ corresponds to $\\ \\ \\theta=0,\\phi\\in[0,2\\pi],\\ \\ $ so\n",
    "$\\ \\ \\Phi^0_1: \\phi\\to (0,0,1)$,\n",
    "\n",
    "$\\Phi^1_1$ corresponds to  $\\ \\ \\theta=\\frac{\\pi}{2},\\phi\\in[0,2\\pi], \\ \\ $ so $\\Phi^1_1: \\phi\\to (r\\cos\\phi,r\\sin\\phi,0)$,\n",
    "\n",
    "$\\Phi^0_2$ corresponds to  $\\ \\ \\theta\\in[0,\\frac{\\pi}{2}],\\phi=0, \\ \\ $ so $\\Phi^0_2: \\theta\\to (r\\sin\\theta,0,r\\cos\\theta)$,\n",
    "\n",
    "$\\Phi^1_2$ corresponds to  $\\ \\ \\theta\\in[0,\\frac{\\pi}{2}],\\phi=2/pi, \\ \\ $ so $\\Phi^1_2: \\theta\\to (r\\sin\\theta,0,r\\cos\\theta)$.\n",
    "\n",
    "Since by (20.16) $\\int_{\\partial\\Phi}=\\int_{\\Phi^1_1}-\\int_{\\Phi^0_1} -\\int_{\\Phi^1_2}+\\int_{\\Phi^0_2}$, the  integral $\\int_{\\phi^0_1} a$ is zero and last two integrals cancell each other, the boundary integral reduces to $\\int_{\\Phi^1_1}a$. \n"
   ]
  },
  {
   "cell_type": "markdown",
   "id": "1a53c2a7",
   "metadata": {},
   "source": [
    "Define the pulback of $a$\n",
    "under $\\psi:t\\to (r\\cos(t),\\sin(t),0)$,"
   ]
  },
  {
   "cell_type": "code",
   "execution_count": 20,
   "id": "9a1d13e7",
   "metadata": {},
   "outputs": [
    {
     "data": {
      "text/html": [
       "<html>\\(\\displaystyle \\left( r^{2} \\cos\\left(t\\right)^{2} - r^{2} \\cos\\left(t\\right) \\sin\\left(t\\right) \\right) \\mathrm{d} t\\)</html>"
      ],
      "text/latex": [
       "$\\displaystyle \\left( r^{2} \\cos\\left(t\\right)^{2} - r^{2} \\cos\\left(t\\right) \\sin\\left(t\\right) \\right) \\mathrm{d} t$"
      ],
      "text/plain": [
       "(r^2*cos(t)^2 - r^2*cos(t)*sin(t)) dt"
      ]
     },
     "execution_count": 20,
     "metadata": {},
     "output_type": "execute_result"
    }
   ],
   "source": [
    "N = Manifold(1, 'N')           # 1-dim manifold -curve\n",
    "c.<t>=N.chart()                # polar coordinate on N\n",
    "r=var('r')                               \n",
    "                               # embedding N->R^3:\n",
    "psi = N.diff_map(M, (r*cos(t), r*sin(t),0),\n",
    "                 name='psi',latex_name=r'\\psi')\n",
    "psi.pullback(a).disp()         # pullback of a"
   ]
  },
  {
   "cell_type": "markdown",
   "id": "ed4779e3",
   "metadata": {},
   "source": [
    "and use (reparametrized version of) (20.11), to obtain the boundary integral:\n",
    "$r^2\\int_0^{2\\pi}(\\cos^2 t-\\cos t\\sin t)\\;dt$."
   ]
  },
  {
   "cell_type": "code",
   "execution_count": 21,
   "id": "3a160dea",
   "metadata": {},
   "outputs": [
    {
     "data": {
      "text/html": [
       "<html>\\(\\displaystyle \\pi r^{2}\\)</html>"
      ],
      "text/latex": [
       "$\\displaystyle \\pi r^{2}$"
      ],
      "text/plain": [
       "pi*r^2"
      ]
     },
     "execution_count": 21,
     "metadata": {},
     "output_type": "execute_result"
    }
   ],
   "source": [
    "r^2*integrate(cos(t)^2-cos(t)*sin(t),(t,0,2*pi))"
   ]
  },
  {
   "cell_type": "markdown",
   "id": "fdc6e0e0",
   "metadata": {},
   "source": [
    "Now we use the map \n",
    "$\\Phi:(\\theta,\\phi)\\to \n",
    "(r\\sin(\\theta)\\cos(\\phi), r\\sin(\\theta)\\sin(\\phi),r\\cos(\\theta))$,\n"
   ]
  },
  {
   "cell_type": "code",
   "execution_count": 22,
   "id": "7843b182",
   "metadata": {},
   "outputs": [],
   "source": [
    "r=var('r')\n",
    "N = Manifold(2, 'N')              # manifold N=S^2\n",
    "c_sph.<theta,phi>=N.chart()       # spherical coordinates\n",
    "                                  # embedding S^2->R^3\n",
    "Phi = N.diff_map(M, (r*sin(theta)*cos(phi), r*sin(theta)*sin(phi),r*cos(theta)),\n",
    "                 name='psi',latex_name=r'\\psi')"
   ]
  },
  {
   "cell_type": "markdown",
   "id": "842477d8",
   "metadata": {},
   "source": [
    "and the pullback $\\Phi^*da$."
   ]
  },
  {
   "cell_type": "code",
   "execution_count": 23,
   "id": "c199d2cf",
   "metadata": {},
   "outputs": [
    {
     "data": {
      "text/html": [
       "<html>\\(\\displaystyle \\left( r^{2} \\cos\\left(\\phi\\right) \\sin\\left(\\theta\\right)^{2} + r^{2} \\cos\\left(\\theta\\right) \\sin\\left(\\theta\\right) \\right) \\mathrm{d} \\theta\\wedge \\mathrm{d} \\phi\\)</html>"
      ],
      "text/latex": [
       "$\\displaystyle \\left( r^{2} \\cos\\left(\\phi\\right) \\sin\\left(\\theta\\right)^{2} + r^{2} \\cos\\left(\\theta\\right) \\sin\\left(\\theta\\right) \\right) \\mathrm{d} \\theta\\wedge \\mathrm{d} \\phi$"
      ],
      "text/plain": [
       "(r^2*cos(phi)*sin(theta)^2 + r^2*cos(theta)*sin(theta)) dtheta∧dphi"
      ]
     },
     "execution_count": 23,
     "metadata": {},
     "output_type": "execute_result"
    }
   ],
   "source": [
    "Phi.pullback(da).disp()"
   ]
  },
  {
   "cell_type": "markdown",
   "id": "2b5ba53f",
   "metadata": {},
   "source": [
    "We can apply (reparametrized version of) (20.11) to obtain the integral of $da$ over the hemisphere:\n",
    "$r^2\\int_0^{2\\pi}\\int_0^{\\pi/2}(\\cos\\phi\\sin^2\\phi+\\cos\\theta\\sin\\theta)\\; d\\theta d\\phi.$"
   ]
  },
  {
   "cell_type": "code",
   "execution_count": 24,
   "id": "57516de3",
   "metadata": {},
   "outputs": [
    {
     "data": {
      "text/html": [
       "<html>\\(\\displaystyle \\pi r^{2}\\)</html>"
      ],
      "text/latex": [
       "$\\displaystyle \\pi r^{2}$"
      ],
      "text/plain": [
       "pi*r^2"
      ]
     },
     "execution_count": 24,
     "metadata": {},
     "output_type": "execute_result"
    }
   ],
   "source": [
    "r^2*integrate(integrate(cos(phi)*(sin(theta))^2+cos(theta)*sin(theta),\n",
    "                        (theta,0,pi/2)),(phi,0,2*pi))"
   ]
  },
  {
   "cell_type": "markdown",
   "id": "814ebf23",
   "metadata": {},
   "source": [
    "<br>\n",
    "\n",
    "**Example 20.9**\n",
    "\n",
    "Compute the integral $\\int_S x^2dy\\wedge dz+\\frac{1}{2}y^2dz\\wedge dx+dx\\wedge dy$ over the \n",
    "tetrahedron bounded by the coordinate planes and the plane $x+y+z=1$.\n",
    "\n",
    "<br>\n",
    "\n",
    "As usual we start from defining 2-form $a$ and 3-form $da$."
   ]
  },
  {
   "cell_type": "code",
   "execution_count": 25,
   "id": "4a36b6c5",
   "metadata": {},
   "outputs": [
    {
     "data": {
      "text/html": [
       "<html>\\(\\displaystyle \\left( 2 \\, x + y \\right) \\mathrm{d} x\\wedge \\mathrm{d} y\\wedge \\mathrm{d} z\\)</html>"
      ],
      "text/latex": [
       "$\\displaystyle \\left( 2 \\, x + y \\right) \\mathrm{d} x\\wedge \\mathrm{d} y\\wedge \\mathrm{d} z$"
      ],
      "text/plain": [
       "(2*x + y) dx∧dy∧dz"
      ]
     },
     "execution_count": 25,
     "metadata": {},
     "output_type": "execute_result"
    }
   ],
   "source": [
    "%display latex\n",
    "M = Manifold(3, 'R^3')            # manifold M=R^3\n",
    "c_xyz.<x,y,z> = M.chart()         # Cartesian coordinates\n",
    "a=M.diff_form(2,name='a')\n",
    "E=c_xyz.coframe()                 # coframe (dx,dy,dz)\n",
    "dx,dy,dz=E[:]                     # define dx,dy,dz\n",
    "a=x^2*dy.wedge(dz)+1/2*y^2*dz.wedge(dx)+dx.wedge(dy) #a\n",
    "da=a.exterior_derivative()        # da\n",
    "da.disp()"
   ]
  },
  {
   "cell_type": "markdown",
   "id": "df555465",
   "metadata": {},
   "source": [
    "Since the tetrahedron can be described by the inequalities\n",
    "\n",
    "$$0\\leq x\\leq 1,\\quad 0\\leq y\\leq 1-x,\\quad 0\\leq z\\leq 1-x-y,$$\n",
    "\n",
    "which is a  three-dimensional version of (20.25), by Stokes theorem, the boundary integral is equal to \n",
    "\n",
    "$$\\int_0^1\\Big[\\int_0^{1-x}\\Big[\\int_0^{1-x-y} (2x+y)dz\\Big] dy\\Big] dx.$$"
   ]
  },
  {
   "cell_type": "code",
   "execution_count": 26,
   "id": "6e709ff8",
   "metadata": {},
   "outputs": [
    {
     "data": {
      "text/html": [
       "<html>\\(\\displaystyle \\frac{1}{8}\\)</html>"
      ],
      "text/latex": [
       "$\\displaystyle \\frac{1}{8}$"
      ],
      "text/plain": [
       "1/8"
      ]
     },
     "execution_count": 26,
     "metadata": {},
     "output_type": "execute_result"
    }
   ],
   "source": [
    "integrate(integrate(integrate(2*x+y,(z,0,1-x-y)),(y,0,1-x)),(x,0,1))"
   ]
  },
  {
   "cell_type": "markdown",
   "id": "3793efbc",
   "metadata": {},
   "source": [
    "<br>\n",
    "\n",
    "**Example 20.10**\n",
    "\n",
    "Compute the integral $\\int_S (x+y)dx+(2x-z)dy+(y+3z)dz,$ where $S$ is the boundary of the triangle with vertices $(3,0,0), \\ (0,3,0), \\ (0,0,3)$.\n",
    "\n",
    "<br>\n",
    "\n",
    "We start from defining 1-form $a$ and 2-form $da$."
   ]
  },
  {
   "cell_type": "code",
   "execution_count": 27,
   "id": "4817dda6",
   "metadata": {},
   "outputs": [
    {
     "data": {
      "text/html": [
       "<html>\\(\\displaystyle \\mathrm{d} x\\wedge \\mathrm{d} y + 2 \\mathrm{d} y\\wedge \\mathrm{d} z\\)</html>"
      ],
      "text/latex": [
       "$\\displaystyle \\mathrm{d} x\\wedge \\mathrm{d} y + 2 \\mathrm{d} y\\wedge \\mathrm{d} z$"
      ],
      "text/plain": [
       "dx∧dy + 2 dy∧dz"
      ]
     },
     "execution_count": 27,
     "metadata": {},
     "output_type": "execute_result"
    }
   ],
   "source": [
    "%display latex\n",
    "M = Manifold(3, 'R^3')            # manifold M=R^3\n",
    "c_xyz.<x,y,z> = M.chart()         # Cartesian coordinates\n",
    "a=M.diff_form(2,name='a')\n",
    "E=c_xyz.coframe()                 # coframe (dx,dy,dz)\n",
    "dx,dy,dz=E[:]                     # define dx,dy,dz\n",
    "a=(x+y)*dx+(2*x-z)*dy+(y+3*z)*dz  # a\n",
    "da=a.exterior_derivative()        # da\n",
    "da.disp()"
   ]
  },
  {
   "cell_type": "markdown",
   "id": "8557ad81",
   "metadata": {},
   "source": [
    "First we compute the integral of $da$ over the triangle using the pullback of $da$ under\n",
    "$\\Phi:(X,Y)\\to(X,Y,3-X-Y)$."
   ]
  },
  {
   "cell_type": "code",
   "execution_count": 28,
   "id": "b4976c12",
   "metadata": {},
   "outputs": [
    {
     "data": {
      "text/html": [
       "<html>\\(\\displaystyle 3 \\mathrm{d} X\\wedge \\mathrm{d} Y\\)</html>"
      ],
      "text/latex": [
       "$\\displaystyle 3 \\mathrm{d} X\\wedge \\mathrm{d} Y$"
      ],
      "text/plain": [
       "3 dX∧dY"
      ]
     },
     "execution_count": 28,
     "metadata": {},
     "output_type": "execute_result"
    }
   ],
   "source": [
    "N = Manifold(2, 'N')              # triangle S plane\n",
    "c.<X,Y>=N.chart()                 # coord on N\n",
    "                                  # N-> R^3\n",
    "Phi = N.diff_map(M, (X, Y,3-X-Y),\n",
    "                 name='Phi',latex_name=r'\\Phi')\n",
    "Phi.pullback(da).disp()           #pullback of da"
   ]
  },
  {
   "cell_type": "markdown",
   "id": "1e13da93",
   "metadata": {},
   "source": [
    "The iterated integral $\\ \\ \\int_0^3[\\int_0^{3-x}3dy]dx$ is equal to$\\frac{27}{2}$."
   ]
  },
  {
   "cell_type": "code",
   "execution_count": 29,
   "id": "2ea7cd23",
   "metadata": {},
   "outputs": [
    {
     "data": {
      "text/html": [
       "<html>\\(\\displaystyle \\frac{27}{2}\\)</html>"
      ],
      "text/latex": [
       "$\\displaystyle \\frac{27}{2}$"
      ],
      "text/plain": [
       "27/2"
      ]
     },
     "execution_count": 29,
     "metadata": {},
     "output_type": "execute_result"
    }
   ],
   "source": [
    "integrate(integrate(3,(y,0,3-x)),(x,0,3))"
   ]
  },
  {
   "cell_type": "markdown",
   "id": "03e1dc57",
   "metadata": {},
   "source": [
    "The boundary of the triangle can be considered as the 1-chain $c=\\psi_1+\\psi_2+\\psi_3$, where $\\psi_1=-\\Phi^1_2,\\ \\ \\psi_2=-\\Phi^0_1,\\ \\ \\psi_3=\\Phi^0_2$ are (reparametrized) singular 1-cubes (parametric curves).\n",
    "Note that the counterpart of $\\Phi^1_1$ reduces to a point.\n",
    "\n",
    "Let us define the space for the parameter $t$,"
   ]
  },
  {
   "cell_type": "code",
   "execution_count": 30,
   "id": "b94cf8d5",
   "metadata": {},
   "outputs": [],
   "source": [
    "N = Manifold(1, 'N')  # 1-dim manifold N \"t axis\" \n",
    "c.<t>=N.chart()       # coordinate on N"
   ]
  },
  {
   "cell_type": "markdown",
   "id": "320d15f0",
   "metadata": {},
   "source": [
    "next the singular 1-cubes $\\psi_1,\\psi_2,\\psi_3$ and the pullbacks  $\\psi_1^*a,\\psi_2^*a,\\psi_3^*a$:"
   ]
  },
  {
   "cell_type": "code",
   "execution_count": 31,
   "id": "9d6e15ec",
   "metadata": {},
   "outputs": [
    {
     "data": {
      "text/html": [
       "<html>\\(\\displaystyle \\left( -2 \\, t + 3 \\right) \\mathrm{d} t\\)</html>"
      ],
      "text/latex": [
       "$\\displaystyle \\left( -2 \\, t + 3 \\right) \\mathrm{d} t$"
      ],
      "text/plain": [
       "(-2*t + 3) dt"
      ]
     },
     "execution_count": 31,
     "metadata": {},
     "output_type": "execute_result"
    }
   ],
   "source": [
    "psi1 = N.diff_map(M, (3-t, t,0),\n",
    "                 name='psi1',latex_name=r'\\psi1')\n",
    "psi1.pullback(a).disp()"
   ]
  },
  {
   "cell_type": "code",
   "execution_count": 32,
   "id": "89196101",
   "metadata": {},
   "outputs": [
    {
     "data": {
      "text/html": [
       "<html>\\(\\displaystyle \\left( 3 \\, t + 3 \\right) \\mathrm{d} t\\)</html>"
      ],
      "text/latex": [
       "$\\displaystyle \\left( 3 \\, t + 3 \\right) \\mathrm{d} t$"
      ],
      "text/plain": [
       "(3*t + 3) dt"
      ]
     },
     "execution_count": 32,
     "metadata": {},
     "output_type": "execute_result"
    }
   ],
   "source": [
    "psi2 = N.diff_map(M, (0, 3-t,t),\n",
    "                 name='psi2',latex_name=r'\\psi2')\n",
    "psi2.pullback(a).disp()"
   ]
  },
  {
   "cell_type": "code",
   "execution_count": 33,
   "id": "b0e9806b",
   "metadata": {},
   "outputs": [
    {
     "data": {
      "text/html": [
       "<html>\\(\\displaystyle \\left( 4 \\, t - 9 \\right) \\mathrm{d} t\\)</html>"
      ],
      "text/latex": [
       "$\\displaystyle \\left( 4 \\, t - 9 \\right) \\mathrm{d} t$"
      ],
      "text/plain": [
       "(4*t - 9) dt"
      ]
     },
     "execution_count": 33,
     "metadata": {},
     "output_type": "execute_result"
    }
   ],
   "source": [
    "psi3 = N.diff_map(M, (t, 0,3-t),\n",
    "                 name='psi3',latex_name=r'\\psi3')\n",
    "psi3.pullback(a).disp()"
   ]
  },
  {
   "cell_type": "markdown",
   "id": "fb41ecaa",
   "metadata": {},
   "source": [
    "According to (reparametrized version of) (20.16), the integral of 1-form $a$ over 1-chain $c$ is equal to \n",
    "\n",
    "$$\\textstyle\\int_{\\psi_1}a+\\int_{\\psi_2}a+\\int_{\\psi_3}a=\\int_{[0,3]}\\psi_1^*a+\\int_{[0,3]}\\psi_2^*a+\\int_{[0,3]}\\psi_3^*a\\\\\n",
    "=\\int_0^3 ((-2t+3)+(3t+3)+(4t-9))dt.\n",
    "$$\n"
   ]
  },
  {
   "cell_type": "code",
   "execution_count": 34,
   "id": "bec112ba",
   "metadata": {},
   "outputs": [
    {
     "data": {
      "text/html": [
       "<html>\\(\\displaystyle \\frac{27}{2}\\)</html>"
      ],
      "text/latex": [
       "$\\displaystyle \\frac{27}{2}$"
      ],
      "text/plain": [
       "27/2"
      ]
     },
     "execution_count": 34,
     "metadata": {},
     "output_type": "execute_result"
    }
   ],
   "source": [
    "integrate((-2*t+3)+(3*t+3)+(4*t-9),(t,0,3))"
   ]
  },
  {
   "cell_type": "markdown",
   "id": "9e73fe1a",
   "metadata": {},
   "source": [
    "<br>\n",
    "\n",
    "### Stokes theorem for chains\n",
    "\n",
    "<br>\n",
    "\n",
    "Extending Stokes theorem to $k$-chains is easy, since  for $k$-chain $c=\\sum a_i\\phi_i$, where $\\phi_i$ are singular $k$-cubes in an open set $V$ and for  $(k-1)$-form $\\omega$ in $V$,  we have by (20.14) and (20.23)\n",
    "\n",
    "$$ \\int_c d\\omega=\\sum a_i\\int_{\\phi_i} d\\omega=\\sum a_i\\int_{\\partial \\phi_i}\\omega=\\int_{\\partial c}\\omega.$$"
   ]
  },
  {
   "cell_type": "markdown",
   "id": "5b50e592",
   "metadata": {},
   "source": [
    "<br>\n",
    "\n",
    "**Remark.** In case of problems, some  iterated integrals can  be also computed with the help of  https://www.wolframalpha.com/ \n",
    "\n",
    "For example the command (without #):"
   ]
  },
  {
   "cell_type": "code",
   "execution_count": 35,
   "id": "cef18310",
   "metadata": {},
   "outputs": [],
   "source": [
    "#integrate(integrate(integrate(2*exp(x+y)*sin(y), (z,0,1-x-y)), (y,0,1-x)), (x,0,1))"
   ]
  },
  {
   "cell_type": "markdown",
   "id": "d9020dfc",
   "metadata": {},
   "source": [
    "in wolframalpha window returns\n",
    "\n",
    "$$\\int_0^1\\int_0^{1-x}\\int_0^{1-x-y}2\\exp(x+y)\\sin(y)\\;dzdydx=\n",
    "-3-e(\\sin(1)-2).$$"
   ]
  },
  {
   "cell_type": "markdown",
   "id": "1d6a2f4a",
   "metadata": {},
   "source": [
    "**Remark**. Computing iterated integrals, SageMath (or strictly speaking Maxima) may need some assumptions, for example:"
   ]
  },
  {
   "cell_type": "code",
   "execution_count": 36,
   "id": "5c199957",
   "metadata": {},
   "outputs": [
    {
     "data": {
      "text/html": [
       "<html>\\(\\displaystyle -\\frac{2}{15} \\, \\cos\\left(2\\right) e + \\frac{1}{3} \\, \\cos\\left(1\\right) e + \\frac{1}{15} \\, e \\sin\\left(2\\right) - \\frac{1}{3} \\, e \\sin\\left(1\\right) - \\frac{1}{5}\\)</html>"
      ],
      "text/latex": [
       "$\\displaystyle -\\frac{2}{15} \\, \\cos\\left(2\\right) e + \\frac{1}{3} \\, \\cos\\left(1\\right) e + \\frac{1}{15} \\, e \\sin\\left(2\\right) - \\frac{1}{3} \\, e \\sin\\left(1\\right) - \\frac{1}{5}$"
      ],
      "text/plain": [
       "-2/15*cos(2)*e + 1/3*cos(1)*e + 1/15*e*sin(2) - 1/3*e*sin(1) - 1/5"
      ]
     },
     "execution_count": 36,
     "metadata": {},
     "output_type": "execute_result"
    }
   ],
   "source": [
    "%display latex\n",
    "var('x y z')\n",
    "forget()\n",
    "assume(y+x-1<0)\n",
    "assume(x-1<0)\n",
    "integrate(integrate(integrate(2*exp(x+y+z)*sin(x-2*z),(z,0,1-x-y)),(y,0,1-x)),(x,0,1))"
   ]
  }
 ],
 "metadata": {
  "kernelspec": {
   "display_name": "SageMath 9.6",
   "language": "sage",
   "name": "sagemath"
  },
  "language_info": {
   "codemirror_mode": {
    "name": "ipython",
    "version": 3
   },
   "file_extension": ".py",
   "mimetype": "text/x-python",
   "name": "python",
   "nbconvert_exporter": "python",
   "pygments_lexer": "ipython3",
   "version": "3.8.10"
  }
 },
 "nbformat": 4,
 "nbformat_minor": 5
}
